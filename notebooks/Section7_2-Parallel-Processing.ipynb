{
 "metadata": {
  "name": ""
 },
 "nbformat": 3,
 "nbformat_minor": 0,
 "worksheets": [
  {
   "cells": [
    {
     "cell_type": "markdown",
     "metadata": {},
     "source": [
      "# Parallel Processing in Python\n",
      "\n",
      "An obvious way to improve the performance of Python code is to make it run in parallel. Any relatively new computer will have multiple cores, which means that several processors can operate on the same data stored on memory. However, most of the code we have written in the course so far does not take advantage of more than one of them. In addition there is now widespread availability of computing clusters, such as [those offered for use by Amazon](http://aws.amazon.com/ec2/) (Vanderbilt also has [its own cluster](http://www.accre.vanderbilt.edu)). Clusters allow several computers to work together by exchanging data over a network.\n",
      "\n",
      "Parallel computing involves breaking a task into several independent sub-tasks, distributing these sub-tasks to available processors or computers, then coordinating the execution of these tasks and combining their outputs in an appropriate way.\n",
      "\n",
      "There are several different models for parallel processing, including:\n",
      "\n",
      "* **Message passing**: processes or other program components running in parallel communicate by sending and receiving messages, which allows for easy synchronization. \n",
      "* **Multi-threading**: within a single process, some architectures allow for the existence of several \"threads\", which execute independently, though they share the memory and state of the process in which they reside. Multi-threading is good for increasing *throughput* and reducing *latency*.\n",
      "* **Task farming**: a master process delegates independent calculations to available processors (task farm), and collects their outputs when complete.\n",
      "* **Single program, multiple data (SPMD)** Probably the most common type of parallel processing, in which tasks are split up and run simultaneously on multiple processors with different input in order to obtain results faster. All tasks execute their copy of the same program simultaneously.\n",
      "* **Multiple program, multiple data (MPMD)** Like SPMD, except each task may be executing a different program."
     ]
    },
    {
     "cell_type": "markdown",
     "metadata": {},
     "source": [
      "## `multiprocessing`\n",
      "\n",
      "The simplest way (though probably not the best) for performing parallel computing in Python is via the built-in process-based library for concurrent computing, called `multiprocessing`. "
     ]
    },
    {
     "cell_type": "code",
     "collapsed": false,
     "input": [
      "import multiprocessing\n",
      "import os\n",
      "import numpy as np"
     ],
     "language": "python",
     "metadata": {},
     "outputs": [],
     "prompt_number": 1
    },
    {
     "cell_type": "markdown",
     "metadata": {},
     "source": [
      "The `multiprocessing` module parallelizes by launching multiple *processes*, each with a seperate interpretor. You may have already heard about *threads*. Processes and threads are not the same:\n",
      "\n",
      "* processes are independent of one another, each having their own state, memory and address spaces\n",
      "* threads share resources, and are therefore interdependent; they are subunits of the same process\n",
      "\n",
      "Since processes are independent, they now have independent Global Interpreter Locks (GILs),  its best to run multiprocessing on multiple CPUs. You can check how many you have on your machine:"
     ]
    },
    {
     "cell_type": "code",
     "collapsed": false,
     "input": [
      "multiprocessing.cpu_count()"
     ],
     "language": "python",
     "metadata": {},
     "outputs": [
      {
       "metadata": {},
       "output_type": "pyout",
       "prompt_number": 2,
       "text": [
        "4"
       ]
      }
     ],
     "prompt_number": 2
    },
    {
     "cell_type": "markdown",
     "metadata": {},
     "source": [
      "### `Process` class\n",
      "\n",
      "The `Process` class encapsulates a task running in a process. It will usually have a `target` argument that is some callable (function/method) that is executed when the process runs, along with optional arguments that can be passed to the target.\n",
      "\n",
      "A `Process` has several methods, with some useful ones being:\n",
      "\n",
      "* `is_alive`: Returns `True` if the process is running.\n",
      "* `join`: Waits for the process to finish its work and terminate. An optional `timeout` argument can be passed.\n",
      "* `run`: When the process starts, this method is called to invoke the `target`.\n",
      "* `terminate`: Kills the process forcibly, without any cleanup.\n",
      "\n",
      "A `Process` also has several other non-callable attributes, such as `pid`, `name` and `authkey`.\n",
      "\n",
      "Here is a trivial example of using the `Process` class, showing that each has its own process ID."
     ]
    },
    {
     "cell_type": "code",
     "collapsed": false,
     "input": [
      "import os\n",
      "\n",
      "def job(n):\n",
      "    print('I am working on job {0} running on PID {1}'.format(n, os.getpid()))\n",
      "\n",
      "jobs = []\n",
      "for i in range(5):\n",
      "    p = multiprocessing.Process(target=job, args=(i,))\n",
      "    jobs.append(p)\n",
      "    p.start()"
     ],
     "language": "python",
     "metadata": {},
     "outputs": [],
     "prompt_number": 3
    },
    {
     "cell_type": "code",
     "collapsed": false,
     "input": [
      "jobs"
     ],
     "language": "python",
     "metadata": {},
     "outputs": [
      {
       "output_type": "stream",
       "stream": "stdout",
       "text": [
        "I am working on job 0 running on PID 47047\n",
        "I am working on job 1 running on PID 47048\n",
        "I am working on job 2 running on PID 47049\n",
        "I am working on job 3 running on PID 47050\n",
        "I am working on job 4 running on PID 47051\n"
       ]
      },
      {
       "metadata": {},
       "output_type": "pyout",
       "prompt_number": 4,
       "text": [
        "[<Process(Process-1, stopped)>,\n",
        " <Process(Process-2, stopped)>,\n",
        " <Process(Process-3, stopped)>,\n",
        " <Process(Process-4, stopped)>,\n",
        " <Process(Process-5, stopped)>]"
       ]
      }
     ],
     "prompt_number": 4
    },
    {
     "cell_type": "markdown",
     "metadata": {},
     "source": [
      "We can easily subclass `Process` to our liking:"
     ]
    },
    {
     "cell_type": "code",
     "collapsed": false,
     "input": [
      "class FibProcess(multiprocessing.Process):\n",
      "    \n",
      "    def __init__(self, n):\n",
      "        self.n = n\n",
      "        multiprocessing.Process.__init__(self)\n",
      "        \n",
      "    def run(self):\n",
      "        a, b = 0, 1\n",
      "        for i in range(self.n):\n",
      "            a, b = b, a + b"
     ],
     "language": "python",
     "metadata": {},
     "outputs": [],
     "prompt_number": 5
    },
    {
     "cell_type": "code",
     "collapsed": false,
     "input": [
      "p = FibProcess(10000)\n",
      "p.start()\n",
      "print(p.pid)\n",
      "p.join()\n",
      "print(p.exitcode)"
     ],
     "language": "python",
     "metadata": {},
     "outputs": [
      {
       "output_type": "stream",
       "stream": "stdout",
       "text": [
        "47055\n",
        "0\n"
       ]
      }
     ],
     "prompt_number": 6
    },
    {
     "cell_type": "markdown",
     "metadata": {},
     "source": [
      "### `Queue` class\n",
      "\n",
      "Of course, despite being independent, we would like our processes to communicate with one another, for example, to share data. One way to facilitate this in `multiprocessing` is via the `Queue` class, a thread/process safe, first-in-first-out (FIFO) data structure that can store any serializable Python object.\n",
      "\n",
      "A `Queue`'s important methods include:\n",
      "\n",
      "* `put`: Adds item to `Queue`.\n",
      "* `get`: Fetchs next item from `Queue`.\n",
      "* `close`: Closes the `Queue`, preventing the addition of more data.\n",
      "* `empty`: Returns True if the `Queue` is empty.\n",
      "* `full`: Returns True if full.\n",
      "* `qsize`: Retuns approximate current number of items in `Queue`.\n",
      "\n",
      "A subclass of `Queue` is the `JoinableQueue`, which has additional methods, notably `join`, which waits until all the items have been processed, blocking the addition of new items.\n"
     ]
    },
    {
     "cell_type": "code",
     "collapsed": false,
     "input": [
      "from multiprocessing import Queue\n",
      "\n",
      "q = Queue()\n",
      "\n",
      "q.put(-1)\n",
      "q.put('foobar')\n",
      "q.put(5)\n",
      "\n",
      "print(q.get())\n",
      "print(q.get())"
     ],
     "language": "python",
     "metadata": {},
     "outputs": [
      {
       "output_type": "stream",
       "stream": "stdout",
       "text": [
        "-1\n",
        "foobar\n"
       ]
      }
     ],
     "prompt_number": 7
    },
    {
     "cell_type": "code",
     "collapsed": false,
     "input": [
      "def consumer(q):\n",
      "    while True:\n",
      "        thing = q.get()\n",
      "        if thing is None:\n",
      "            break\n",
      "        print('Consuming {}'.format(thing))\n",
      "    print(\"\\nFinished consuming\")\n",
      "    \n",
      "def producer(sequence, q):\n",
      "    for thing in sequence:\n",
      "        q.put(thing)\n",
      "        \n",
      "queue = multiprocessing.Queue()\n",
      "\n",
      "consumer_process = multiprocessing.Process(target=consumer, args=[queue])\n",
      "consumer_process.start()\n",
      "\n",
      "stuff = [42, 'foobar', True, range(5)]\n",
      "producer(stuff, queue)\n",
      "\n",
      "queue.put(None)\n",
      "consumer_process.join()"
     ],
     "language": "python",
     "metadata": {},
     "outputs": [
      {
       "output_type": "stream",
       "stream": "stdout",
       "text": [
        "Consuming 42\n",
        "Consuming foobar\n",
        "Consuming True\n",
        "Consuming [0, 1, 2, 3, 4]\n",
        "\n",
        "Finished consuming\n"
       ]
      }
     ],
     "prompt_number": 8
    },
    {
     "cell_type": "markdown",
     "metadata": {},
     "source": [
      "Two things to be aware of:\n",
      "\n",
      "1. if you `terminate` a process that is still accessing a queue, the queue may become corrupted\n",
      "2. you should make sure that any queue to which a given process has given data is clear before joining the process, or you will get a deadlock condition\n",
      "\n",
      "### `Pool` class\n",
      "\n",
      "We often have a task that we want to split up among several worker processes in parallel. The `Pool` class creates a number of processes and the methods for passing work to them. A `Pool` has the following key methods:\n",
      "\n",
      "* `apply`: Executes a passed function in a process and returns the result.\n",
      "* `apply_async`: Same as apply, but the result is returned asynchrnously via a *callback*\n",
      "* `map`: A parallel version of `apply`, which splits an iterable of data into chunks and farms chunks out to processes.\n",
      "* `map_async`: Asynchronous `map`."
     ]
    },
    {
     "cell_type": "markdown",
     "metadata": {},
     "source": [
      "### Example: parallel bootstrap\n",
      "\n",
      "As an example, we will choose a statistical computing task that is [*embarassingly parallel*](http://en.wikipedia.org/wiki/Embarrassingly_parallel). This function generates statistics of bootstrapped samples from a dataset."
     ]
    },
    {
     "cell_type": "code",
     "collapsed": false,
     "input": [
      "def bootstrap(data, nsamples, f):\n",
      "    boot_samples = data[np.random.randint(len(data), size=(nsamples, len(data)))]\n",
      "    return [f(s) for s in boot_samples]"
     ],
     "language": "python",
     "metadata": {},
     "outputs": [],
     "prompt_number": 9
    },
    {
     "cell_type": "code",
     "collapsed": false,
     "input": [
      "pool = multiprocessing.Pool(processes=4)"
     ],
     "language": "python",
     "metadata": {},
     "outputs": [],
     "prompt_number": 10
    },
    {
     "cell_type": "code",
     "collapsed": false,
     "input": [
      "some_data = np.random.poisson(4, 25)"
     ],
     "language": "python",
     "metadata": {},
     "outputs": [],
     "prompt_number": 11
    },
    {
     "cell_type": "code",
     "collapsed": false,
     "input": [
      "result = pool.apply_async(bootstrap, (some_data, 1000, np.mean))"
     ],
     "language": "python",
     "metadata": {},
     "outputs": [],
     "prompt_number": 12
    },
    {
     "cell_type": "markdown",
     "metadata": {},
     "source": [
      "The result is an `ApplyResult` object:"
     ]
    },
    {
     "cell_type": "code",
     "collapsed": false,
     "input": [
      "result"
     ],
     "language": "python",
     "metadata": {},
     "outputs": [
      {
       "metadata": {},
       "output_type": "pyout",
       "prompt_number": 13,
       "text": [
        "<multiprocessing.pool.ApplyResult at 0x10c4d6e10>"
       ]
      }
     ],
     "prompt_number": 13
    },
    {
     "cell_type": "markdown",
     "metadata": {},
     "source": [
      "We may then want to take the result and calculate a confidence interval based on the quantiles."
     ]
    },
    {
     "cell_type": "code",
     "collapsed": false,
     "input": [
      "bootstrap_ci = lambda boot, alpha=0.05: (boot[np.floor((0.5*alpha)*len(boot))],\n",
      "            boot[np.floor((1.-0.5*alpha)*len(boot))])"
     ],
     "language": "python",
     "metadata": {},
     "outputs": [],
     "prompt_number": 14
    },
    {
     "cell_type": "code",
     "collapsed": false,
     "input": [
      "bootstrap_ci(np.sort(result.get()))"
     ],
     "language": "python",
     "metadata": {},
     "outputs": [
      {
       "metadata": {},
       "output_type": "pyout",
       "prompt_number": 15,
       "text": [
        "(3.1200000000000001, 4.3600000000000003)"
       ]
      }
     ],
     "prompt_number": 15
    },
    {
     "cell_type": "code",
     "collapsed": false,
     "input": [
      "# Clean up\n",
      "pool.close()\n",
      "pool.join()"
     ],
     "language": "python",
     "metadata": {},
     "outputs": [],
     "prompt_number": 16
    },
    {
     "cell_type": "markdown",
     "metadata": {},
     "source": [
      "But, since we used `Pool.apply`, this is not a parallel task. We need to use `map`."
     ]
    },
    {
     "cell_type": "code",
     "collapsed": false,
     "input": [
      "def mapped_bootstrap(n): \n",
      "    return bootstrap(some_data, n, np.mean)"
     ],
     "language": "python",
     "metadata": {},
     "outputs": [],
     "prompt_number": 17
    },
    {
     "cell_type": "code",
     "collapsed": false,
     "input": [
      "pool = multiprocessing.Pool(processes=4)"
     ],
     "language": "python",
     "metadata": {},
     "outputs": [],
     "prompt_number": 18
    },
    {
     "cell_type": "code",
     "collapsed": false,
     "input": [
      "map_result = pool.map_async(mapped_bootstrap, [250]*4)"
     ],
     "language": "python",
     "metadata": {},
     "outputs": [],
     "prompt_number": 19
    },
    {
     "cell_type": "code",
     "collapsed": false,
     "input": [
      "map_result"
     ],
     "language": "python",
     "metadata": {},
     "outputs": [
      {
       "metadata": {},
       "output_type": "pyout",
       "prompt_number": 20,
       "text": [
        "<multiprocessing.pool.MapResult at 0x10c9d3e50>"
       ]
      }
     ],
     "prompt_number": 20
    },
    {
     "cell_type": "code",
     "collapsed": false,
     "input": [
      "parallel_results = map_result.get()\n",
      "[len(p) for p in parallel_results]"
     ],
     "language": "python",
     "metadata": {},
     "outputs": [
      {
       "metadata": {},
       "output_type": "pyout",
       "prompt_number": 21,
       "text": [
        "[250, 250, 250, 250]"
       ]
      }
     ],
     "prompt_number": 21
    },
    {
     "cell_type": "code",
     "collapsed": false,
     "input": [
      "bootstrap_ci(np.sort(np.ravel(parallel_results)))"
     ],
     "language": "python",
     "metadata": {},
     "outputs": [
      {
       "metadata": {},
       "output_type": "pyout",
       "prompt_number": 22,
       "text": [
        "(3.0800000000000001, 4.4000000000000004)"
       ]
      }
     ],
     "prompt_number": 22
    },
    {
     "cell_type": "code",
     "collapsed": false,
     "input": [
      "pool.close()\n",
      "pool.join()"
     ],
     "language": "python",
     "metadata": {},
     "outputs": [],
     "prompt_number": 23
    },
    {
     "cell_type": "markdown",
     "metadata": {},
     "source": [
      "The multiprocessing package is very useful for highly parallel tasks that do not need to communicate with each other, other than when sending the initial data to the pool of processes and when and collecting the results. "
     ]
    },
    {
     "cell_type": "markdown",
     "metadata": {},
     "source": [
      "## IPython parallel\n",
      "\n",
      "The IPython architecture consists of four components, which reside in the `IPython.parallel` package:\n",
      "\n",
      "1. **Engine** The IPython engine is a Python instance that accepts Python commands over a network connection.  When multiple engines are started, parallel and distributed computing becomes possible. An important property of an IPython engine is that it blocks while user code is being executed. \n",
      "\n",
      "2. **Hub** The hub keeps track of engine connections, schedulers, clients, as well as persist all task requests and results in a database for later use.\n",
      "\n",
      "3. **Schedulers** All actions that can be performed on the engine go through a Scheduler. While the engines themselves block when user code is run, the schedulers hide that from the user to provide a fully asynchronous interface to a set of engines.\n",
      "\n",
      "4. **Client** The primary object for connecting to a cluster.\n",
      "\n",
      "![IPython architecture](images/ipython_architecture.png)\n",
      "(courtesy Min Ragan-Kelley)\n",
      "\n",
      "This architecture is implemented using the \u00d8MQ messaging library and the associated Pytohn bindings in `pyzmq`.\n",
      "\n",
      "## Start your engines!\n",
      "\n",
      "In order to use IPython for parallel computing, you will need to start the IPython\n",
      "controller and two or more IPython engines. The simplest way of doing this is\n",
      "with the [clusters tab](/#tab2), or you can use the `ipcluster` command in a terminal:\n",
      "\n",
      "    $ ipcluster start --n=4\n",
      "\n",
      "This command will start 4 IPython engines on the current host, which is appropriate for many desktop multicore systems. You can also setup IPython clusters that span many nodes in a computing cluster, but this is beyond the scope of this lecture, but you can get more information from \n",
      "[the IPython.parallel docs](http://ipython.org/ipython-doc/dev/parallel/parallel_process.html)..\n",
      "\n",
      "To use the IPython cluster in our Python programs or notebooks, we start by creating an instance of `IPython.parallel.Client`:"
     ]
    },
    {
     "cell_type": "code",
     "collapsed": false,
     "input": [
      "from IPython.parallel import Client"
     ],
     "language": "python",
     "metadata": {},
     "outputs": [],
     "prompt_number": 24
    },
    {
     "cell_type": "code",
     "collapsed": false,
     "input": [
      "cli = Client()"
     ],
     "language": "python",
     "metadata": {},
     "outputs": [],
     "prompt_number": 25
    },
    {
     "cell_type": "markdown",
     "metadata": {},
     "source": [
      "This creates a client using the default profile; you can pass an optional `profile=\"my_profile\"` argument if you have a different one running.\n",
      "\n",
      "Using the `ids` attribute we can retreive a list of ids for the IPython engines in the cluster:"
     ]
    },
    {
     "cell_type": "code",
     "collapsed": false,
     "input": [
      "cli.ids"
     ],
     "language": "python",
     "metadata": {},
     "outputs": [
      {
       "metadata": {},
       "output_type": "pyout",
       "prompt_number": 26,
       "text": [
        "[0, 1, 2, 3]"
       ]
      }
     ],
     "prompt_number": 26
    },
    {
     "cell_type": "markdown",
     "metadata": {},
     "source": [
      "We can use a `DirectView` object for execution of tasks, which an be accessed simply by indexing the client:"
     ]
    },
    {
     "cell_type": "code",
     "collapsed": false,
     "input": [
      "dv0 = cli[0]\n",
      "dv0"
     ],
     "language": "python",
     "metadata": {},
     "outputs": [
      {
       "metadata": {},
       "output_type": "pyout",
       "prompt_number": 27,
       "text": [
        "<DirectView 0>"
       ]
      }
     ],
     "prompt_number": 27
    },
    {
     "cell_type": "markdown",
     "metadata": {},
     "source": [
      "The above shows just a single engine, but we want all of them:"
     ]
    },
    {
     "cell_type": "code",
     "collapsed": false,
     "input": [
      "dview = cli[:]\n",
      "dview"
     ],
     "language": "python",
     "metadata": {},
     "outputs": [
      {
       "metadata": {},
       "output_type": "pyout",
       "prompt_number": 28,
       "text": [
        "<DirectView [0, 1, 2, 3]>"
       ]
      }
     ],
     "prompt_number": 28
    },
    {
     "cell_type": "markdown",
     "metadata": {},
     "source": [
      "We can get a view on whatever combination of engines we want:"
     ]
    },
    {
     "cell_type": "code",
     "collapsed": false,
     "input": [
      "cli[::2]"
     ],
     "language": "python",
     "metadata": {},
     "outputs": [
      {
       "metadata": {},
       "output_type": "pyout",
       "prompt_number": 29,
       "text": [
        "<DirectView [0, 2]>"
       ]
      }
     ],
     "prompt_number": 29
    },
    {
     "cell_type": "code",
     "collapsed": false,
     "input": [
      "cli[1::2]"
     ],
     "language": "python",
     "metadata": {},
     "outputs": [
      {
       "metadata": {},
       "output_type": "pyout",
       "prompt_number": 30,
       "text": [
        "<DirectView [1, 3]>"
       ]
      }
     ],
     "prompt_number": 30
    },
    {
     "cell_type": "markdown",
     "metadata": {},
     "source": [
      "The `block` flag specifies whether to wait for the result, or return an `AsyncResult` object immediately:"
     ]
    },
    {
     "cell_type": "code",
     "collapsed": false,
     "input": [
      "dview.block = True"
     ],
     "language": "python",
     "metadata": {},
     "outputs": [],
     "prompt_number": 31
    },
    {
     "cell_type": "markdown",
     "metadata": {},
     "source": [
      "Finally, since we want to use IPython's parallel magic commands, we set the `DirectView` to be `active`:"
     ]
    },
    {
     "cell_type": "code",
     "collapsed": false,
     "input": [
      "dview.activate()"
     ],
     "language": "python",
     "metadata": {},
     "outputs": [],
     "prompt_number": 32
    },
    {
     "cell_type": "markdown",
     "metadata": {},
     "source": [
      "Each of these engines are ready to execute tasks. We can selectively run code on individual engines. For example, we can simply use `os.getpid` to return the process ID that the engine is running on. Here is the notebook process:"
     ]
    },
    {
     "cell_type": "code",
     "collapsed": false,
     "input": [
      "os.getpid()"
     ],
     "language": "python",
     "metadata": {},
     "outputs": [
      {
       "metadata": {},
       "output_type": "pyout",
       "prompt_number": 33,
       "text": [
        "47030"
       ]
      }
     ],
     "prompt_number": 33
    },
    {
     "cell_type": "markdown",
     "metadata": {},
     "source": [
      "Here is a single engine's process ID:"
     ]
    },
    {
     "cell_type": "code",
     "collapsed": false,
     "input": [
      "dv0.apply_sync(os.getpid)"
     ],
     "language": "python",
     "metadata": {},
     "outputs": [
      {
       "metadata": {},
       "output_type": "pyout",
       "prompt_number": 34,
       "text": [
        "47038"
       ]
      }
     ],
     "prompt_number": 34
    },
    {
     "cell_type": "markdown",
     "metadata": {},
     "source": [
      "And here are all the engines, run simultaneously:"
     ]
    },
    {
     "cell_type": "code",
     "collapsed": false,
     "input": [
      "dview.apply_sync(os.getpid)"
     ],
     "language": "python",
     "metadata": {},
     "outputs": [
      {
       "metadata": {},
       "output_type": "pyout",
       "prompt_number": 35,
       "text": [
        "[47038, 47039, 47040, 47041]"
       ]
      }
     ],
     "prompt_number": 35
    },
    {
     "cell_type": "markdown",
     "metadata": {},
     "source": [
      "Let's now consider a useful function that we might want to run in parallel. Here is a version of the approximate Bayesian computing (ABC) algorithm that we have seen in previous lectures."
     ]
    },
    {
     "cell_type": "code",
     "collapsed": false,
     "input": [
      "import numpy\n",
      "\n",
      "def abc(y, N, epsilon=[0.2, 0.8]):\n",
      "\n",
      "    trace = []\n",
      "\n",
      "    while len(trace) < N:\n",
      "\n",
      "        # Simulate from priors\n",
      "        mu = numpy.random.normal(0, 10)\n",
      "        sigma = numpy.random.uniform(0, 20)\n",
      "\n",
      "        x = numpy.random.normal(mu, sigma, 50)\n",
      "\n",
      "        #if (np.linalg.norm(y - x) < epsilon):\n",
      "        if ((abs(x.mean() - y.mean()) < epsilon[0]) &\n",
      "            (abs(x.std() - y.std()) < epsilon[1])):\n",
      "            trace.append([mu, sigma])\n",
      "\n",
      "    return trace"
     ],
     "language": "python",
     "metadata": {},
     "outputs": [],
     "prompt_number": 36
    },
    {
     "cell_type": "code",
     "collapsed": false,
     "input": [
      "y = np.random.normal(4, 2, 50)"
     ],
     "language": "python",
     "metadata": {},
     "outputs": [],
     "prompt_number": 37
    },
    {
     "cell_type": "markdown",
     "metadata": {},
     "source": [
      "Let's try running this on one of the cluster engines:"
     ]
    },
    {
     "cell_type": "code",
     "collapsed": false,
     "input": [
      "dv0.block = True\n",
      "dv0.apply(abc, y, 10)"
     ],
     "language": "python",
     "metadata": {},
     "outputs": [
      {
       "ename": "RemoteError",
       "evalue": "NameError(global name 'numpy' is not defined)",
       "output_type": "pyerr",
       "traceback": [
        "\u001b[0;31m---------------------------------------------------------------------------\u001b[0m",
        "\u001b[0;31mNameError\u001b[0m                                 Traceback (most recent call last)\u001b[0;32m<string>\u001b[0m in \u001b[0;36m<module>\u001b[0;34m()\u001b[0m",
        "\u001b[0;32m<ipython-input-36-8c68243c2f97>\u001b[0m in \u001b[0;36mabc\u001b[0;34m(y, N, epsilon)\u001b[0m",
        "\u001b[0;31mNameError\u001b[0m: global name 'numpy' is not defined"
       ]
      }
     ],
     "prompt_number": 38
    },
    {
     "cell_type": "markdown",
     "metadata": {},
     "source": [
      "This fails with a `NameError` because NumPy has not been imported on the engine to which we sent the task. Each engine has its own namespace, so we need to import whatever modules we will need  prior to running our code:"
     ]
    },
    {
     "cell_type": "code",
     "collapsed": false,
     "input": [
      "cli[0].execute(\"import numpy\")"
     ],
     "language": "python",
     "metadata": {},
     "outputs": [
      {
       "metadata": {},
       "output_type": "pyout",
       "prompt_number": 39,
       "text": [
        "<AsyncResult: execute>"
       ]
      }
     ],
     "prompt_number": 39
    },
    {
     "cell_type": "code",
     "collapsed": false,
     "input": [
      "dv0.apply(abc, y, 10)"
     ],
     "language": "python",
     "metadata": {},
     "outputs": [
      {
       "metadata": {},
       "output_type": "pyout",
       "prompt_number": 40,
       "text": [
        "[[3.782399224336093, 2.352941910113615],\n",
        " [3.4539665855877506, 1.2522032700642027],\n",
        " [3.3295634542213213, 2.113010934612778],\n",
        " [3.668515760053799, 1.9524596915088988],\n",
        " [3.369183052606365, 1.2714552418881175],\n",
        " [3.5601249383858686, 1.5847377302695875],\n",
        " [3.9226616401192627, 1.5288240685789978],\n",
        " [4.167498565990489, 2.3671321219381847],\n",
        " [3.0768680531499686, 2.143726374514323],\n",
        " [3.019986754009041, 1.282366648557045]]"
       ]
      }
     ],
     "prompt_number": 40
    },
    {
     "cell_type": "markdown",
     "metadata": {},
     "source": [
      "A more efficient way is to simultaneously import modules into the local and the engine namespaces simultaneously, using a context manager:"
     ]
    },
    {
     "cell_type": "code",
     "collapsed": false,
     "input": [
      "with dview.sync_imports():\n",
      "    import numpy"
     ],
     "language": "python",
     "metadata": {},
     "outputs": [
      {
       "output_type": "stream",
       "stream": "stdout",
       "text": [
        "importing numpy on engine(s)\n"
       ]
      }
     ],
     "prompt_number": 41
    },
    {
     "cell_type": "code",
     "collapsed": false,
     "input": [
      "t = dview.apply(abc, y, 10)"
     ],
     "language": "python",
     "metadata": {},
     "outputs": [],
     "prompt_number": 42
    },
    {
     "cell_type": "markdown",
     "metadata": {},
     "source": [
      "Easier yet, you can use the parallel cell magic to import everywhere:"
     ]
    },
    {
     "cell_type": "code",
     "collapsed": false,
     "input": [
      "%%px\n",
      "import numpy"
     ],
     "language": "python",
     "metadata": {},
     "outputs": [],
     "prompt_number": 43
    },
    {
     "cell_type": "markdown",
     "metadata": {},
     "source": [
      "You can also use the `require` decorator for functions that you wish to use on engines."
     ]
    },
    {
     "cell_type": "code",
     "collapsed": false,
     "input": [
      "from IPython.parallel import require\n",
      "\n",
      "@require(\"numpy\")\n",
      "def abc(y, N, epsilon=[0.2, 0.8]):\n",
      "\n",
      "    trace = []\n",
      "\n",
      "    while len(trace) < N:\n",
      "\n",
      "        # Simulate from priors\n",
      "        mu = numpy.random.normal(0, 10)\n",
      "        sigma = numpy.random.uniform(0, 20)\n",
      "\n",
      "        x = numpy.random.normal(mu, sigma, 50)\n",
      "\n",
      "        #if (np.linalg.norm(y - x) < epsilon):\n",
      "        if ((abs(x.mean() - y.mean()) < epsilon[0]) &\n",
      "            (abs(x.std() - y.std()) < epsilon[1])):\n",
      "            trace.append([mu, sigma])\n",
      "\n",
      "    return trace"
     ],
     "language": "python",
     "metadata": {},
     "outputs": [],
     "prompt_number": 44
    },
    {
     "cell_type": "markdown",
     "metadata": {},
     "source": [
      "A simple way to run code on an engine is via the `execute` method:"
     ]
    },
    {
     "cell_type": "code",
     "collapsed": false,
     "input": [
      "dv0.execute('x=3')"
     ],
     "language": "python",
     "metadata": {},
     "outputs": [
      {
       "metadata": {},
       "output_type": "pyout",
       "prompt_number": 45,
       "text": [
        "<AsyncResult: finished>"
       ]
      }
     ],
     "prompt_number": 45
    },
    {
     "cell_type": "code",
     "collapsed": false,
     "input": [
      "dv0['x']"
     ],
     "language": "python",
     "metadata": {},
     "outputs": [
      {
       "metadata": {},
       "output_type": "pyout",
       "prompt_number": 46,
       "text": [
        "3"
       ]
      }
     ],
     "prompt_number": 46
    },
    {
     "cell_type": "markdown",
     "metadata": {},
     "source": [
      "### Data transfer\n",
      "\n",
      "We will often want to send data to our engines, or retrieve objects from them. `DirectView` has `push` and `pull` methods for achieving this.\n",
      "\n",
      "Recall that Python namespaces are just dictionaries. So, we can update an engine's namespace by pushing a dictionary:"
     ]
    },
    {
     "cell_type": "code",
     "collapsed": false,
     "input": [
      "dv0.push({'foo': -3, 'bar': np.arange(10)})"
     ],
     "language": "python",
     "metadata": {},
     "outputs": [],
     "prompt_number": 47
    },
    {
     "cell_type": "code",
     "collapsed": false,
     "input": [
      "dv0.pull(('x', 'bar'))"
     ],
     "language": "python",
     "metadata": {},
     "outputs": [
      {
       "metadata": {},
       "output_type": "pyout",
       "prompt_number": 48,
       "text": [
        "[3, array([0, 1, 2, 3, 4, 5, 6, 7, 8, 9])]"
       ]
      }
     ],
     "prompt_number": 48
    },
    {
     "cell_type": "markdown",
     "metadata": {},
     "source": [
      "Additionally, `DirectView` objects also have `scatter` and `gather` methods, to distribute data among engines. `scatter` accepts any container or Numpy `array` type, while `gather` assembles the respective return objects in the Client."
     ]
    },
    {
     "cell_type": "code",
     "collapsed": false,
     "input": [
      "# Some Gaussian data\n",
      "y"
     ],
     "language": "python",
     "metadata": {},
     "outputs": [
      {
       "metadata": {},
       "output_type": "pyout",
       "prompt_number": 49,
       "text": [
        "array([ 2.79022379,  3.43596291,  1.7692398 ,  5.70697304, -0.77277171,\n",
        "        4.88522089,  5.73966658,  0.73846853,  5.28613519,  3.06724312,\n",
        "        4.50886669,  6.41145773,  5.27328529,  5.36430918,  2.55736847,\n",
        "        3.5219595 ,  3.47382646,  2.03694651,  1.09331414,  2.4488314 ,\n",
        "        3.3825841 ,  1.77386663,  5.2603935 ,  5.94455855,  2.36307999,\n",
        "        3.46725586,  2.83580071,  3.67746307, -0.95944966,  3.53977832,\n",
        "        2.973732  ,  6.01003127,  3.59105   ,  3.91172605,  4.50697357,\n",
        "        5.70535512,  2.46242259,  1.96025834,  6.88912553,  5.14679456,\n",
        "        6.66645894,  0.06690179,  1.20331401,  6.50559885,  5.44151446,\n",
        "        1.9461721 ,  4.43264952,  2.62080932,  0.09201998,  4.81473745])"
       ]
      }
     ],
     "prompt_number": 49
    },
    {
     "cell_type": "code",
     "collapsed": false,
     "input": [
      "# Send to engines\n",
      "dview.scatter('y', y)\n",
      "dview['y']"
     ],
     "language": "python",
     "metadata": {},
     "outputs": [
      {
       "metadata": {},
       "output_type": "pyout",
       "prompt_number": 50,
       "text": [
        "[array([ 2.79022379,  3.43596291,  1.7692398 ,  5.70697304, -0.77277171,\n",
        "         4.88522089,  5.73966658,  0.73846853,  5.28613519,  3.06724312,\n",
        "         4.50886669,  6.41145773,  5.27328529]),\n",
        " array([ 5.36430918,  2.55736847,  3.5219595 ,  3.47382646,  2.03694651,\n",
        "         1.09331414,  2.4488314 ,  3.3825841 ,  1.77386663,  5.2603935 ,\n",
        "         5.94455855,  2.36307999,  3.46725586]),\n",
        " array([ 2.83580071,  3.67746307, -0.95944966,  3.53977832,  2.973732  ,\n",
        "         6.01003127,  3.59105   ,  3.91172605,  4.50697357,  5.70535512,\n",
        "         2.46242259,  1.96025834]),\n",
        " array([ 6.88912553,  5.14679456,  6.66645894,  0.06690179,  1.20331401,\n",
        "         6.50559885,  5.44151446,  1.9461721 ,  4.43264952,  2.62080932,\n",
        "         0.09201998,  4.81473745])]"
       ]
      }
     ],
     "prompt_number": 50
    },
    {
     "cell_type": "code",
     "collapsed": false,
     "input": [
      "# Remote execution of function\n",
      "dview.execute('sum_y = sum(y)')"
     ],
     "language": "python",
     "metadata": {},
     "outputs": [
      {
       "metadata": {},
       "output_type": "pyout",
       "prompt_number": 51,
       "text": [
        "<AsyncResult: finished>"
       ]
      }
     ],
     "prompt_number": 51
    },
    {
     "cell_type": "code",
     "collapsed": false,
     "input": [
      "# Aggregation on client\n",
      "sum(dview.gather('sum_y'))"
     ],
     "language": "python",
     "metadata": {},
     "outputs": [
      {
       "metadata": {},
       "output_type": "pyout",
       "prompt_number": 52,
       "text": [
        "177.56950400620107"
       ]
      }
     ],
     "prompt_number": 52
    },
    {
     "cell_type": "markdown",
     "metadata": {},
     "source": [
      "The `map` method essentially combines `scatter` and `gather` into a single call:"
     ]
    },
    {
     "cell_type": "code",
     "collapsed": false,
     "input": [
      "dview.map(lambda x: sum(x**2), np.split(y, 5))"
     ],
     "language": "python",
     "metadata": {},
     "outputs": [
      {
       "metadata": {},
       "output_type": "pyout",
       "prompt_number": 53,
       "text": [
        "[150.59381377586215,\n",
        " 160.37308438275141,\n",
        " 130.22007893368664,\n",
        " 209.88036889837247,\n",
        " 171.32178464346075]"
       ]
      }
     ],
     "prompt_number": 53
    },
    {
     "cell_type": "markdown",
     "metadata": {},
     "source": [
      "### Load balancing\n",
      "\n",
      "The `DirectView` objects we have used so far strictly allocate particular tasks to particular engines. This is often inefficient, when tasks take variable amounts of time, leaving some engines idle while some are overworked. We can use a **load balanced** view to distribute memory approximately equally among engines, to minimize idle time."
     ]
    },
    {
     "cell_type": "code",
     "collapsed": false,
     "input": [
      "lb_view = cli.load_balanced_view()\n",
      "lb_view"
     ],
     "language": "python",
     "metadata": {},
     "outputs": [
      {
       "metadata": {},
       "output_type": "pyout",
       "prompt_number": 54,
       "text": [
        "<LoadBalancedView None>"
       ]
      }
     ],
     "prompt_number": 54
    },
    {
     "cell_type": "markdown",
     "metadata": {},
     "source": [
      "A `LoadBalancedView`, though it works with all the engines (or specified subsets of engines), behaves as if it is working with a single engine.\n",
      "\n",
      "If you do not specify the engines when the `LoadBalancedView` is created, it will use all the engines that are available when it assigns tasks."
     ]
    },
    {
     "cell_type": "code",
     "collapsed": false,
     "input": [
      "for i in range(10):\n",
      "    pid = lb_view.apply_sync(os.getpid)\n",
      "    print('Task {0} ran on process {1}'.format(i, pid))"
     ],
     "language": "python",
     "metadata": {},
     "outputs": [
      {
       "output_type": "stream",
       "stream": "stdout",
       "text": [
        "Task 0 ran on process 47041\n",
        "Task 1 ran on process 47040\n",
        "Task 2 ran on process 47038\n",
        "Task 3 ran on process 47039\n",
        "Task 4 ran on process 47041\n",
        "Task 5 ran on process 47040\n",
        "Task 6 ran on process 47038\n",
        "Task 7 ran on process 47039"
       ]
      },
      {
       "output_type": "stream",
       "stream": "stdout",
       "text": [
        "\n",
        "Task 8 ran on process 47041\n",
        "Task 9 ran on process 47040\n"
       ]
      }
     ],
     "prompt_number": 55
    },
    {
     "cell_type": "code",
     "collapsed": false,
     "input": [
      "%%px\n",
      "\n",
      "def abc(y, N, epsilon=[0.2, 0.8]):\n",
      "\n",
      "    trace = []\n",
      "\n",
      "    while len(trace) < N:\n",
      "\n",
      "        # Simulate from priors\n",
      "        mu = numpy.random.normal(0, 10)\n",
      "        sigma = numpy.random.uniform(0, 20)\n",
      "\n",
      "        x = numpy.random.normal(mu, sigma, 50)\n",
      "\n",
      "        #if (np.linalg.norm(y - x) < epsilon):\n",
      "        if ((abs(x.mean() - y.mean()) < epsilon[0]) &\n",
      "            (abs(x.std() - y.std()) < epsilon[1])):\n",
      "            trace.append([mu, sigma])\n",
      "\n",
      "    return trace"
     ],
     "language": "python",
     "metadata": {},
     "outputs": [],
     "prompt_number": 56
    },
    {
     "cell_type": "code",
     "collapsed": false,
     "input": [
      "tasks = lb_view.map_async(lambda n: abc(y, n), [100]*5)"
     ],
     "language": "python",
     "metadata": {},
     "outputs": [],
     "prompt_number": 57
    },
    {
     "cell_type": "code",
     "collapsed": false,
     "input": [
      "tasks.msg_ids"
     ],
     "language": "python",
     "metadata": {},
     "outputs": [
      {
       "metadata": {},
       "output_type": "pyout",
       "prompt_number": 58,
       "text": [
        "['eb6b0e54-5e55-42bb-b660-00dca79dab44',\n",
        " '330a4e6a-ac9e-4c78-81f0-3f3610013388',\n",
        " '6ba8aabb-2c52-4429-9087-db4e58ccebb3',\n",
        " 'f9507bd9-206c-4b46-8875-f1385a59ad9e',\n",
        " 'fdba7157-7d81-43e5-88a3-917f4b97fef5']"
       ]
      }
     ],
     "prompt_number": 58
    },
    {
     "cell_type": "code",
     "collapsed": false,
     "input": [
      "result = np.concatenate(tasks.get())\n",
      "result[:10]"
     ],
     "language": "python",
     "metadata": {},
     "outputs": [
      {
       "metadata": {},
       "output_type": "pyout",
       "prompt_number": 59,
       "text": [
        "array([[ 2.86369023,  2.86554596],\n",
        "       [ 2.80496613,  2.80319329],\n",
        "       [ 3.06949492,  2.91586367],\n",
        "       [ 3.50076685,  1.56286927],\n",
        "       [ 4.14868804,  1.69562106],\n",
        "       [ 3.44306256,  1.42334125],\n",
        "       [ 3.68902077,  1.35501729],\n",
        "       [ 3.8568506 ,  1.33526173],\n",
        "       [ 3.83018402,  2.29608881],\n",
        "       [ 3.9224022 ,  2.04869499]])"
       ]
      }
     ],
     "prompt_number": 59
    },
    {
     "cell_type": "markdown",
     "metadata": {},
     "source": [
      "Another way that you can dispatch tasks to engines is via the `parallel` decorator. This decorator is a method of the `DirectView` class that controls our engine pool. The decorated function is then disparched to the engines using the `map` method that the decorator adds to the class."
     ]
    },
    {
     "cell_type": "code",
     "collapsed": false,
     "input": [
      "@lb_view.parallel(block=True)\n",
      "def abc(y, N, epsilon=[0.2, 0.8]):\n",
      "\n",
      "    trace = []\n",
      "\n",
      "    while len(trace) < N:\n",
      "\n",
      "        # Simulate from priors\n",
      "        mu = numpy.random.normal(0, 10)\n",
      "        sigma = numpy.random.uniform(0, 20)\n",
      "\n",
      "        x = numpy.random.normal(mu, sigma, 50)\n",
      "\n",
      "        #if (np.linalg.norm(y - x) < epsilon):\n",
      "        if ((abs(x.mean() - y.mean()) < epsilon[0]) &\n",
      "            (abs(x.std() - y.std()) < epsilon[1])):\n",
      "            trace.append([mu, sigma])\n",
      "\n",
      "    return trace"
     ],
     "language": "python",
     "metadata": {},
     "outputs": [],
     "prompt_number": 60
    },
    {
     "cell_type": "code",
     "collapsed": false,
     "input": [
      "abc.map([y]*4, [100]*4)"
     ],
     "language": "python",
     "metadata": {},
     "outputs": [
      {
       "metadata": {},
       "output_type": "pyout",
       "prompt_number": 61,
       "text": [
        "[[[3.4871153993129966, 2.501924746507691],\n",
        "  [3.52852227337844, 1.6948454083609676],\n",
        "  [3.560715408962431, 2.2500906587060943],\n",
        "  [3.7762555729462486, 1.7355661213572304],\n",
        "  [3.8572966398406567, 1.8226351651960249],\n",
        "  [3.6836441264584034, 1.2725467247211886],\n",
        "  [3.8034242792735418, 2.3871011881895],\n",
        "  [3.608352779809611, 2.8268460721119992],\n",
        "  [3.4351352301954607, 2.260509766336285],\n",
        "  [3.7226758580691115, 1.4626630471373514],\n",
        "  [3.831235406284014, 2.060052176433087],\n",
        "  [3.682280183896045, 2.693939300539545],\n",
        "  [3.9806597466819023, 2.317665676075975],\n",
        "  [3.018896067156904, 2.966149561252358],\n",
        "  [3.5732223779467294, 1.6805158855289792],\n",
        "  [3.161166479286912, 2.539820451230268],\n",
        "  [4.2158650450959385, 2.0838700302246593],\n",
        "  [3.5298717639875656, 2.7354464673339773],\n",
        "  [3.704790571216062, 1.3945498869261441],\n",
        "  [3.71915193276931, 2.796877445264554],\n",
        "  [3.483567074973717, 1.9224884137425424],\n",
        "  [3.6570067257252625, 2.367861338701267],\n",
        "  [3.550364953912716, 2.2584685637470003],\n",
        "  [3.179862617086431, 1.5553466811809247],\n",
        "  [3.440057805506701, 1.2374364778694091],\n",
        "  [3.4353768084519576, 1.593086639888932],\n",
        "  [4.060809479701785, 2.7966324547152577],\n",
        "  [4.034936160643219, 1.5459293023739051],\n",
        "  [3.6670982455790204, 1.265913385393882],\n",
        "  [3.77532076058304, 1.2057506473393276],\n",
        "  [3.5107434069732593, 2.891122647329165],\n",
        "  [3.642363473579728, 1.6065214301751207],\n",
        "  [3.201759778703969, 3.2313696593735997],\n",
        "  [3.3849129579193105, 1.699180754010392],\n",
        "  [3.658808579273454, 1.2581802113489982],\n",
        "  [3.6879946685731104, 2.2694269917311183],\n",
        "  [3.5767354684076835, 1.2830225789287364],\n",
        "  [3.2081602322651315, 1.5590727935964743],\n",
        "  [3.404228738197079, 2.3705019969753915],\n",
        "  [3.6446455073999267, 1.092290927888644],\n",
        "  [3.3785334891354006, 1.7955263147111356],\n",
        "  [3.5162488188098964, 2.1761485546288517],\n",
        "  [3.360851271000977, 2.1145916474598403],\n",
        "  [3.4448385799462966, 2.579216359316754],\n",
        "  [3.8919173008732084, 2.351008056245014],\n",
        "  [3.653314029155016, 1.5717299749045543],\n",
        "  [3.0756745566267134, 2.6276763397629566],\n",
        "  [3.20794646600785, 2.14624170459512],\n",
        "  [3.02844730345726, 3.0873077376505553],\n",
        "  [3.324359927372967, 2.1434931592205664],\n",
        "  [3.629978801898093, 1.9590923357264356],\n",
        "  [3.221832426686114, 2.280324339689459],\n",
        "  [3.5368629371970064, 1.1873736922005906],\n",
        "  [3.416710217460816, 2.0700608023842926],\n",
        "  [3.5787214124604128, 1.7116884229201923],\n",
        "  [4.051907671293655, 1.9631049006228185],\n",
        "  [3.294667161812132, 1.6566528616905263],\n",
        "  [3.8379633865440703, 2.2191296716484565],\n",
        "  [3.8417115045260184, 1.9892725684413626],\n",
        "  [3.4939724992269197, 2.6761836740853395],\n",
        "  [3.3872890496235786, 3.170095718177519],\n",
        "  [3.780232184474908, 1.3422308614150658],\n",
        "  [4.038966597291457, 2.598650764525361],\n",
        "  [3.4640720133788894, 1.4402713743736584],\n",
        "  [3.4951115093803504, 1.5853372127467957],\n",
        "  [2.970122123259236, 2.175210091743638],\n",
        "  [3.751059369213684, 1.6059516814385866],\n",
        "  [3.806555073024774, 1.922277113886477],\n",
        "  [3.574922198636295, 2.1576842298257626],\n",
        "  [3.3868392996932335, 2.202672014948235],\n",
        "  [3.561204683560488, 2.9396812723110233],\n",
        "  [3.723435991621897, 1.9936742064359825],\n",
        "  [3.6154960550713477, 2.589814446748784],\n",
        "  [3.4288630748294913, 1.3024607040639191],\n",
        "  [3.199190697470722, 2.3321933698958586],\n",
        "  [3.5266441821885253, 1.8606845412746265],\n",
        "  [3.9166896487897502, 1.970459922271064],\n",
        "  [3.4664827955858293, 1.6421018505687712],\n",
        "  [3.6678696276147704, 1.436801997447854],\n",
        "  [3.543462692933865, 1.011945544404973],\n",
        "  [3.7326840667720966, 1.13796146890351],\n",
        "  [3.3325521758839294, 2.4077373968146087],\n",
        "  [3.5004014897560483, 1.2098675196496855],\n",
        "  [3.547392147922257, 1.6602010009309232],\n",
        "  [3.535367956918482, 1.7848074679682124],\n",
        "  [3.262539374226827, 2.4325149737942864],\n",
        "  [3.377730538725055, 2.450256046238164],\n",
        "  [3.5289538356900474, 1.708015761834214],\n",
        "  [3.8671829917028813, 2.205533434842708],\n",
        "  [3.8167135006438007, 2.0889384723092275],\n",
        "  [3.2581330938772575, 1.9850558182884304],\n",
        "  [4.134727421616896, 2.171565819068828],\n",
        "  [3.295510175942382, 1.3632926469187634],\n",
        "  [3.532493504305964, 2.758651068392295],\n",
        "  [3.5657930399864277, 1.942430269372537],\n",
        "  [3.258139925835368, 2.8834164423470243],\n",
        "  [3.383285618216536, 1.961129679178777],\n",
        "  [3.232047396532021, 2.3118344598516427],\n",
        "  [3.978557296035029, 1.3335314115365438],\n",
        "  [3.4097837234878536, 1.414633484310459]],\n",
        " [[3.6598945893521986, 2.816348277283751],\n",
        "  [3.992127519676711, 2.6389591170607463],\n",
        "  [2.9619509380287496, 2.4208571231341747],\n",
        "  [4.545539000517804, 3.573674107108298],\n",
        "  [3.7283367326756016, 2.4943904351162094],\n",
        "  [4.01386806081022, 1.5872296276697218],\n",
        "  [3.9353982160665355, 1.4777572058441102],\n",
        "  [3.820566608759246, 2.4231141647295806],\n",
        "  [3.8519889339932845, 2.51784951930913],\n",
        "  [3.545148299071885, 1.4256710152484309],\n",
        "  [3.5454670456059967, 1.438046912682418],\n",
        "  [3.1321301217394204, 2.347994547575736],\n",
        "  [3.370307152948376, 1.52151181422167],\n",
        "  [4.197769737506316, 2.8900983981611783],\n",
        "  [3.3838481632208457, 2.63476670573906],\n",
        "  [3.1827729639543096, 1.3329238322438575],\n",
        "  [3.363479881973373, 2.62809560191418],\n",
        "  [3.596205395366934, 1.5964058297223005],\n",
        "  [3.9821749368855897, 1.320016297776736],\n",
        "  [3.732155526308771, 1.357469567422589],\n",
        "  [3.5427980916946034, 1.663039801079993],\n",
        "  [3.3296892258451036, 2.4994119416716765],\n",
        "  [3.5916960974739407, 2.306475503723513],\n",
        "  [3.427920921774973, 2.480047312666165],\n",
        "  [3.940441636890623, 2.623996312933692],\n",
        "  [3.4067791663742857, 1.954216417739223],\n",
        "  [3.6857615806103983, 2.7368922257286243],\n",
        "  [3.2390469950957095, 2.0136811996911064],\n",
        "  [3.577000027880745, 2.5137492623887847],\n",
        "  [3.2947914772556484, 1.8365871807091771],\n",
        "  [3.2585837328223697, 2.028853501448369],\n",
        "  [2.89233216158044, 2.678084444658928],\n",
        "  [3.9634027266100396, 1.3528135274478714],\n",
        "  [3.4360938205761182, 2.2981942417834578],\n",
        "  [3.687862080131694, 1.482625989494839],\n",
        "  [3.888110500586426, 1.7009891411259592],\n",
        "  [2.8012765780575077, 2.589637644033025],\n",
        "  [3.4492491349059797, 1.8692165031931984],\n",
        "  [3.5670326217533765, 1.4648881206137854],\n",
        "  [3.3468124861564963, 2.1750134412757682],\n",
        "  [3.2440586116075094, 2.1424740157438316],\n",
        "  [3.555392032721225, 2.111533050648413],\n",
        "  [2.854021513678109, 2.1625901412037174],\n",
        "  [3.470612118852854, 2.2279146360397006],\n",
        "  [3.79940578972634, 1.3632781118975834],\n",
        "  [3.6866377428139847, 2.05480552463704],\n",
        "  [4.2060875271443185, 1.5132749380073163],\n",
        "  [3.983227344471848, 2.7380706613195915],\n",
        "  [3.595434054376556, 1.6500612323001485],\n",
        "  [3.271213571827415, 2.854073471345082],\n",
        "  [3.683893967143423, 1.6575279602386361],\n",
        "  [3.2740655958070795, 1.479692044858869],\n",
        "  [3.8384878019883932, 2.3875391854454664],\n",
        "  [3.4945165685270023, 2.8367003670691093],\n",
        "  [2.8739014375272776, 2.6369289748379976],\n",
        "  [3.818946332643052, 1.4737576517063689],\n",
        "  [3.325382715386495, 2.7787320094005286],\n",
        "  [3.780014726526174, 2.0074376342024647],\n",
        "  [3.184253484896536, 1.5556166250458303],\n",
        "  [3.4145963432339324, 1.4266895296240567],\n",
        "  [3.1154837060610463, 2.463374256581381],\n",
        "  [3.115385796889, 2.8424453371425717],\n",
        "  [3.4701918971935446, 1.9192240306459118],\n",
        "  [3.2955462051143547, 1.6547119104019736],\n",
        "  [3.4131792269668395, 2.545457117422787],\n",
        "  [3.6272513879425694, 1.9066284382712162],\n",
        "  [3.402156288066772, 1.8618585346216165],\n",
        "  [2.817251603064167, 2.8668515733447664],\n",
        "  [3.669589066777621, 1.8702131724091253],\n",
        "  [3.2169677801685492, 2.1643493211393428],\n",
        "  [3.656594197162357, 2.477149289295053],\n",
        "  [3.1617864669349953, 1.7078135558977103],\n",
        "  [3.6687238450250588, 1.1870696766191369],\n",
        "  [3.254873712635039, 1.4558438149984454],\n",
        "  [4.5668468500344765, 2.402813719698653],\n",
        "  [3.5187218493103325, 1.288114019125861],\n",
        "  [4.0832931913335715, 1.3489133632584216],\n",
        "  [3.632909296807934, 2.5621266375529927],\n",
        "  [2.808191917352041, 1.9776576041335825],\n",
        "  [3.18457816505445, 2.07645959848773],\n",
        "  [3.2969210787736625, 2.7537268594233133],\n",
        "  [3.437708903106474, 1.6498294634623267],\n",
        "  [3.3736127834788334, 2.6233385938350584],\n",
        "  [3.614474167693894, 2.037260864431194],\n",
        "  [3.479545192712977, 1.2179876699624037],\n",
        "  [3.3421754422226577, 2.172502285971114],\n",
        "  [3.749736215692074, 1.5037233747660617],\n",
        "  [3.5284709664440825, 1.0520047749887307],\n",
        "  [4.093715890011505, 2.827287187702374],\n",
        "  [3.439614860660005, 1.9142632388254865],\n",
        "  [3.2573600523074555, 2.3386946706130707],\n",
        "  [3.9153296508973683, 2.95400089334678],\n",
        "  [3.657161728267088, 2.002025995980854],\n",
        "  [3.3801120215917138, 1.4382603799209637],\n",
        "  [3.542964136954869, 1.686329280383343],\n",
        "  [3.721822112111779, 1.8589003742015375],\n",
        "  [4.2401150377510435, 2.284970518664531],\n",
        "  [3.3513027757850327, 2.622661185368309],\n",
        "  [3.7974609841492724, 2.0363240384889614],\n",
        "  [3.5286614712911795, 1.8614614302205323]],\n",
        " [[4.13233756855467, 2.502629388613964],\n",
        "  [3.164988395115614, 2.5234053228795683],\n",
        "  [3.396752634047926, 1.8230056640432712],\n",
        "  [3.687507471560018, 1.9250663699014514],\n",
        "  [3.7127760021686935, 2.528485484493239],\n",
        "  [2.9785954761791924, 3.127105512456978],\n",
        "  [3.804165318522323, 1.461527551188344],\n",
        "  [3.127708572528007, 2.3628098179052426],\n",
        "  [3.8449406879699066, 2.375521113517418],\n",
        "  [3.640267665521955, 1.9587169322434295],\n",
        "  [3.6806738435703874, 2.2764663180745126],\n",
        "  [4.066192200489075, 1.688694633708192],\n",
        "  [3.3096374417763252, 1.9135576400066734],\n",
        "  [3.2205915814173904, 1.495978446468862],\n",
        "  [3.434894794747196, 2.5269989337036547],\n",
        "  [3.5955280466618063, 1.7902097956870522],\n",
        "  [3.5992746124836383, 1.8510392594764524],\n",
        "  [3.807300399183697, 2.4493611878885146],\n",
        "  [2.729669495443616, 2.811802700516035],\n",
        "  [3.7231958897150887, 1.194241836886325],\n",
        "  [4.038176954699265, 2.8120585014378574],\n",
        "  [3.9007177251988994, 2.1480932638892147],\n",
        "  [3.649088199049253, 1.8906380555608537],\n",
        "  [3.420314233603537, 2.329746068319729],\n",
        "  [3.6964322027779364, 1.1053703171454643],\n",
        "  [3.043309173017704, 2.55061443411827],\n",
        "  [4.272498819969906, 2.5430192058053946],\n",
        "  [3.609312041280118, 3.032450164492251],\n",
        "  [3.642891935160063, 1.7438676758347782],\n",
        "  [3.206163012195516, 2.4318982920105126],\n",
        "  [3.2058909401385667, 1.2631405310687338],\n",
        "  [3.5570295500207956, 2.1735942419621046],\n",
        "  [4.011836749037421, 1.363586972420181],\n",
        "  [4.117344374307629, 1.8873033086361102],\n",
        "  [3.5205806819588723, 1.2962369434140308],\n",
        "  [3.530100685528204, 2.4047719627302833],\n",
        "  [3.777425022009373, 1.3659152240521588],\n",
        "  [3.193704711127044, 1.9928194766912632],\n",
        "  [3.3143102072563364, 2.781544215932592],\n",
        "  [3.6916001403209946, 1.2938310319455049],\n",
        "  [3.7404529916144735, 1.679673186340609],\n",
        "  [3.71155488610872, 2.612300677601904],\n",
        "  [3.94495717831151, 2.716292314195583],\n",
        "  [3.138221616300694, 1.9410402118680525],\n",
        "  [3.1188901069279047, 2.4512974696800782],\n",
        "  [3.194223458611219, 2.7878936497185314],\n",
        "  [3.407520049568345, 1.370782351918145],\n",
        "  [3.3098083728083743, 1.646036501420749],\n",
        "  [3.2543882528993766, 1.168536885660485],\n",
        "  [3.8728926923122424, 3.248635857468365],\n",
        "  [3.767271156887607, 1.4724581859489283],\n",
        "  [3.6646006008120224, 1.7808255170148568],\n",
        "  [3.8964903713816823, 1.3492393945819847],\n",
        "  [3.604376198775059, 1.086140779263094],\n",
        "  [4.217676503303784, 2.474853147187126],\n",
        "  [2.64824547232989, 1.998326032168356],\n",
        "  [3.7428060099563454, 1.6700572719090623],\n",
        "  [3.09844802858871, 1.5340735521737536],\n",
        "  [3.05741862223944, 1.8993939999849618],\n",
        "  [3.6862598966375315, 2.063835261164577],\n",
        "  [3.5591510915112803, 1.5199382591819144],\n",
        "  [3.4370608518793375, 3.1256897115854954],\n",
        "  [4.039557836915652, 1.9053175427983016],\n",
        "  [3.581294048963486, 1.7691157401091706],\n",
        "  [3.8908069315901237, 2.765958081465645],\n",
        "  [3.0739974153791074, 1.8560714893225772],\n",
        "  [3.8173471741079297, 2.1218424849977424],\n",
        "  [3.724379195689899, 3.2632737694300773],\n",
        "  [3.430244380649557, 1.4241735149491541],\n",
        "  [3.165775805878433, 2.248656320219795],\n",
        "  [3.6334187696836953, 1.9288055332710718],\n",
        "  [3.329785746017659, 1.7240116976442899],\n",
        "  [3.4074165482166046, 3.0236437848765063],\n",
        "  [4.24334578292889, 2.7833011466174007],\n",
        "  [3.9229519686820202, 1.6744898284620047],\n",
        "  [3.541656157359867, 2.5426697852861135],\n",
        "  [3.4781632271176615, 1.9850267212757422],\n",
        "  [3.4485124099528175, 1.9607650385964481],\n",
        "  [3.694627255362561, 2.7299937986420986],\n",
        "  [3.842008300595459, 2.5406910410991546],\n",
        "  [3.322813794003311, 1.8249928987152875],\n",
        "  [3.5478932131943015, 1.9654033264521997],\n",
        "  [3.2944834228384643, 2.635493253078993],\n",
        "  [3.7208550554068824, 1.310447797032388],\n",
        "  [3.26388034236829, 2.277538997864559],\n",
        "  [3.9471294144888254, 1.9448371106493845],\n",
        "  [4.956618897215517, 2.899955398195837],\n",
        "  [3.9267377918712656, 2.095837124175952],\n",
        "  [3.5674488534655815, 2.0298301931142615],\n",
        "  [3.5442659023098484, 1.6857191990531772],\n",
        "  [3.6887865187896667, 1.8842597223636814],\n",
        "  [3.727983335224019, 1.4921309347962142],\n",
        "  [3.4905081978347625, 2.1888812294526994],\n",
        "  [4.035581631643219, 1.467091386323962],\n",
        "  [3.262104054401667, 3.0660853904685603],\n",
        "  [3.125069264962274, 2.437862682720482],\n",
        "  [3.3890165302641284, 1.599306927419888],\n",
        "  [3.4184949698564138, 2.207615134511123],\n",
        "  [3.7059743533735423, 2.37134123047968],\n",
        "  [3.4216822881572244, 2.1492882454355478]],\n",
        " [[4.0552737874960005, 1.5712325061628052],\n",
        "  [3.432869784812618, 2.5367560403557765],\n",
        "  [3.195008511223837, 1.978941716799778],\n",
        "  [3.5075698218149345, 2.038032835503427],\n",
        "  [3.719565758366443, 1.1040139268142934],\n",
        "  [3.6203194754369052, 2.104010394768394],\n",
        "  [4.178681248831191, 1.8214949782373013],\n",
        "  [3.8554457744540387, 2.218036848292846],\n",
        "  [3.835052835890483, 2.1188788066521513],\n",
        "  [3.182103346866523, 2.2377567131593445],\n",
        "  [3.5050119955554555, 2.526364275557005],\n",
        "  [3.378421538473324, 1.6926460034005353],\n",
        "  [3.2368852262516112, 2.4364066309209775],\n",
        "  [3.4916904586243493, 2.769136667554095],\n",
        "  [2.549478441680975, 2.159382298021306],\n",
        "  [3.64755018100686, 1.961980878955567],\n",
        "  [4.161886072415263, 1.9066120196869263],\n",
        "  [3.220858800236379, 2.5179820027309807],\n",
        "  [3.06153352441965, 2.2563539720550763],\n",
        "  [4.111946782570643, 2.2458893370260524],\n",
        "  [3.5708676296977684, 1.053953684370057],\n",
        "  [2.9551445360217454, 2.6185488733690465],\n",
        "  [3.6603331451730496, 1.419035890386624],\n",
        "  [3.8071381113915255, 2.4167232866625765],\n",
        "  [2.9386521163085173, 2.252338730791794],\n",
        "  [3.493929659374756, 1.403070671764406],\n",
        "  [3.170223028339714, 2.5257123762732347],\n",
        "  [3.8112391453839023, 2.0876934107527667],\n",
        "  [3.8934038255946177, 3.068547864649107],\n",
        "  [3.2964261083815574, 2.2237274272697083],\n",
        "  [2.9790673817919155, 1.224385909568524],\n",
        "  [3.8878997906816566, 1.4087324161436698],\n",
        "  [3.2639507800932077, 2.0069947168846047],\n",
        "  [2.7201621822501307, 2.6679419752359523],\n",
        "  [3.7201097769745783, 1.9018393942205525],\n",
        "  [3.648348549174727, 2.039666382897729],\n",
        "  [3.912120946982251, 2.052180910245045],\n",
        "  [3.886408033154745, 1.9025201399575598],\n",
        "  [3.4969456277234157, 2.15932180866945],\n",
        "  [3.610665917985403, 2.1137097931396975],\n",
        "  [3.459643445822724, 1.9059511162126763],\n",
        "  [3.394864476447086, 1.262322224263952],\n",
        "  [4.296516804695637, 2.476495123916176],\n",
        "  [3.1948226269452, 2.199119617507561],\n",
        "  [3.20582822987952, 1.4919632911771963],\n",
        "  [4.034916485772651, 1.175112914957348],\n",
        "  [3.397994922919138, 2.220973814295637],\n",
        "  [4.028774720542904, 1.3217540029275598],\n",
        "  [3.575476600849528, 1.8628397807571084],\n",
        "  [2.8324392481105845, 2.39344552079064],\n",
        "  [3.8175377885417348, 3.1342562899939175],\n",
        "  [3.774136470888079, 2.5738165197058827],\n",
        "  [3.425780981594211, 1.463502974081523],\n",
        "  [3.815056536226043, 1.523227210316136],\n",
        "  [3.474730238944868, 2.4413818622301586],\n",
        "  [3.6996330773198083, 1.6890285774472202],\n",
        "  [3.648567706482474, 1.2685882800331627],\n",
        "  [3.394516503373399, 2.381048087842106],\n",
        "  [3.846407350315099, 1.091536319578592],\n",
        "  [3.316740083984775, 1.4234357496986916],\n",
        "  [4.053657138645187, 1.4428078967907054],\n",
        "  [3.763679465386425, 2.6038240883122565],\n",
        "  [3.3369818752815754, 1.101488286637069],\n",
        "  [3.050920991085281, 1.4505475875384866],\n",
        "  [3.756660399647198, 1.6240397717635147],\n",
        "  [3.509053985355428, 2.733179008083806],\n",
        "  [2.947639399377314, 2.32432507198977],\n",
        "  [3.4843947259958794, 1.9424591558442272],\n",
        "  [3.826279022132409, 2.3238053619078847],\n",
        "  [3.5514978253330765, 1.9715038357816916],\n",
        "  [3.5416351296082453, 2.1965954266400622],\n",
        "  [3.9078367330954915, 2.52608671563181],\n",
        "  [3.543688920939827, 1.6915824320905126],\n",
        "  [3.421352721220738, 2.304029946368975],\n",
        "  [3.552149689855877, 2.523688427175532],\n",
        "  [3.1715736357766304, 2.7140472940691596],\n",
        "  [3.8309380263554815, 1.7508928631136733],\n",
        "  [3.9915976540348352, 1.7827428427265324],\n",
        "  [3.597479172344491, 1.2007563910648678],\n",
        "  [3.937328638249907, 3.4140785534096407],\n",
        "  [3.9800762488530124, 1.348421182582098],\n",
        "  [3.0409686302017365, 2.0496004689170544],\n",
        "  [3.1237672692069025, 2.884395336178567],\n",
        "  [3.6607318793878383, 2.378245590155379],\n",
        "  [3.477511116483132, 1.8684195635517797],\n",
        "  [3.762094330338152, 0.9775287123541854],\n",
        "  [3.504097006692972, 1.4679658382787797],\n",
        "  [3.5646455993550665, 2.5828506954914965],\n",
        "  [3.679428633810522, 2.300372054087836],\n",
        "  [3.1139831272616525, 3.019044733228673],\n",
        "  [3.370139839212502, 2.358628421265694],\n",
        "  [3.492297819912793, 2.581356104080468],\n",
        "  [3.180722993599418, 2.615104587844743],\n",
        "  [3.5373822491949007, 2.6044176220215354],\n",
        "  [3.829581240064728, 1.5693361739256573],\n",
        "  [3.6712435169216597, 2.4890721433081864],\n",
        "  [3.776360936382448, 1.5805505370988282],\n",
        "  [3.4681943646744795, 1.4720540840550966],\n",
        "  [3.402494738708772, 2.4446650914541945],\n",
        "  [3.1476884944738703, 2.6240867103860466]]]"
       ]
      }
     ],
     "prompt_number": 61
    },
    {
     "cell_type": "markdown",
     "metadata": {},
     "source": [
      "### Parallel magics\n",
      "\n",
      "The `%px` cell magic is a \"parallel execution\" statement, which will run the code in that cell on all the engines."
     ]
    },
    {
     "cell_type": "code",
     "collapsed": false,
     "input": [
      "%%px \n",
      "import os\n",
      "print(os.getpid())"
     ],
     "language": "python",
     "metadata": {},
     "outputs": [
      {
       "output_type": "stream",
       "stream": "stdout",
       "text": [
        "[stdout:0] 47038\n",
        "[stdout:1] 47039\n",
        "[stdout:2] 47040\n",
        "[stdout:3] 47041\n"
       ]
      }
     ],
     "prompt_number": 62
    },
    {
     "cell_type": "code",
     "collapsed": false,
     "input": [
      "%px b = numpy.random.random()"
     ],
     "language": "python",
     "metadata": {},
     "outputs": [],
     "prompt_number": 63
    },
    {
     "cell_type": "code",
     "collapsed": false,
     "input": [
      "%px b"
     ],
     "language": "python",
     "metadata": {},
     "outputs": [
      {
       "metadata": {},
       "output_type": "display_data",
       "text": [
        "\u001b[0;31mOut[0:5]: \u001b[0m0.9697499713121036"
       ]
      },
      {
       "metadata": {},
       "output_type": "display_data",
       "text": [
        "\u001b[0;31mOut[1:5]: \u001b[0m0.32567200091393556"
       ]
      },
      {
       "metadata": {},
       "output_type": "display_data",
       "text": [
        "\u001b[0;31mOut[2:5]: \u001b[0m0.25346598383436025"
       ]
      },
      {
       "metadata": {},
       "output_type": "display_data",
       "text": [
        "\u001b[0;31mOut[3:5]: \u001b[0m0.15047237280019665"
       ]
      }
     ],
     "prompt_number": 64
    },
    {
     "cell_type": "markdown",
     "metadata": {},
     "source": [
      "`%pxresult` displays the output of the last request:"
     ]
    },
    {
     "cell_type": "code",
     "collapsed": false,
     "input": [
      "%pxresult"
     ],
     "language": "python",
     "metadata": {},
     "outputs": [
      {
       "metadata": {},
       "output_type": "display_data",
       "text": [
        "\u001b[0;31mOut[0:5]: \u001b[0m0.9697499713121036"
       ]
      },
      {
       "metadata": {},
       "output_type": "display_data",
       "text": [
        "\u001b[0;31mOut[1:5]: \u001b[0m0.32567200091393556"
       ]
      },
      {
       "metadata": {},
       "output_type": "display_data",
       "text": [
        "\u001b[0;31mOut[2:5]: \u001b[0m0.25346598383436025"
       ]
      },
      {
       "metadata": {},
       "output_type": "display_data",
       "text": [
        "\u001b[0;31mOut[3:5]: \u001b[0m0.15047237280019665"
       ]
      }
     ],
     "prompt_number": 65
    },
    {
     "cell_type": "markdown",
     "metadata": {},
     "source": [
      "The `%pxconfig` magic allows you to configure blocking for the parallel magics."
     ]
    },
    {
     "cell_type": "code",
     "collapsed": false,
     "input": [
      "# Switch to asynchronous\n",
      "%pxconfig --block"
     ],
     "language": "python",
     "metadata": {},
     "outputs": [],
     "prompt_number": 66
    },
    {
     "cell_type": "markdown",
     "metadata": {},
     "source": [
      "Remember that each engine is just another IPython, so anyting you can do in an IPython session you can also do on an engine."
     ]
    },
    {
     "cell_type": "code",
     "collapsed": false,
     "input": [
      "%px %pylab inline"
     ],
     "language": "python",
     "metadata": {},
     "outputs": [
      {
       "output_type": "stream",
       "stream": "stdout",
       "text": [
        "[stdout:0] Populating the interactive namespace from numpy and matplotlib\n",
        "[stdout:1] Populating the interactive namespace from numpy and matplotlib\n",
        "[stdout:2] Populating the interactive namespace from numpy and matplotlib\n",
        "[stdout:3] Populating the interactive namespace from numpy and matplotlib\n"
       ]
      },
      {
       "output_type": "stream",
       "stream": "stderr",
       "text": [
        "[stderr:0] \n",
        "WARNING: pylab import has clobbered these variables: ['bar']\n",
        "`%pylab --no-import-all` prevents importing * from pylab and numpy\n"
       ]
      }
     ],
     "prompt_number": 67
    },
    {
     "cell_type": "code",
     "collapsed": false,
     "input": [
      "%px samples = abc(y, 100)"
     ],
     "language": "python",
     "metadata": {},
     "outputs": [],
     "prompt_number": 68
    },
    {
     "cell_type": "code",
     "collapsed": false,
     "input": [
      "%%px \n",
      "import os\n",
      "tsamples = numpy.transpose(samples)\n",
      "plt.hist(tsamples[0])\n",
      "plt.hist(tsamples[1])\n",
      "_ = title('PID %i' % os.getpid())"
     ],
     "language": "python",
     "metadata": {},
     "outputs": [
      {
       "metadata": {},
       "output_type": "display_data",
       "text": [
        "[output:0]"
       ]
      },
      {
       "metadata": {},
       "output_type": "display_data",
       "png": "[encoded data removed]",
       "text": [
        "<matplotlib.figure.Figure at 0x10a644d90>"
       ]
      },
      {
       "metadata": {},
       "output_type": "display_data",
       "text": [
        "[output:1]"
       ]
      },
      {
       "metadata": {},
       "output_type": "display_data",
       "png": "[encoded data removed]",
       "text": [
        "<matplotlib.figure.Figure at 0x10ddacdd0>"
       ]
      },
      {
       "metadata": {},
       "output_type": "display_data",
       "text": [
        "[output:2]"
       ]
      },
      {
       "metadata": {},
       "output_type": "display_data",
       "png": "[encoded data removed]",
       "text": [
        "<matplotlib.figure.Figure at 0x1096d1d90>"
       ]
      },
      {
       "metadata": {},
       "output_type": "display_data",
       "text": [
        "[output:3]"
       ]
      },
      {
       "metadata": {},
       "output_type": "display_data",
       "png": "[encoded data removed]",
       "text": [
        "<matplotlib.figure.Figure at 0x1112b2dd0>"
       ]
      }
     ],
     "prompt_number": 69
    },
    {
     "cell_type": "markdown",
     "metadata": {},
     "source": [
      "For profiling, we can also use the `%timeit` magic to compare performance on the engines:"
     ]
    },
    {
     "cell_type": "code",
     "collapsed": false,
     "input": [
      "%%px\n",
      "%%timeit\n",
      "s = abc(y, 10)"
     ],
     "language": "python",
     "metadata": {},
     "outputs": [
      {
       "output_type": "stream",
       "stream": "stdout",
       "text": [
        "[stdout:0] 1 loops, best of 3: 1.91 s per loop\n",
        "[stdout:1] 1 loops, best of 3: 2.35 s per loop\n",
        "[stdout:2] 1 loops, best of 3: 1.28 s per loop\n",
        "[stdout:3] 1 loops, best of 3: 1.92 s per loop\n"
       ]
      }
     ],
     "prompt_number": 70
    },
    {
     "cell_type": "markdown",
     "metadata": {},
     "source": [
      "## Cython Parallel\n",
      "\n",
      "In order to use Cython in parallel on IPython, we need to load and execute `cythonmagic` on all engines."
     ]
    },
    {
     "cell_type": "code",
     "collapsed": false,
     "input": [
      "%px %load_ext cythonmagic"
     ],
     "language": "python",
     "metadata": {},
     "outputs": [],
     "prompt_number": 71
    },
    {
     "cell_type": "markdown",
     "metadata": {},
     "source": [
      "As an example, let's use the Cythonized Gibbs sampler from the last lecture."
     ]
    },
    {
     "cell_type": "code",
     "collapsed": false,
     "input": [
      "%%px\n",
      "%%cython\n",
      "\n",
      "from numpy import zeros, random\n",
      "from numpy cimport *\n",
      "from libc.math cimport sqrt\n",
      "gamma = random.gamma\n",
      "normal = random.normal\n",
      "\n",
      "def gibbs(int N=20000, int thin=200):\n",
      "    cdef: \n",
      "        ndarray[float64_t, ndim=2] mat = zeros((N,2))\n",
      "        float64_t x,y = 0\n",
      "        int i,j\n",
      "    for i in range(N):\n",
      "        for j in range(thin):\n",
      "            x = gamma(3, y**2 + 4)\n",
      "            y = normal(1./(x+1), 1./sqrt(2*(x+1)))\n",
      "        mat[i] = x,y\n",
      "\n",
      "    return mat"
     ],
     "language": "python",
     "metadata": {},
     "outputs": [],
     "prompt_number": 72
    },
    {
     "cell_type": "markdown",
     "metadata": {},
     "source": [
      "Divide the array by the number of nodes.  In this case they divide evenly, a more general partitioning of sizes is easy to do as well."
     ]
    },
    {
     "cell_type": "code",
     "collapsed": false,
     "input": [
      "cli.ids"
     ],
     "language": "python",
     "metadata": {},
     "outputs": [
      {
       "metadata": {},
       "output_type": "pyout",
       "prompt_number": 73,
       "text": [
        "[0, 1, 2, 3]"
       ]
      }
     ],
     "prompt_number": 73
    },
    {
     "cell_type": "code",
     "collapsed": false,
     "input": [
      "N = 100000\n",
      "thin = 10\n",
      "n = N/len(cli.ids)\n",
      "dv = cli[:]\n",
      "dv.push(dict(n=n, thin=thin))\n",
      "# Let's just confirm visually we got what we expect\n",
      "dv['n']"
     ],
     "language": "python",
     "metadata": {},
     "outputs": [
      {
       "metadata": {},
       "output_type": "pyout",
       "prompt_number": 74,
       "text": [
        "[25000, 25000, 25000, 25000]"
       ]
      }
     ],
     "prompt_number": 74
    },
    {
     "cell_type": "markdown",
     "metadata": {},
     "source": [
      "We can time the execution of the gibbs sampler on the remote nodes"
     ]
    },
    {
     "cell_type": "code",
     "collapsed": false,
     "input": [
      "%pxconfig --noblock"
     ],
     "language": "python",
     "metadata": {},
     "outputs": [],
     "prompt_number": 82
    },
    {
     "cell_type": "code",
     "collapsed": false,
     "input": [
      "%timeit dv.execute('gibbs(n, thin)')"
     ],
     "language": "python",
     "metadata": {},
     "outputs": [
      {
       "output_type": "stream",
       "stream": "stdout",
       "text": [
        "100 loops, best of 3: 4.43 ms per loop\n"
       ]
      }
     ],
     "prompt_number": 76
    },
    {
     "cell_type": "markdown",
     "metadata": {},
     "source": [
      "But a more realistic (and costly) benchmark must also include the cost of bringing the results back from the cluster engines to our local namespace.  For that, we assign the call to the variable `a` on each node and then use the view's `gather` method to pull them back in:"
     ]
    },
    {
     "cell_type": "code",
     "collapsed": false,
     "input": [
      "%%timeit\n",
      "dv.execute('a = gibbs(n, thin)')\n",
      "a = dv.gather('a')"
     ],
     "language": "python",
     "metadata": {},
     "outputs": [
      {
       "output_type": "stream",
       "stream": "stdout",
       "text": [
        "<AsyncMapResult: gather>\n",
        "<AsyncMapResult: gather>\n",
        "<AsyncMapResult: gather>\n",
        "<AsyncMapResult: gather>\n",
        "<AsyncMapResult: gather>"
       ]
      },
      {
       "output_type": "stream",
       "stream": "stdout",
       "text": [
        "\n",
        "<AsyncMapResult: gather>\n",
        "<AsyncMapResult: gather>\n",
        "<AsyncMapResult: gather>\n",
        "<AsyncMapResult: gather>"
       ]
      },
      {
       "output_type": "stream",
       "stream": "stdout",
       "text": [
        "\n",
        "<AsyncMapResult: gather>\n",
        "<AsyncMapResult: gather>\n",
        "<AsyncMapResult: gather>"
       ]
      },
      {
       "output_type": "stream",
       "stream": "stdout",
       "text": [
        "\n",
        "<AsyncMapResult: gather>\n",
        "<AsyncMapResult: gather>"
       ]
      },
      {
       "output_type": "stream",
       "stream": "stdout",
       "text": [
        "\n",
        "<AsyncMapResult: gather>\n",
        "<AsyncMapResult: gather>"
       ]
      },
      {
       "output_type": "stream",
       "stream": "stdout",
       "text": [
        "\n",
        "<AsyncMapResult: gather>\n",
        "<AsyncMapResult: gather>"
       ]
      },
      {
       "output_type": "stream",
       "stream": "stdout",
       "text": [
        "\n",
        "<AsyncMapResult: gather>\n",
        "<AsyncMapResult: gather>"
       ]
      },
      {
       "output_type": "stream",
       "stream": "stdout",
       "text": [
        "\n",
        "<AsyncMapResult: gather>\n",
        "<AsyncMapResult: gather>\n",
        "<AsyncMapResult: gather>"
       ]
      },
      {
       "output_type": "stream",
       "stream": "stdout",
       "text": [
        "\n",
        "<AsyncMapResult: gather>\n",
        "<AsyncMapResult: gather>"
       ]
      },
      {
       "output_type": "stream",
       "stream": "stdout",
       "text": [
        "\n",
        "<AsyncMapResult: gather>\n",
        "<AsyncMapResult: gather>\n",
        "<AsyncMapResult: gather>"
       ]
      },
      {
       "output_type": "stream",
       "stream": "stdout",
       "text": [
        "\n",
        "<AsyncMapResult: gather>\n",
        "<AsyncMapResult: gather>"
       ]
      },
      {
       "output_type": "stream",
       "stream": "stdout",
       "text": [
        "\n",
        "<AsyncMapResult: gather>\n",
        "<AsyncMapResult: gather>"
       ]
      },
      {
       "output_type": "stream",
       "stream": "stdout",
       "text": [
        "\n",
        "<AsyncMapResult: gather>\n",
        "<AsyncMapResult: gather>\n",
        "<AsyncMapResult: gather>"
       ]
      },
      {
       "output_type": "stream",
       "stream": "stdout",
       "text": [
        "\n",
        "<AsyncMapResult: gather>\n",
        "<AsyncMapResult: gather>"
       ]
      },
      {
       "output_type": "stream",
       "stream": "stdout",
       "text": [
        "\n",
        "<AsyncMapResult: gather>\n",
        "<AsyncMapResult: gather>"
       ]
      },
      {
       "output_type": "stream",
       "stream": "stdout",
       "text": [
        "\n",
        "<AsyncMapResult: gather>\n",
        "<AsyncMapResult: gather>\n",
        "<AsyncMapResult: gather>"
       ]
      },
      {
       "output_type": "stream",
       "stream": "stdout",
       "text": [
        "\n",
        "<AsyncMapResult: gather>"
       ]
      },
      {
       "output_type": "stream",
       "stream": "stdout",
       "text": [
        "\n",
        "<AsyncMapResult: gather>\n",
        "<AsyncMapResult: gather>"
       ]
      },
      {
       "output_type": "stream",
       "stream": "stdout",
       "text": [
        "\n",
        "<AsyncMapResult: gather>\n",
        "<AsyncMapResult: gather>"
       ]
      },
      {
       "output_type": "stream",
       "stream": "stdout",
       "text": [
        "\n",
        "<AsyncMapResult: gather>\n",
        "<AsyncMapResult: gather>"
       ]
      },
      {
       "output_type": "stream",
       "stream": "stdout",
       "text": [
        "\n",
        "<AsyncMapResult: gather>\n",
        "<AsyncMapResult: gather>\n",
        "<AsyncMapResult: gather>"
       ]
      },
      {
       "output_type": "stream",
       "stream": "stdout",
       "text": [
        "\n",
        "<AsyncMapResult: gather>\n",
        "<AsyncMapResult: gather>"
       ]
      },
      {
       "output_type": "stream",
       "stream": "stdout",
       "text": [
        "\n",
        "<AsyncMapResult: gather>\n",
        "<AsyncMapResult: gather>"
       ]
      },
      {
       "output_type": "stream",
       "stream": "stdout",
       "text": [
        "\n",
        "<AsyncMapResult: gather>\n",
        "<AsyncMapResult: gather>\n",
        "<AsyncMapResult: gather>"
       ]
      },
      {
       "output_type": "stream",
       "stream": "stdout",
       "text": [
        "\n",
        "<AsyncMapResult: gather>\n",
        "<AsyncMapResult: gather>"
       ]
      },
      {
       "output_type": "stream",
       "stream": "stdout",
       "text": [
        "\n",
        "<AsyncMapResult: gather>\n",
        "<AsyncMapResult: gather>"
       ]
      },
      {
       "output_type": "stream",
       "stream": "stdout",
       "text": [
        "\n",
        "<AsyncMapResult: gather>\n",
        "<AsyncMapResult: gather>"
       ]
      },
      {
       "output_type": "stream",
       "stream": "stdout",
       "text": [
        "\n",
        "<AsyncMapResult: gather>\n",
        "<AsyncMapResult: gather>"
       ]
      },
      {
       "output_type": "stream",
       "stream": "stdout",
       "text": [
        "\n",
        "<AsyncMapResult: gather>\n",
        "<AsyncMapResult: gather>"
       ]
      },
      {
       "output_type": "stream",
       "stream": "stdout",
       "text": [
        "\n",
        "<AsyncMapResult: gather>\n",
        "<AsyncMapResult: gather>\n",
        "<AsyncMapResult: gather>"
       ]
      },
      {
       "output_type": "stream",
       "stream": "stdout",
       "text": [
        "\n",
        "<AsyncMapResult: gather>\n",
        "<AsyncMapResult: gather>"
       ]
      },
      {
       "output_type": "stream",
       "stream": "stdout",
       "text": [
        "\n",
        "<AsyncMapResult: gather>\n",
        "<AsyncMapResult: gather>"
       ]
      },
      {
       "output_type": "stream",
       "stream": "stdout",
       "text": [
        "\n",
        "<AsyncMapResult: gather>\n",
        "<AsyncMapResult: gather>"
       ]
      },
      {
       "output_type": "stream",
       "stream": "stdout",
       "text": [
        "\n",
        "<AsyncMapResult: gather>\n",
        "<AsyncMapResult: gather>"
       ]
      },
      {
       "output_type": "stream",
       "stream": "stdout",
       "text": [
        "\n",
        "<AsyncMapResult: gather>\n",
        "<AsyncMapResult: gather>"
       ]
      },
      {
       "output_type": "stream",
       "stream": "stdout",
       "text": [
        "\n",
        "<AsyncMapResult: gather>\n",
        "<AsyncMapResult: gather>"
       ]
      },
      {
       "output_type": "stream",
       "stream": "stdout",
       "text": [
        "\n",
        "<AsyncMapResult: gather>\n",
        "<AsyncMapResult: gather>"
       ]
      },
      {
       "output_type": "stream",
       "stream": "stdout",
       "text": [
        "\n",
        "<AsyncMapResult: gather>\n",
        "<AsyncMapResult: gather>\n",
        "<AsyncMapResult: gather>"
       ]
      },
      {
       "output_type": "stream",
       "stream": "stdout",
       "text": [
        "\n",
        "<AsyncMapResult: gather>\n",
        "<AsyncMapResult: gather>"
       ]
      },
      {
       "output_type": "stream",
       "stream": "stdout",
       "text": [
        "\n",
        "<AsyncMapResult: gather>\n",
        "<AsyncMapResult: gather>"
       ]
      },
      {
       "output_type": "stream",
       "stream": "stdout",
       "text": [
        "\n",
        "<AsyncMapResult: gather>\n",
        "<AsyncMapResult: gather>"
       ]
      },
      {
       "output_type": "stream",
       "stream": "stdout",
       "text": [
        "\n",
        "<AsyncMapResult: gather>\n",
        "<AsyncMapResult: gather>"
       ]
      },
      {
       "output_type": "stream",
       "stream": "stdout",
       "text": [
        "\n",
        "<AsyncMapResult: gather>\n",
        "<AsyncMapResult: gather>"
       ]
      },
      {
       "output_type": "stream",
       "stream": "stdout",
       "text": [
        "\n",
        "<AsyncMapResult: gather>\n",
        "<AsyncMapResult: gather>"
       ]
      },
      {
       "output_type": "stream",
       "stream": "stdout",
       "text": [
        "\n",
        "<AsyncMapResult: gather>\n",
        "<AsyncMapResult: gather>"
       ]
      },
      {
       "output_type": "stream",
       "stream": "stdout",
       "text": [
        "\n",
        "<AsyncMapResult: gather>\n",
        "<AsyncMapResult: gather>\n",
        "<AsyncMapResult: gather>"
       ]
      },
      {
       "output_type": "stream",
       "stream": "stdout",
       "text": [
        "\n",
        "<AsyncMapResult: gather>"
       ]
      },
      {
       "output_type": "stream",
       "stream": "stdout",
       "text": [
        "\n",
        "<AsyncMapResult: gather>\n",
        "<AsyncMapResult: gather>"
       ]
      },
      {
       "output_type": "stream",
       "stream": "stdout",
       "text": [
        "\n",
        "<AsyncMapResult: gather>\n",
        "<AsyncMapResult: gather>\n",
        "<AsyncMapResult: gather>"
       ]
      },
      {
       "output_type": "stream",
       "stream": "stdout",
       "text": [
        "\n",
        "<AsyncMapResult: gather>\n",
        "<AsyncMapResult: gather>"
       ]
      },
      {
       "output_type": "stream",
       "stream": "stdout",
       "text": [
        "\n",
        "<AsyncMapResult: gather>\n",
        "<AsyncMapResult: gather>"
       ]
      },
      {
       "output_type": "stream",
       "stream": "stdout",
       "text": [
        "\n",
        "<AsyncMapResult: gather>\n",
        "<AsyncMapResult: gather>"
       ]
      },
      {
       "output_type": "stream",
       "stream": "stdout",
       "text": [
        "\n",
        "<AsyncMapResult: gather>\n",
        "<AsyncMapResult: gather>"
       ]
      },
      {
       "output_type": "stream",
       "stream": "stdout",
       "text": [
        "\n",
        "<AsyncMapResult: gather>\n",
        "<AsyncMapResult: gather>"
       ]
      },
      {
       "output_type": "stream",
       "stream": "stdout",
       "text": [
        "\n",
        "<AsyncMapResult: gather>\n",
        "<AsyncMapResult: gather>\n",
        "<AsyncMapResult: gather>"
       ]
      },
      {
       "output_type": "stream",
       "stream": "stdout",
       "text": [
        "\n",
        "<AsyncMapResult: gather>\n",
        "<AsyncMapResult: gather>"
       ]
      },
      {
       "output_type": "stream",
       "stream": "stdout",
       "text": [
        "\n",
        "<AsyncMapResult: gather>\n",
        "<AsyncMapResult: gather>"
       ]
      },
      {
       "output_type": "stream",
       "stream": "stdout",
       "text": [
        "\n",
        "<AsyncMapResult: gather>\n",
        "<AsyncMapResult: gather>"
       ]
      },
      {
       "output_type": "stream",
       "stream": "stdout",
       "text": [
        "\n",
        "<AsyncMapResult: gather>\n",
        "<AsyncMapResult: gather>"
       ]
      },
      {
       "output_type": "stream",
       "stream": "stdout",
       "text": [
        "\n",
        "<AsyncMapResult: gather>\n",
        "<AsyncMapResult: gather>"
       ]
      },
      {
       "output_type": "stream",
       "stream": "stdout",
       "text": [
        "\n",
        "<AsyncMapResult: gather>\n",
        "<AsyncMapResult: gather>"
       ]
      },
      {
       "output_type": "stream",
       "stream": "stdout",
       "text": [
        "\n",
        "<AsyncMapResult: gather>\n",
        "<AsyncMapResult: gather>"
       ]
      },
      {
       "output_type": "stream",
       "stream": "stdout",
       "text": [
        "\n",
        "<AsyncMapResult: gather>\n",
        "<AsyncMapResult: gather>"
       ]
      },
      {
       "output_type": "stream",
       "stream": "stdout",
       "text": [
        "\n",
        "<AsyncMapResult: gather>\n",
        "<AsyncMapResult: gather>"
       ]
      },
      {
       "output_type": "stream",
       "stream": "stdout",
       "text": [
        "\n",
        "<AsyncMapResult: gather>\n",
        "<AsyncMapResult: gather>"
       ]
      },
      {
       "output_type": "stream",
       "stream": "stdout",
       "text": [
        "\n",
        "<AsyncMapResult: gather>\n",
        "<AsyncMapResult: gather>"
       ]
      },
      {
       "output_type": "stream",
       "stream": "stdout",
       "text": [
        "\n",
        "<AsyncMapResult: gather>\n",
        "<AsyncMapResult: gather>"
       ]
      },
      {
       "output_type": "stream",
       "stream": "stdout",
       "text": [
        "\n",
        "<AsyncMapResult: gather>\n",
        "<AsyncMapResult: gather>"
       ]
      },
      {
       "output_type": "stream",
       "stream": "stdout",
       "text": [
        "\n",
        "<AsyncMapResult: gather>\n",
        "<AsyncMapResult: gather>"
       ]
      },
      {
       "output_type": "stream",
       "stream": "stdout",
       "text": [
        "\n",
        "<AsyncMapResult: gather>\n",
        "<AsyncMapResult: gather>\n",
        "<AsyncMapResult: gather>"
       ]
      },
      {
       "output_type": "stream",
       "stream": "stdout",
       "text": [
        "\n",
        "<AsyncMapResult: gather>\n",
        "<AsyncMapResult: gather>"
       ]
      },
      {
       "output_type": "stream",
       "stream": "stdout",
       "text": [
        "\n",
        "<AsyncMapResult: gather>\n",
        "<AsyncMapResult: gather>"
       ]
      },
      {
       "output_type": "stream",
       "stream": "stdout",
       "text": [
        "\n",
        "<AsyncMapResult: gather>\n",
        "<AsyncMapResult: gather>"
       ]
      },
      {
       "output_type": "stream",
       "stream": "stdout",
       "text": [
        "\n",
        "<AsyncMapResult: gather>\n",
        "<AsyncMapResult: gather>"
       ]
      },
      {
       "output_type": "stream",
       "stream": "stdout",
       "text": [
        "\n",
        "<AsyncMapResult: gather>\n",
        "<AsyncMapResult: gather>"
       ]
      },
      {
       "output_type": "stream",
       "stream": "stdout",
       "text": [
        "\n",
        "<AsyncMapResult: gather>\n",
        "<AsyncMapResult: gather>\n",
        "<AsyncMapResult: gather>"
       ]
      },
      {
       "output_type": "stream",
       "stream": "stdout",
       "text": [
        "\n",
        "<AsyncMapResult: gather>\n",
        "<AsyncMapResult: gather>\n",
        "<AsyncMapResult: gather>"
       ]
      },
      {
       "output_type": "stream",
       "stream": "stdout",
       "text": [
        "\n",
        "<AsyncMapResult: gather>\n",
        "<AsyncMapResult: gather>"
       ]
      },
      {
       "output_type": "stream",
       "stream": "stdout",
       "text": [
        "\n",
        "<AsyncMapResult: gather>\n",
        "<AsyncMapResult: gather>"
       ]
      },
      {
       "output_type": "stream",
       "stream": "stdout",
       "text": [
        "\n",
        "<AsyncMapResult: gather>\n",
        "<AsyncMapResult: gather>"
       ]
      },
      {
       "output_type": "stream",
       "stream": "stdout",
       "text": [
        "\n",
        "<AsyncMapResult: gather>\n",
        "<AsyncMapResult: gather>"
       ]
      },
      {
       "output_type": "stream",
       "stream": "stdout",
       "text": [
        "\n",
        "<AsyncMapResult: gather>\n",
        "<AsyncMapResult: gather>"
       ]
      },
      {
       "output_type": "stream",
       "stream": "stdout",
       "text": [
        "\n",
        "<AsyncMapResult: gather>\n",
        "<AsyncMapResult: gather>"
       ]
      },
      {
       "output_type": "stream",
       "stream": "stdout",
       "text": [
        "\n",
        "<AsyncMapResult: gather>\n",
        "<AsyncMapResult: gather>"
       ]
      },
      {
       "output_type": "stream",
       "stream": "stdout",
       "text": [
        "\n",
        "<AsyncMapResult: gather>\n",
        "<AsyncMapResult: gather>"
       ]
      },
      {
       "output_type": "stream",
       "stream": "stdout",
       "text": [
        "\n",
        "<AsyncMapResult: gather>\n",
        "<AsyncMapResult: gather>"
       ]
      },
      {
       "output_type": "stream",
       "stream": "stdout",
       "text": [
        "\n",
        "<AsyncMapResult: gather>\n",
        "<AsyncMapResult: gather>\n",
        "<AsyncMapResult: gather>"
       ]
      },
      {
       "output_type": "stream",
       "stream": "stdout",
       "text": [
        "\n",
        "<AsyncMapResult: gather>\n",
        "<AsyncMapResult: gather>"
       ]
      },
      {
       "output_type": "stream",
       "stream": "stdout",
       "text": [
        "\n",
        "<AsyncMapResult: gather>\n",
        "<AsyncMapResult: gather>"
       ]
      },
      {
       "output_type": "stream",
       "stream": "stdout",
       "text": [
        "\n",
        "<AsyncMapResult: gather>\n",
        "<AsyncMapResult: gather>"
       ]
      },
      {
       "output_type": "stream",
       "stream": "stdout",
       "text": [
        "\n",
        "<AsyncMapResult: gather>\n",
        "<AsyncMapResult: gather>"
       ]
      },
      {
       "output_type": "stream",
       "stream": "stdout",
       "text": [
        "\n",
        "<AsyncMapResult: gather>\n",
        "<AsyncMapResult: gather>"
       ]
      },
      {
       "output_type": "stream",
       "stream": "stdout",
       "text": [
        "\n",
        "<AsyncMapResult: gather>\n",
        "<AsyncMapResult: gather>"
       ]
      },
      {
       "output_type": "stream",
       "stream": "stdout",
       "text": [
        "\n",
        "<AsyncMapResult: gather>\n",
        "<AsyncMapResult: gather>"
       ]
      },
      {
       "output_type": "stream",
       "stream": "stdout",
       "text": [
        "\n",
        "<AsyncMapResult: gather>\n",
        "<AsyncMapResult: gather>"
       ]
      },
      {
       "output_type": "stream",
       "stream": "stdout",
       "text": [
        "\n",
        "<AsyncMapResult: gather>\n",
        "<AsyncMapResult: gather>"
       ]
      },
      {
       "output_type": "stream",
       "stream": "stdout",
       "text": [
        "\n",
        "<AsyncMapResult: gather>\n",
        "<AsyncMapResult: gather>"
       ]
      },
      {
       "output_type": "stream",
       "stream": "stdout",
       "text": [
        "\n",
        "<AsyncMapResult: gather>\n",
        "<AsyncMapResult: gather>\n",
        "<AsyncMapResult: gather>"
       ]
      },
      {
       "output_type": "stream",
       "stream": "stdout",
       "text": [
        "\n",
        "<AsyncMapResult: gather>\n",
        "<AsyncMapResult: gather>"
       ]
      },
      {
       "output_type": "stream",
       "stream": "stdout",
       "text": [
        "\n",
        "<AsyncMapResult: gather>\n",
        "<AsyncMapResult: gather>"
       ]
      },
      {
       "output_type": "stream",
       "stream": "stdout",
       "text": [
        "\n",
        "<AsyncMapResult: gather>\n",
        "<AsyncMapResult: gather>"
       ]
      },
      {
       "output_type": "stream",
       "stream": "stdout",
       "text": [
        "\n",
        "<AsyncMapResult: gather>\n",
        "<AsyncMapResult: gather>"
       ]
      },
      {
       "output_type": "stream",
       "stream": "stdout",
       "text": [
        "\n",
        "<AsyncMapResult: gather>\n",
        "<AsyncMapResult: gather>"
       ]
      },
      {
       "output_type": "stream",
       "stream": "stdout",
       "text": [
        "\n",
        "<AsyncMapResult: gather>\n",
        "<AsyncMapResult: gather>"
       ]
      },
      {
       "output_type": "stream",
       "stream": "stdout",
       "text": [
        "\n",
        "<AsyncMapResult: gather>\n",
        "<AsyncMapResult: gather>\n",
        "<AsyncMapResult: gather>"
       ]
      },
      {
       "output_type": "stream",
       "stream": "stdout",
       "text": [
        "\n",
        "<AsyncMapResult: gather>\n",
        "<AsyncMapResult: gather>"
       ]
      },
      {
       "output_type": "stream",
       "stream": "stdout",
       "text": [
        "\n",
        "<AsyncMapResult: gather>\n",
        "<AsyncMapResult: gather>"
       ]
      },
      {
       "output_type": "stream",
       "stream": "stdout",
       "text": [
        "\n",
        "<AsyncMapResult: gather>\n",
        "<AsyncMapResult: gather>\n",
        "<AsyncMapResult: gather>"
       ]
      },
      {
       "output_type": "stream",
       "stream": "stdout",
       "text": [
        "\n",
        "<AsyncMapResult: gather>\n",
        "<AsyncMapResult: gather>"
       ]
      },
      {
       "output_type": "stream",
       "stream": "stdout",
       "text": [
        "\n",
        "<AsyncMapResult: gather>\n",
        "<AsyncMapResult: gather>"
       ]
      },
      {
       "output_type": "stream",
       "stream": "stdout",
       "text": [
        "\n",
        "<AsyncMapResult: gather>\n",
        "<AsyncMapResult: gather>"
       ]
      },
      {
       "output_type": "stream",
       "stream": "stdout",
       "text": [
        "\n",
        "<AsyncMapResult: gather>\n",
        "<AsyncMapResult: gather>\n",
        "<AsyncMapResult: gather>"
       ]
      },
      {
       "output_type": "stream",
       "stream": "stdout",
       "text": [
        "\n",
        "<AsyncMapResult: gather>\n",
        "<AsyncMapResult: gather>\n",
        "<AsyncMapResult: gather>"
       ]
      },
      {
       "output_type": "stream",
       "stream": "stdout",
       "text": [
        "\n",
        "<AsyncMapResult: gather>\n",
        "<AsyncMapResult: gather>"
       ]
      },
      {
       "output_type": "stream",
       "stream": "stdout",
       "text": [
        "\n",
        "<AsyncMapResult: gather>\n",
        "<AsyncMapResult: gather>"
       ]
      },
      {
       "output_type": "stream",
       "stream": "stdout",
       "text": [
        "\n",
        "<AsyncMapResult: gather>\n",
        "<AsyncMapResult: gather>"
       ]
      },
      {
       "output_type": "stream",
       "stream": "stdout",
       "text": [
        "\n",
        "<AsyncMapResult: gather>\n",
        "<AsyncMapResult: gather>"
       ]
      },
      {
       "output_type": "stream",
       "stream": "stdout",
       "text": [
        "\n",
        "<AsyncMapResult: gather>\n",
        "<AsyncMapResult: gather>"
       ]
      },
      {
       "output_type": "stream",
       "stream": "stdout",
       "text": [
        "\n",
        "<AsyncMapResult: gather>\n",
        "<AsyncMapResult: gather>"
       ]
      },
      {
       "output_type": "stream",
       "stream": "stdout",
       "text": [
        "\n",
        "<AsyncMapResult: gather>\n",
        "<AsyncMapResult: gather>"
       ]
      },
      {
       "output_type": "stream",
       "stream": "stdout",
       "text": [
        "\n",
        "<AsyncMapResult: gather>\n",
        "<AsyncMapResult: gather>"
       ]
      },
      {
       "output_type": "stream",
       "stream": "stdout",
       "text": [
        "\n",
        "<AsyncMapResult: gather>\n",
        "<AsyncMapResult: gather>"
       ]
      },
      {
       "output_type": "stream",
       "stream": "stdout",
       "text": [
        "\n",
        "<AsyncMapResult: gather>\n",
        "<AsyncMapResult: gather>"
       ]
      },
      {
       "output_type": "stream",
       "stream": "stdout",
       "text": [
        "\n",
        "<AsyncMapResult: gather>\n",
        "<AsyncMapResult: gather>"
       ]
      },
      {
       "output_type": "stream",
       "stream": "stdout",
       "text": [
        "\n",
        "<AsyncMapResult: gather>\n",
        "<AsyncMapResult: gather>"
       ]
      },
      {
       "output_type": "stream",
       "stream": "stdout",
       "text": [
        "\n",
        "<AsyncMapResult: gather>\n",
        "<AsyncMapResult: gather>"
       ]
      },
      {
       "output_type": "stream",
       "stream": "stdout",
       "text": [
        "\n",
        "<AsyncMapResult: gather>\n",
        "<AsyncMapResult: gather>\n",
        "<AsyncMapResult: gather>"
       ]
      },
      {
       "output_type": "stream",
       "stream": "stdout",
       "text": [
        "\n",
        "<AsyncMapResult: gather>\n",
        "<AsyncMapResult: gather>"
       ]
      },
      {
       "output_type": "stream",
       "stream": "stdout",
       "text": [
        "\n",
        "<AsyncMapResult: gather>\n",
        "<AsyncMapResult: gather>"
       ]
      },
      {
       "output_type": "stream",
       "stream": "stdout",
       "text": [
        "\n",
        "<AsyncMapResult: gather>\n",
        "<AsyncMapResult: gather>"
       ]
      },
      {
       "output_type": "stream",
       "stream": "stdout",
       "text": [
        "\n",
        "<AsyncMapResult: gather>\n",
        "<AsyncMapResult: gather>"
       ]
      },
      {
       "output_type": "stream",
       "stream": "stdout",
       "text": [
        "\n",
        "<AsyncMapResult: gather>\n",
        "<AsyncMapResult: gather>"
       ]
      },
      {
       "output_type": "stream",
       "stream": "stdout",
       "text": [
        "\n",
        "<AsyncMapResult: gather>\n",
        "<AsyncMapResult: gather>"
       ]
      },
      {
       "output_type": "stream",
       "stream": "stdout",
       "text": [
        "\n",
        "<AsyncMapResult: gather>\n",
        "<AsyncMapResult: gather>"
       ]
      },
      {
       "output_type": "stream",
       "stream": "stdout",
       "text": [
        "\n",
        "<AsyncMapResult: gather>\n",
        "<AsyncMapResult: gather>"
       ]
      },
      {
       "output_type": "stream",
       "stream": "stdout",
       "text": [
        "\n",
        "<AsyncMapResult: gather>\n",
        "<AsyncMapResult: gather>"
       ]
      },
      {
       "output_type": "stream",
       "stream": "stdout",
       "text": [
        "\n",
        "<AsyncMapResult: gather>\n",
        "<AsyncMapResult: gather>"
       ]
      },
      {
       "output_type": "stream",
       "stream": "stdout",
       "text": [
        "\n",
        "<AsyncMapResult: gather>\n",
        "<AsyncMapResult: gather>"
       ]
      },
      {
       "output_type": "stream",
       "stream": "stdout",
       "text": [
        "\n",
        "<AsyncMapResult: gather>\n",
        "<AsyncMapResult: gather>"
       ]
      },
      {
       "output_type": "stream",
       "stream": "stdout",
       "text": [
        "\n",
        "<AsyncMapResult: gather>\n",
        "<AsyncMapResult: gather>"
       ]
      },
      {
       "output_type": "stream",
       "stream": "stdout",
       "text": [
        "\n",
        "<AsyncMapResult: gather>\n",
        "<AsyncMapResult: gather>"
       ]
      },
      {
       "output_type": "stream",
       "stream": "stdout",
       "text": [
        "\n",
        "<AsyncMapResult: gather>\n",
        "<AsyncMapResult: gather>"
       ]
      },
      {
       "output_type": "stream",
       "stream": "stdout",
       "text": [
        "\n",
        "<AsyncMapResult: gather>\n",
        "<AsyncMapResult: gather>"
       ]
      },
      {
       "output_type": "stream",
       "stream": "stdout",
       "text": [
        "\n",
        "<AsyncMapResult: gather>\n",
        "<AsyncMapResult: gather>\n",
        "<AsyncMapResult: gather>"
       ]
      },
      {
       "output_type": "stream",
       "stream": "stdout",
       "text": [
        "\n",
        "<AsyncMapResult: gather>\n",
        "<AsyncMapResult: gather>"
       ]
      },
      {
       "output_type": "stream",
       "stream": "stdout",
       "text": [
        "\n",
        "<AsyncMapResult: gather>\n",
        "<AsyncMapResult: gather>"
       ]
      },
      {
       "output_type": "stream",
       "stream": "stdout",
       "text": [
        "\n",
        "<AsyncMapResult: gather>\n",
        "<AsyncMapResult: gather>"
       ]
      },
      {
       "output_type": "stream",
       "stream": "stdout",
       "text": [
        "\n",
        "<AsyncMapResult: gather>\n",
        "<AsyncMapResult: gather>"
       ]
      },
      {
       "output_type": "stream",
       "stream": "stdout",
       "text": [
        "\n",
        "<AsyncMapResult: gather>\n",
        "<AsyncMapResult: gather>"
       ]
      },
      {
       "output_type": "stream",
       "stream": "stdout",
       "text": [
        "\n",
        "<AsyncMapResult: gather>\n",
        "<AsyncMapResult: gather>"
       ]
      },
      {
       "output_type": "stream",
       "stream": "stdout",
       "text": [
        "\n",
        "<AsyncMapResult: gather>\n",
        "<AsyncMapResult: gather>"
       ]
      },
      {
       "output_type": "stream",
       "stream": "stdout",
       "text": [
        "\n",
        "<AsyncMapResult: gather>\n",
        "<AsyncMapResult: gather>"
       ]
      },
      {
       "output_type": "stream",
       "stream": "stdout",
       "text": [
        "\n",
        "<AsyncMapResult: gather>\n",
        "<AsyncMapResult: gather>"
       ]
      },
      {
       "output_type": "stream",
       "stream": "stdout",
       "text": [
        "\n",
        "<AsyncMapResult: gather>\n",
        "<AsyncMapResult: gather>"
       ]
      },
      {
       "output_type": "stream",
       "stream": "stdout",
       "text": [
        "\n",
        "<AsyncMapResult: gather>\n",
        "<AsyncMapResult: gather>"
       ]
      },
      {
       "output_type": "stream",
       "stream": "stdout",
       "text": [
        "\n",
        "<AsyncMapResult: gather>\n",
        "<AsyncMapResult: gather>"
       ]
      },
      {
       "output_type": "stream",
       "stream": "stdout",
       "text": [
        "\n",
        "<AsyncMapResult: gather>\n",
        "<AsyncMapResult: gather>"
       ]
      },
      {
       "output_type": "stream",
       "stream": "stdout",
       "text": [
        "\n",
        "<AsyncMapResult: gather>\n",
        "<AsyncMapResult: gather>"
       ]
      },
      {
       "output_type": "stream",
       "stream": "stdout",
       "text": [
        "\n",
        "<AsyncMapResult: gather>\n",
        "<AsyncMapResult: gather>"
       ]
      },
      {
       "output_type": "stream",
       "stream": "stdout",
       "text": [
        "\n",
        "<AsyncMapResult: gather>\n",
        "<AsyncMapResult: gather>\n",
        "<AsyncMapResult: gather>"
       ]
      },
      {
       "output_type": "stream",
       "stream": "stdout",
       "text": [
        "\n",
        "<AsyncMapResult: gather>\n",
        "<AsyncMapResult: gather>"
       ]
      },
      {
       "output_type": "stream",
       "stream": "stdout",
       "text": [
        "\n",
        "<AsyncMapResult: gather>\n",
        "<AsyncMapResult: gather>"
       ]
      },
      {
       "output_type": "stream",
       "stream": "stdout",
       "text": [
        "\n",
        "<AsyncMapResult: gather>\n",
        "<AsyncMapResult: gather>\n",
        "<AsyncMapResult: gather>"
       ]
      },
      {
       "output_type": "stream",
       "stream": "stdout",
       "text": [
        "\n",
        "<AsyncMapResult: gather>\n",
        "<AsyncMapResult: gather>"
       ]
      },
      {
       "output_type": "stream",
       "stream": "stdout",
       "text": [
        "\n",
        "<AsyncMapResult: gather>\n",
        "<AsyncMapResult: gather>"
       ]
      },
      {
       "output_type": "stream",
       "stream": "stdout",
       "text": [
        "\n",
        "<AsyncMapResult: gather>\n",
        "<AsyncMapResult: gather>\n",
        "<AsyncMapResult: gather>"
       ]
      },
      {
       "output_type": "stream",
       "stream": "stdout",
       "text": [
        "\n",
        "<AsyncMapResult: gather>\n",
        "<AsyncMapResult: gather>\n",
        "<AsyncMapResult: gather>"
       ]
      },
      {
       "output_type": "stream",
       "stream": "stdout",
       "text": [
        "\n",
        "<AsyncMapResult: gather>\n",
        "<AsyncMapResult: gather>\n",
        "<AsyncMapResult: gather>"
       ]
      },
      {
       "output_type": "stream",
       "stream": "stdout",
       "text": [
        "\n",
        "<AsyncMapResult: gather>\n",
        "<AsyncMapResult: gather>"
       ]
      },
      {
       "output_type": "stream",
       "stream": "stdout",
       "text": [
        "\n",
        "<AsyncMapResult: gather>\n",
        "<AsyncMapResult: gather>"
       ]
      },
      {
       "output_type": "stream",
       "stream": "stdout",
       "text": [
        "\n",
        "<AsyncMapResult: gather>\n",
        "<AsyncMapResult: gather>"
       ]
      },
      {
       "output_type": "stream",
       "stream": "stdout",
       "text": [
        "\n",
        "<AsyncMapResult: gather>\n",
        "<AsyncMapResult: gather>"
       ]
      },
      {
       "output_type": "stream",
       "stream": "stdout",
       "text": [
        "\n",
        "<AsyncMapResult: gather>\n",
        "<AsyncMapResult: gather>"
       ]
      },
      {
       "output_type": "stream",
       "stream": "stdout",
       "text": [
        "\n",
        "<AsyncMapResult: gather>\n",
        "<AsyncMapResult: gather>"
       ]
      },
      {
       "output_type": "stream",
       "stream": "stdout",
       "text": [
        "\n",
        "<AsyncMapResult: gather>\n",
        "<AsyncMapResult: gather>\n",
        "<AsyncMapResult: gather>"
       ]
      },
      {
       "output_type": "stream",
       "stream": "stdout",
       "text": [
        "\n",
        "<AsyncMapResult: gather>\n",
        "<AsyncMapResult: gather>\n",
        "<AsyncMapResult: gather>"
       ]
      },
      {
       "output_type": "stream",
       "stream": "stdout",
       "text": [
        "\n",
        "<AsyncMapResult: gather>\n",
        "<AsyncMapResult: gather>"
       ]
      },
      {
       "output_type": "stream",
       "stream": "stdout",
       "text": [
        "\n",
        "<AsyncMapResult: gather>\n",
        "<AsyncMapResult: gather>"
       ]
      },
      {
       "output_type": "stream",
       "stream": "stdout",
       "text": [
        "\n",
        "<AsyncMapResult: gather>\n",
        "<AsyncMapResult: gather>"
       ]
      },
      {
       "output_type": "stream",
       "stream": "stdout",
       "text": [
        "\n",
        "<AsyncMapResult: gather>\n",
        "<AsyncMapResult: gather>"
       ]
      },
      {
       "output_type": "stream",
       "stream": "stdout",
       "text": [
        "\n",
        "<AsyncMapResult: gather>\n",
        "<AsyncMapResult: gather>"
       ]
      },
      {
       "output_type": "stream",
       "stream": "stdout",
       "text": [
        "\n",
        "<AsyncMapResult: gather>\n",
        "<AsyncMapResult: gather>"
       ]
      },
      {
       "output_type": "stream",
       "stream": "stdout",
       "text": [
        "\n",
        "<AsyncMapResult: gather>\n",
        "<AsyncMapResult: gather>"
       ]
      },
      {
       "output_type": "stream",
       "stream": "stdout",
       "text": [
        "\n",
        "<AsyncMapResult: gather>\n",
        "<AsyncMapResult: gather>"
       ]
      },
      {
       "output_type": "stream",
       "stream": "stdout",
       "text": [
        "\n",
        "<AsyncMapResult: gather>\n",
        "<AsyncMapResult: gather>"
       ]
      },
      {
       "output_type": "stream",
       "stream": "stdout",
       "text": [
        "\n",
        "<AsyncMapResult: gather>\n",
        "<AsyncMapResult: gather>"
       ]
      },
      {
       "output_type": "stream",
       "stream": "stdout",
       "text": [
        "\n",
        "<AsyncMapResult: gather>\n",
        "<AsyncMapResult: gather>"
       ]
      },
      {
       "output_type": "stream",
       "stream": "stdout",
       "text": [
        "\n",
        "<AsyncMapResult: gather>\n",
        "<AsyncMapResult: gather>"
       ]
      },
      {
       "output_type": "stream",
       "stream": "stdout",
       "text": [
        "\n",
        "<AsyncMapResult: gather>\n",
        "<AsyncMapResult: gather>"
       ]
      },
      {
       "output_type": "stream",
       "stream": "stdout",
       "text": [
        "\n",
        "100 loops, best of 3: 28.2 ms per loop\n"
       ]
      }
     ],
     "prompt_number": 81
    },
    {
     "cell_type": "markdown",
     "metadata": {},
     "source": [
      "Let's compare this to the same number of samples executed on a single process:"
     ]
    },
    {
     "cell_type": "code",
     "collapsed": false,
     "input": [
      "%load_ext cythonmagic"
     ],
     "language": "python",
     "metadata": {},
     "outputs": [],
     "prompt_number": 16
    },
    {
     "cell_type": "code",
     "collapsed": false,
     "input": [
      "%%cython\n",
      "\n",
      "from libc.math cimport sqrt\n",
      "from numpy import zeros, random\n",
      "from numpy cimport *\n",
      "gamma = random.gamma\n",
      "normal = random.normal\n",
      "\n",
      "def gibbs(int N=20000, int thin=200):\n",
      "    cdef: \n",
      "        ndarray[float64_t, ndim=2] mat = zeros((N,2))\n",
      "        float64_t x,y = 0\n",
      "        int i,j\n",
      "    for i in range(N):\n",
      "        for j in range(thin):\n",
      "            x = gamma(3, y**2 + 4)\n",
      "            y = normal(1./(x+1), 1./sqrt(2*(x+1)))\n",
      "        mat[i] = x,y\n",
      "\n",
      "    return mat"
     ],
     "language": "python",
     "metadata": {},
     "outputs": [],
     "prompt_number": 17
    },
    {
     "cell_type": "code",
     "collapsed": false,
     "input": [
      "%%timeit \n",
      "a = gibbs(N, thin)"
     ],
     "language": "python",
     "metadata": {},
     "outputs": [
      {
       "output_type": "stream",
       "stream": "stdout",
       "text": [
        "1 loops, best of 3: 1.63 s per loop\n"
       ]
      }
     ],
     "prompt_number": 18
    },
    {
     "cell_type": "markdown",
     "metadata": {},
     "source": [
      "## Exercise\n",
      "\n",
      "Run parallel chains of the `disaster_model` example from PyMC and return the resulting traces to your client, for plotting and summarization."
     ]
    },
    {
     "cell_type": "code",
     "collapsed": false,
     "input": [
      "# Write your answer here"
     ],
     "language": "python",
     "metadata": {},
     "outputs": []
    },
    {
     "cell_type": "markdown",
     "metadata": {},
     "source": [
      "## References\n",
      "\n",
      "[Scientific Python Lectures](http://github.com/jrjohansson/scientific-python-lectures) by Robert Johansson\n",
      "\n",
      "[Using IPython for Parallel Computing](http://ipython.org/ipython-doc/dev/parallel/)"
     ]
    },
    {
     "cell_type": "markdown",
     "metadata": {},
     "source": [
      "---"
     ]
    },
    {
     "cell_type": "code",
     "collapsed": false,
     "input": [
      "from IPython.core.display import HTML\n",
      "def css_styling():\n",
      "    styles = open(\"styles/custom.css\", \"r\").read()\n",
      "    return HTML(styles)\n",
      "css_styling()"
     ],
     "language": "python",
     "metadata": {},
     "outputs": [
      {
       "html": [
        "<style>\n",
        "    @font-face {\n",
        "        font-family: \"Computer Modern\";\n",
        "        src: url('http://mirrors.ctan.org/fonts/cm-unicode/fonts/otf/cmunss.otf');\n",
        "    }\n",
        "    div.cell{\n",
        "        width:800px;\n",
        "/*        margin-left:16% !important;*/\n",
        "        margin-left:auto;\n",
        "        margin-right:auto;\n",
        "    }\n",
        "    h1 {\n",
        "        font-family: Helvetica, serif;\n",
        "    }\n",
        "    h4{\n",
        "        margin-top:12px;\n",
        "        margin-bottom: 3px;\n",
        "       }\n",
        "    div.text_cell_render{\n",
        "        font-family: Computer Modern, \"Helvetica Neue\", Arial, Helvetica, Geneva, sans-serif;\n",
        "        line-height: 145%;\n",
        "        font-size: 130%;\n",
        "        width:800px;\n",
        "        margin-left:auto;\n",
        "        margin-right:auto;\n",
        "    }\n",
        "    .CodeMirror{\n",
        "            font-family: \"Source Code Pro\", source-code-pro,Consolas, monospace;\n",
        "    }\n",
        "/*    .prompt{\n",
        "        display: None;\n",
        "    }*/\n",
        "    .text_cell_render h5 {\n",
        "        font-weight: 300;\n",
        "        font-size: 16pt;\n",
        "        color: #4057A1;\n",
        "        font-style: italic;\n",
        "        margin-bottom: .5em;\n",
        "        margin-top: 0.5em;\n",
        "        display: block;\n",
        "    }\n",
        "\n",
        "    .warning{\n",
        "        color: rgb( 240, 20, 20 )\n",
        "        }\n",
        "</style>\n",
        "<script>\n",
        "    MathJax.Hub.Config({\n",
        "                        TeX: {\n",
        "                           extensions: [\"AMSmath.js\"]\n",
        "                           },\n",
        "                tex2jax: {\n",
        "                    inlineMath: [ ['$','$'], [\"\\\\(\",\"\\\\)\"] ],\n",
        "                    displayMath: [ ['$$','$$'], [\"\\\\[\",\"\\\\]\"] ]\n",
        "                },\n",
        "                displayAlign: 'center', // Change this to 'center' to center equations.\n",
        "                \"HTML-CSS\": {\n",
        "                    styles: {'.MathJax_Display': {\"margin\": 4}}\n",
        "                }\n",
        "        });\n",
        "</script>"
       ],
       "metadata": {},
       "output_type": "pyout",
       "prompt_number": 1,
       "text": [
        "<IPython.core.display.HTML at 0x10f9b0dd0>"
       ]
      }
     ],
     "prompt_number": 1
    }
   ],
   "metadata": {}
  }
 ]
}