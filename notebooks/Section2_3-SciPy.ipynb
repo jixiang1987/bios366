{
 "metadata": {
  "name": "",
  "signature": "sha256:0eb88506095e2f6375cf637e4039b31c0ee11df6a1d8407ba13f0e083e7211df"
 },
 "nbformat": 3,
 "nbformat_minor": 0,
 "worksheets": [
  {
   "cells": [
    {
     "cell_type": "markdown",
     "metadata": {},
     "source": [
      "# SciPy\n",
      "\n",
      "The SciPy framework builds on top of the low-level NumPy framwork for multidimensional arrays, and provides a large number of higher-level scientific algorithms. Some of the topics that SciPy covers are:\n",
      "\n",
      "* Special functions ([scipy.special](http://docs.scipy.org/doc/scipy/reference/special.html))\n",
      "* Integration ([scipy.integrate](http://docs.scipy.org/doc/scipy/reference/integrate.html))\n",
      "* Optimization ([scipy.optimize](http://docs.scipy.org/doc/scipy/reference/optimize.html))\n",
      "* Interpolation ([scipy.interpolate](http://docs.scipy.org/doc/scipy/reference/interpolate.html))\n",
      "* Fourier Transforms ([scipy.fftpack](http://docs.scipy.org/doc/scipy/reference/fftpack.html))\n",
      "* Signal Processing ([scipy.signal](http://docs.scipy.org/doc/scipy/reference/signal.html))\n",
      "* Linear Algebra ([scipy.linalg](http://docs.scipy.org/doc/scipy/reference/linalg.html))\n",
      "* Sparse Eigenvalue Problems ([scipy.sparse](http://docs.scipy.org/doc/scipy/reference/sparse.html))\n",
      "* Statistics ([scipy.stats](http://docs.scipy.org/doc/scipy/reference/stats.html))\n",
      "* Multi-dimensional image processing ([scipy.ndimage](http://docs.scipy.org/doc/scipy/reference/ndimage.html))\n",
      "* File IO ([scipy.io](http://docs.scipy.org/doc/scipy/reference/io.html))\n",
      "\n",
      "Each of these submodules provides a number of functions and classes that can be used to solve problems in their respective topics.\n",
      "\n",
      "In this lecture we will look at how to use some of these subpackages.\n",
      "\n",
      "To access the SciPy package in a Python program, we start by importing the `scipy` module. As a shortcut, we will abbreviate `scipy` to `sp`, analogous to what we have done with NumPy."
     ]
    },
    {
     "cell_type": "code",
     "collapsed": false,
     "input": [
      "import scipy as sp"
     ],
     "language": "python",
     "metadata": {},
     "outputs": [],
     "prompt_number": 1
    },
    {
     "cell_type": "markdown",
     "metadata": {},
     "source": [
      "## Integration\n",
      "\n",
      "### Numerical integration: quadrature\n",
      "\n",
      "Numerical evaluation of a function of the type\n",
      "\n",
      "$\\displaystyle \\int_a^b f(x) dx$\n",
      "\n",
      "is called *numerical quadrature*, or simply *quadature*. SciPy provides a series of functions for different kind of quadrature, for example the `quad`, `dblquad` and `tplquad` for single, double and triple integrals, respectively.\n",
      "\n"
     ]
    },
    {
     "cell_type": "code",
     "collapsed": false,
     "input": [
      "from scipy.integrate import quad, dblquad, tplquad"
     ],
     "language": "python",
     "metadata": {},
     "outputs": [],
     "prompt_number": 2
    },
    {
     "cell_type": "markdown",
     "metadata": {},
     "source": [
      "The `quad` functions takes a large number of optional arguments, which can be used to fine-tune the behaviour of the function."
     ]
    },
    {
     "cell_type": "code",
     "collapsed": false,
     "input": [
      "help(quad)"
     ],
     "language": "python",
     "metadata": {},
     "outputs": [
      {
       "output_type": "stream",
       "stream": "stdout",
       "text": [
        "Help on function quad in module scipy.integrate.quadpack:\n",
        "\n",
        "quad(func, a, b, args=(), full_output=0, epsabs=1.49e-08, epsrel=1.49e-08, limit=50, points=None, weight=None, wvar=None, wopts=None, maxp1=50, limlst=50)\n",
        "    Compute a definite integral.\n",
        "    \n",
        "    Integrate func from `a` to `b` (possibly infinite interval) using a\n",
        "    technique from the Fortran library QUADPACK.\n",
        "    \n",
        "    Parameters\n",
        "    ----------\n",
        "    func : function\n",
        "        A Python function or method to integrate.  If `func` takes many\n",
        "        arguments, it is integrated along the axis corresponding to the\n",
        "        first argument.\n",
        "    a : float\n",
        "        Lower limit of integration (use -numpy.inf for -infinity).\n",
        "    b : float\n",
        "        Upper limit of integration (use numpy.inf for +infinity).\n",
        "    args : tuple, optional\n",
        "        Extra arguments to pass to `func`.\n",
        "    full_output : int, optional\n",
        "        Non-zero to return a dictionary of integration information.\n",
        "        If non-zero, warning messages are also suppressed and the\n",
        "        message is appended to the output tuple.\n",
        "    \n",
        "    Returns\n",
        "    -------\n",
        "    y : float\n",
        "        The integral of func from `a` to `b`.\n",
        "    abserr : float\n",
        "        An estimate of the absolute error in the result.\n",
        "    infodict : dict\n",
        "        A dictionary containing additional information.\n",
        "        Run scipy.integrate.quad_explain() for more information.\n",
        "    message :\n",
        "        A convergence message.\n",
        "    explain :\n",
        "        Appended only with 'cos' or 'sin' weighting and infinite\n",
        "        integration limits, it contains an explanation of the codes in\n",
        "        infodict['ierlst']\n",
        "    \n",
        "    Other Parameters\n",
        "    ----------------\n",
        "    epsabs : float or int, optional\n",
        "        Absolute error tolerance.\n",
        "    epsrel : float or int, optional\n",
        "        Relative error tolerance.\n",
        "    limit : float or int, optional\n",
        "        An upper bound on the number of subintervals used in the adaptive\n",
        "        algorithm.\n",
        "    points : (sequence of floats,ints), optional\n",
        "        A sequence of break points in the bounded integration interval\n",
        "        where local difficulties of the integrand may occur (e.g.,\n",
        "        singularities, discontinuities). The sequence does not have\n",
        "        to be sorted.\n",
        "    weight : float or int, optional\n",
        "        String indicating weighting function. Full explanation for this\n",
        "        and the remaining arguments can be found below.\n",
        "    wvar : optional\n",
        "        Variables for use with weighting functions.\n",
        "    wopts : optional\n",
        "        Optional input for reusing Chebyshev moments.\n",
        "    maxp1 : float or int, optional\n",
        "        An upper bound on the number of Chebyshev moments.\n",
        "    limlst : int, optional\n",
        "        Upper bound on the number of cycles (>=3) for use with a sinusoidal\n",
        "        weighting and an infinite end-point.\n",
        "    \n",
        "    See Also\n",
        "    --------\n",
        "    dblquad : double integral\n",
        "    tplquad : triple integral\n",
        "    nquad : n-dimensional integrals (uses `quad` recursively)\n",
        "    fixed_quad : fixed-order Gaussian quadrature\n",
        "    quadrature : adaptive Gaussian quadrature\n",
        "    odeint : ODE integrator\n",
        "    ode : ODE integrator\n",
        "    simps : integrator for sampled data\n",
        "    romb : integrator for sampled data\n",
        "    scipy.special : for coefficients and roots of orthogonal polynomials\n",
        "    \n",
        "    Notes\n",
        "    -----\n",
        "    \n",
        "    **Extra information for quad() inputs and outputs**\n",
        "    \n",
        "    If full_output is non-zero, then the third output argument\n",
        "    (infodict) is a dictionary with entries as tabulated below.  For\n",
        "    infinite limits, the range is transformed to (0,1) and the\n",
        "    optional outputs are given with respect to this transformed range.\n",
        "    Let M be the input argument limit and let K be infodict['last'].\n",
        "    The entries are:\n",
        "    \n",
        "    'neval'\n",
        "        The number of function evaluations.\n",
        "    'last'\n",
        "        The number, K, of subintervals produced in the subdivision process.\n",
        "    'alist'\n",
        "        A rank-1 array of length M, the first K elements of which are the\n",
        "        left end points of the subintervals in the partition of the\n",
        "        integration range.\n",
        "    'blist'\n",
        "        A rank-1 array of length M, the first K elements of which are the\n",
        "        right end points of the subintervals.\n",
        "    'rlist'\n",
        "        A rank-1 array of length M, the first K elements of which are the\n",
        "        integral approximations on the subintervals.\n",
        "    'elist'\n",
        "        A rank-1 array of length M, the first K elements of which are the\n",
        "        moduli of the absolute error estimates on the subintervals.\n",
        "    'iord'\n",
        "        A rank-1 integer array of length M, the first L elements of\n",
        "        which are pointers to the error estimates over the subintervals\n",
        "        with L=K if K<=M/2+2 or L=M+1-K otherwise. Let I be the sequence\n",
        "        infodict['iord'] and let E be the sequence infodict['elist'].\n",
        "        Then E[I[1]], ..., E[I[L]] forms a decreasing sequence.\n",
        "    \n",
        "    If the input argument points is provided (i.e. it is not None),\n",
        "    the following additional outputs are placed in the output\n",
        "    dictionary.  Assume the points sequence is of length P.\n",
        "    \n",
        "    'pts'\n",
        "        A rank-1 array of length P+2 containing the integration limits\n",
        "        and the break points of the intervals in ascending order.\n",
        "        This is an array giving the subintervals over which integration\n",
        "        will occur.\n",
        "    'level'\n",
        "        A rank-1 integer array of length M (=limit), containing the\n",
        "        subdivision levels of the subintervals, i.e., if (aa,bb) is a\n",
        "        subinterval of (pts[1], pts[2]) where pts[0] and pts[2] are\n",
        "        adjacent elements of infodict['pts'], then (aa,bb) has level l if\n",
        "        |bb-aa|=|pts[2]-pts[1]| * 2**(-l).\n",
        "    'ndin'\n",
        "        A rank-1 integer array of length P+2.  After the first integration\n",
        "        over the intervals (pts[1], pts[2]), the error estimates over some\n",
        "        of the intervals may have been increased artificially in order to\n",
        "        put their subdivision forward.  This array has ones in slots\n",
        "        corresponding to the subintervals for which this happens.\n",
        "    \n",
        "    **Weighting the integrand**\n",
        "    \n",
        "    The input variables, *weight* and *wvar*, are used to weight the\n",
        "    integrand by a select list of functions.  Different integration\n",
        "    methods are used to compute the integral with these weighting\n",
        "    functions.  The possible values of weight and the corresponding\n",
        "    weighting functions are.\n",
        "    \n",
        "    ==========  ===================================   =====================\n",
        "    ``weight``  Weight function used                  ``wvar``\n",
        "    ==========  ===================================   =====================\n",
        "    'cos'       cos(w*x)                              wvar = w\n",
        "    'sin'       sin(w*x)                              wvar = w\n",
        "    'alg'       g(x) = ((x-a)**alpha)*((b-x)**beta)   wvar = (alpha, beta)\n",
        "    'alg-loga'  g(x)*log(x-a)                         wvar = (alpha, beta)\n",
        "    'alg-logb'  g(x)*log(b-x)                         wvar = (alpha, beta)\n",
        "    'alg-log'   g(x)*log(x-a)*log(b-x)                wvar = (alpha, beta)\n",
        "    'cauchy'    1/(x-c)                               wvar = c\n",
        "    ==========  ===================================   =====================\n",
        "    \n",
        "    wvar holds the parameter w, (alpha, beta), or c depending on the weight\n",
        "    selected.  In these expressions, a and b are the integration limits.\n",
        "    \n",
        "    For the 'cos' and 'sin' weighting, additional inputs and outputs are\n",
        "    available.\n",
        "    \n",
        "    For finite integration limits, the integration is performed using a\n",
        "    Clenshaw-Curtis method which uses Chebyshev moments.  For repeated\n",
        "    calculations, these moments are saved in the output dictionary:\n",
        "    \n",
        "    'momcom'\n",
        "        The maximum level of Chebyshev moments that have been computed,\n",
        "        i.e., if M_c is infodict['momcom'] then the moments have been\n",
        "        computed for intervals of length |b-a|* 2**(-l), l=0,1,...,M_c.\n",
        "    'nnlog'\n",
        "        A rank-1 integer array of length M(=limit), containing the\n",
        "        subdivision levels of the subintervals, i.e., an element of this\n",
        "        array is equal to l if the corresponding subinterval is\n",
        "        |b-a|* 2**(-l).\n",
        "    'chebmo'\n",
        "        A rank-2 array of shape (25, maxp1) containing the computed\n",
        "        Chebyshev moments.  These can be passed on to an integration\n",
        "        over the same interval by passing this array as the second\n",
        "        element of the sequence wopts and passing infodict['momcom'] as\n",
        "        the first element.\n",
        "    \n",
        "    If one of the integration limits is infinite, then a Fourier integral is\n",
        "    computed (assuming w neq 0).  If full_output is 1 and a numerical error\n",
        "    is encountered, besides the error message attached to the output tuple,\n",
        "    a dictionary is also appended to the output tuple which translates the\n",
        "    error codes in the array info['ierlst'] to English messages.  The output\n",
        "    information dictionary contains the following entries instead of 'last',\n",
        "    'alist', 'blist', 'rlist', and 'elist':\n",
        "    \n",
        "    'lst'\n",
        "        The number of subintervals needed for the integration (call it K_f).\n",
        "    'rslst'\n",
        "        A rank-1 array of length M_f=limlst, whose first K_f elements\n",
        "        contain the integral contribution over the interval (a+(k-1)c,\n",
        "        a+kc) where c = (2*floor(|w|) + 1) * pi / |w| and k=1,2,...,K_f.\n",
        "    'erlst'\n",
        "        A rank-1 array of length M_f containing the error estimate\n",
        "        corresponding to the interval in the same position in\n",
        "        infodict['rslist'].\n",
        "    'ierlst'\n",
        "        A rank-1 integer array of length M_f containing an error flag\n",
        "        corresponding to the interval in the same position in\n",
        "        infodict['rslist'].  See the explanation dictionary (last entry\n",
        "        in the output tuple) for the meaning of the codes.\n",
        "    \n",
        "    Examples\n",
        "    --------\n",
        "    Calculate :math:`\\int^4_0 x^2 dx` and compare with an analytic result\n",
        "    \n",
        "    >>> from scipy import integrate\n",
        "    >>> x2 = lambda x: x**2\n",
        "    >>> integrate.quad(x2, 0, 4)\n",
        "    (21.333333333333332, 2.3684757858670003e-13)\n",
        "    >>> print(4**3 / 3.)  # analytical result\n",
        "    21.3333333333\n",
        "    \n",
        "    Calculate :math:`\\int^\\infty_0 e^{-x} dx`\n",
        "    \n",
        "    >>> invexp = lambda x: np.exp(-x)\n",
        "    >>> integrate.quad(invexp, 0, np.inf)\n",
        "    (1.0, 5.842605999138044e-11)\n",
        "    \n",
        "    >>> f = lambda x,a : a*x\n",
        "    >>> y, err = integrate.quad(f, 0, 1, args=(1,))\n",
        "    >>> y\n",
        "    0.5\n",
        "    >>> y, err = integrate.quad(f, 0, 1, args=(3,))\n",
        "    >>> y\n",
        "    1.5\n",
        "\n"
       ]
      }
     ],
     "prompt_number": 3
    },
    {
     "cell_type": "markdown",
     "metadata": {},
     "source": [
      "Here is a simple usage example:"
     ]
    },
    {
     "cell_type": "code",
     "collapsed": false,
     "input": [
      "# define a simple function for the integrand\n",
      "def f(x):\n",
      "    return x"
     ],
     "language": "python",
     "metadata": {},
     "outputs": [],
     "prompt_number": 4
    },
    {
     "cell_type": "code",
     "collapsed": false,
     "input": [
      "x_lower = 0 # the lower limit of x\n",
      "x_upper = 1 # the upper limit of x\n",
      "\n",
      "val, abserr = quad(f, x_lower, x_upper)\n",
      "\n",
      "print(\"integral value = {0}, absolute error = {1}\".format(val, abserr))"
     ],
     "language": "python",
     "metadata": {},
     "outputs": [
      {
       "output_type": "stream",
       "stream": "stdout",
       "text": [
        "integral value = 0.5, absolute error = 5.55111512313e-15\n"
       ]
      }
     ],
     "prompt_number": 5
    },
    {
     "cell_type": "markdown",
     "metadata": {},
     "source": [
      "If we need to pass extra arguments to integrand function we can use the `args` keyword argument:"
     ]
    },
    {
     "cell_type": "code",
     "collapsed": false,
     "input": [
      "from scipy import stats\n",
      "import numpy as np"
     ],
     "language": "python",
     "metadata": {},
     "outputs": [],
     "prompt_number": 6
    },
    {
     "cell_type": "code",
     "collapsed": false,
     "input": [
      "# Integral of N(2, 3) over [inf, 0)\n",
      "val, abserr = quad(stats.distributions.norm.pdf, a=-np.inf, b=0, \n",
      "                   args=(2, 3))\n",
      "\n",
      "print(val, abserr)"
     ],
     "language": "python",
     "metadata": {},
     "outputs": [
      {
       "output_type": "stream",
       "stream": "stdout",
       "text": [
        "(0.2524925375469229, 8.193093413455012e-10)\n"
       ]
      }
     ],
     "prompt_number": 7
    },
    {
     "cell_type": "code",
     "collapsed": false,
     "input": [
      "stats.distributions.norm.cdf(0, 2, 3)"
     ],
     "language": "python",
     "metadata": {},
     "outputs": [
      {
       "metadata": {},
       "output_type": "pyout",
       "prompt_number": 8,
       "text": [
        "0.25249253754692291"
       ]
      }
     ],
     "prompt_number": 8
    },
    {
     "cell_type": "markdown",
     "metadata": {},
     "source": [
      "As show in the example above, we can also use 'Inf' or '-Inf' as integral limits.\n",
      "\n",
      "Higher-dimensional integration works in the same way:"
     ]
    },
    {
     "cell_type": "code",
     "collapsed": false,
     "input": [
      "dblquad?"
     ],
     "language": "python",
     "metadata": {},
     "outputs": [],
     "prompt_number": 9
    },
    {
     "cell_type": "code",
     "collapsed": false,
     "input": [
      "def integrand(x, y):\n",
      "    return np.exp(-x**2-y**2)\n",
      "\n",
      "x_lower = 0  \n",
      "x_upper = 10\n",
      "y_lower = 0\n",
      "y_upper = 10\n",
      "\n",
      "val, abserr = dblquad(integrand, x_lower, x_upper, \n",
      "                      lambda x : y_lower, lambda x: y_upper)\n",
      "\n",
      "print(val, abserr) "
     ],
     "language": "python",
     "metadata": {},
     "outputs": [
      {
       "output_type": "stream",
       "stream": "stdout",
       "text": [
        "(0.7853981633974476, 1.638229942140971e-13)\n"
       ]
      }
     ],
     "prompt_number": 10
    },
    {
     "cell_type": "markdown",
     "metadata": {},
     "source": [
      "Note how we had to pass `lambda` functions for the limits for the y integration, since these in general can be functions of x."
     ]
    },
    {
     "cell_type": "markdown",
     "metadata": {},
     "source": [
      "### Example: Trapezoid rule\n",
      "\n",
      "A simple illustration of the trapezoid rule for definite integration:\n",
      "\n",
      "$$\n",
      "\\int_{a}^{b} f(x)\\, dx \\approx \\frac{1}{2} \\sum_{k=1}^{N} \\left( x_{k} - x_{k-1} \\right) \\left( f(x_{k}) + f(x_{k-1}) \\right).\n",
      "$$\n",
      "<br>\n",
      "First, we define a simple function and sample it between 0 and 10 at 200 points"
     ]
    },
    {
     "cell_type": "code",
     "collapsed": false,
     "input": [
      "def f(x):\n",
      "    return (x-3)*(x-5)*(x-7)+85\n",
      "\n",
      "x = np.linspace(0, 10, 200)\n",
      "y = f(x)"
     ],
     "language": "python",
     "metadata": {},
     "outputs": [],
     "prompt_number": 11
    },
    {
     "cell_type": "markdown",
     "metadata": {},
     "source": [
      "Choose a region to integrate over and take only a few points in that region"
     ]
    },
    {
     "cell_type": "code",
     "collapsed": false,
     "input": [
      "a, b = 1, 11\n",
      "xint = x[np.logical_and(x>=a, x<=b)][::30]\n",
      "yint = y[np.logical_and(x>=a, x<=b)][::30]"
     ],
     "language": "python",
     "metadata": {},
     "outputs": [],
     "prompt_number": 12
    },
    {
     "cell_type": "markdown",
     "metadata": {},
     "source": [
      "Plot both the function and the area below it in the trapezoid approximation"
     ]
    },
    {
     "cell_type": "code",
     "collapsed": false,
     "input": [
      "%matplotlib inline\n",
      "import pylab as plt\n",
      "\n",
      "plt.plot(x, y, lw=2)\n",
      "plt.axis([0, 10, 0, 140])\n",
      "plt.fill_between(xint, 0, yint, facecolor='gray', alpha=0.4)\n",
      "plt.text(0.5 * (a + b), 30,r\"$\\int_a^b f(x)dx$\", \n",
      "         horizontalalignment='center', fontsize=20)"
     ],
     "language": "python",
     "metadata": {},
     "outputs": [
      {
       "metadata": {},
       "output_type": "pyout",
       "prompt_number": 13,
       "text": [
        "<matplotlib.text.Text at 0x112e9de10>"
       ]
      },
      {
       "metadata": {},
       "output_type": "display_data",
       "png": "[encoded data removed]",
       "text": [
        "<matplotlib.figure.Figure at 0x112e9de50>"
       ]
      }
     ],
     "prompt_number": 13
    },
    {
     "cell_type": "code",
     "collapsed": false,
     "input": [
      "from scipy.integrate import quad, trapz\n",
      "integral, error = quad(f, 1, 9)\n",
      "print(\"The integral is:\", integral, \"+/-\", error)\n",
      "print(\"The trapezoid approximation with\", len(xint), \"points is:\", trapz(yint, xint))"
     ],
     "language": "python",
     "metadata": {},
     "outputs": [
      {
       "output_type": "stream",
       "stream": "stdout",
       "text": [
        "('The integral is:', 680.0, '+/-', 7.549516567451064e-12)\n",
        "('The trapezoid approximation with', 6, 'points is:', 621.28641114105153)\n"
       ]
      }
     ],
     "prompt_number": 14
    },
    {
     "cell_type": "markdown",
     "metadata": {},
     "source": [
      "## Linear algebra\n",
      "\n",
      "The linear algebra module contains a lot of matrix related functions, including linear equation solving, eigenvalue solvers, matrix functions (for example matrix-exponentiation), and several decompositions. "
     ]
    },
    {
     "cell_type": "markdown",
     "metadata": {},
     "source": [
      "#### Linear equation systems\n",
      "\n",
      "Linear equation systems on the matrix form\n",
      "\n",
      "$A x = b$\n",
      "\n",
      "where $A$ is a matrix and $x,b$ are vectors can be solved like:"
     ]
    },
    {
     "cell_type": "code",
     "collapsed": false,
     "input": [
      "from numpy.linalg import solve, eigvals, eig, norm, inv, det"
     ],
     "language": "python",
     "metadata": {},
     "outputs": [],
     "prompt_number": 16
    },
    {
     "cell_type": "code",
     "collapsed": false,
     "input": [
      "A = np.array([[1,2,3], [4,5,6], [7,8,9]])\n",
      "b = np.array([1,2,3])"
     ],
     "language": "python",
     "metadata": {},
     "outputs": [],
     "prompt_number": 17
    },
    {
     "cell_type": "code",
     "collapsed": false,
     "input": [
      "x = solve(A, b)\n",
      "x"
     ],
     "language": "python",
     "metadata": {},
     "outputs": [
      {
       "metadata": {},
       "output_type": "pyout",
       "prompt_number": 18,
       "text": [
        "array([-0.33333333,  0.66666667,  0.        ])"
       ]
      }
     ],
     "prompt_number": 18
    },
    {
     "cell_type": "markdown",
     "metadata": {},
     "source": [
      "We can check this:"
     ]
    },
    {
     "cell_type": "code",
     "collapsed": false,
     "input": [
      "(np.dot(A, x) - b).round(10)"
     ],
     "language": "python",
     "metadata": {},
     "outputs": [
      {
       "metadata": {},
       "output_type": "pyout",
       "prompt_number": 19,
       "text": [
        "array([-0.,  0.,  0.])"
       ]
      }
     ],
     "prompt_number": 19
    },
    {
     "cell_type": "markdown",
     "metadata": {},
     "source": [
      "We can also do the same with matrices:"
     ]
    },
    {
     "cell_type": "code",
     "collapsed": false,
     "input": [
      "A = np.random.rand(3,3)\n",
      "B = np.random.rand(3,3)"
     ],
     "language": "python",
     "metadata": {},
     "outputs": [],
     "prompt_number": 20
    },
    {
     "cell_type": "code",
     "collapsed": false,
     "input": [
      "X = solve(A, B)"
     ],
     "language": "python",
     "metadata": {},
     "outputs": [],
     "prompt_number": 21
    },
    {
     "cell_type": "code",
     "collapsed": false,
     "input": [
      "X"
     ],
     "language": "python",
     "metadata": {},
     "outputs": [
      {
       "metadata": {},
       "output_type": "pyout",
       "prompt_number": 22,
       "text": [
        "array([[ 2.06442083,  1.31936254,  1.35605557],\n",
        "       [ 5.4646999 ,  1.31420089,  2.98558366],\n",
        "       [-7.27896568, -1.53705882, -3.27466577]])"
       ]
      }
     ],
     "prompt_number": 22
    },
    {
     "cell_type": "code",
     "collapsed": false,
     "input": [
      "# check\n",
      "norm(np.dot(A, X) - B).round(10)"
     ],
     "language": "python",
     "metadata": {},
     "outputs": [
      {
       "metadata": {},
       "output_type": "pyout",
       "prompt_number": 23,
       "text": [
        "0.0"
       ]
      }
     ],
     "prompt_number": 23
    },
    {
     "cell_type": "markdown",
     "metadata": {},
     "source": [
      "#### Eigenvalues and eigenvectors"
     ]
    },
    {
     "cell_type": "markdown",
     "metadata": {},
     "source": [
      "The eigenvalue problem for a matrix $A$:\n",
      "\n",
      "$\\displaystyle A v_n = \\lambda_n v_n$\n",
      "\n",
      "where $v_n$ are is the $n$th eigenvector and $\\lambda_n$ is the $n$th eigenvalue.\n",
      "\n",
      "To calculate eigenvalues of a matrix, use the `eigvals` and for calculating both eigenvalues and eigenvectors, use the function `eig`:"
     ]
    },
    {
     "cell_type": "code",
     "collapsed": false,
     "input": [
      "evals = eigvals(A)"
     ],
     "language": "python",
     "metadata": {},
     "outputs": [],
     "prompt_number": 24
    },
    {
     "cell_type": "code",
     "collapsed": false,
     "input": [
      "evals"
     ],
     "language": "python",
     "metadata": {},
     "outputs": [
      {
       "metadata": {},
       "output_type": "pyout",
       "prompt_number": 25,
       "text": [
        "array([ 1.54912314,  0.6121422 , -0.09452535])"
       ]
      }
     ],
     "prompt_number": 25
    },
    {
     "cell_type": "code",
     "collapsed": false,
     "input": [
      "evals, evecs = eig(A)"
     ],
     "language": "python",
     "metadata": {},
     "outputs": [],
     "prompt_number": 26
    },
    {
     "cell_type": "code",
     "collapsed": false,
     "input": [
      "evals"
     ],
     "language": "python",
     "metadata": {},
     "outputs": [
      {
       "metadata": {},
       "output_type": "pyout",
       "prompt_number": 27,
       "text": [
        "array([ 1.54912314,  0.6121422 , -0.09452535])"
       ]
      }
     ],
     "prompt_number": 27
    },
    {
     "cell_type": "code",
     "collapsed": false,
     "input": [
      "evecs"
     ],
     "language": "python",
     "metadata": {},
     "outputs": [
      {
       "metadata": {},
       "output_type": "pyout",
       "prompt_number": 28,
       "text": [
        "array([[-0.73179801, -0.68906909, -0.25618038],\n",
        "       [-0.59858595,  0.70927369, -0.50761822],\n",
        "       [-0.32583205, -0.14870986,  0.82261495]])"
       ]
      }
     ],
     "prompt_number": 28
    },
    {
     "cell_type": "markdown",
     "metadata": {},
     "source": [
      "The eigenvectors corresponding to the $n$th eigenvalue (stored in `evals[n]`) is the $n$th *column* in `evecs`, i.e., `evecs[:,n]`. To verify this, let's try mutiplying eigenvectors with the matrix and compare to the product of the eigenvector and the eigenvalue:"
     ]
    },
    {
     "cell_type": "code",
     "collapsed": false,
     "input": [
      "n = 1\n",
      "\n",
      "norm(np.dot(A, evecs[:,n]) - evals[n] * evecs[:,n]).round(10)"
     ],
     "language": "python",
     "metadata": {},
     "outputs": [
      {
       "metadata": {},
       "output_type": "pyout",
       "prompt_number": 29,
       "text": [
        "0.0"
       ]
      }
     ],
     "prompt_number": 29
    },
    {
     "cell_type": "markdown",
     "metadata": {},
     "source": [
      "There are also more specialized eigensolvers, like the `eigh` for Hermitian matrices. "
     ]
    },
    {
     "cell_type": "markdown",
     "metadata": {},
     "source": [
      "#### Matrix operations"
     ]
    },
    {
     "cell_type": "code",
     "collapsed": false,
     "input": [
      "# the matrix inverse\n",
      "np.linalg.inv(A)"
     ],
     "language": "python",
     "metadata": {},
     "outputs": [
      {
       "metadata": {},
       "output_type": "pyout",
       "prompt_number": 30,
       "text": [
        "array([[ 0.12442082, -0.8813394 ,  2.78947844],\n",
        "       [-2.51925775,  0.44836114,  6.02030475],\n",
        "       [ 3.36545841,  1.06675873, -8.87282081]])"
       ]
      }
     ],
     "prompt_number": 30
    },
    {
     "cell_type": "code",
     "collapsed": false,
     "input": [
      "# determinant\n",
      "np.linalg.det(A)"
     ],
     "language": "python",
     "metadata": {},
     "outputs": [
      {
       "metadata": {},
       "output_type": "pyout",
       "prompt_number": 31,
       "text": [
        "-0.089636843166904484"
       ]
      }
     ],
     "prompt_number": 31
    },
    {
     "cell_type": "code",
     "collapsed": false,
     "input": [
      "# norms of various orders\n",
      "np.linalg.norm(A, ord=2), np.linalg.norm(A, ord=np.inf)"
     ],
     "language": "python",
     "metadata": {},
     "outputs": [
      {
       "metadata": {},
       "output_type": "pyout",
       "prompt_number": 32,
       "text": [
        "(1.621916982515166, 1.9542026007767708)"
       ]
      }
     ],
     "prompt_number": 32
    },
    {
     "cell_type": "markdown",
     "metadata": {},
     "source": [
      "## Sparse matrices\n",
      "\n",
      "Sparse matrices are often useful in numerical simulations dealing with large systems, if the problem can be described in matrix form where the matrices or vectors mostly contains zeros. Scipy has a good support for sparse matrices, with basic linear algebra operations (such as equation solving, eigenvalue calculations, etc).\n",
      "\n",
      "There are many possible strategies for storing sparse matrices in an efficient way. Some of the most common are the so-called coordinate form (COO), list of list (LIL) form,  and compressed-sparse column CSC (and row, CSR). Each format has some advantanges and disadvantages. Most computational algorithms (equation solving, matrix-matrix multiplication, etc) can be efficiently implemented using CSR or CSC formats, but they are not so intuitive and not so easy to initialize. So often a sparse matrix is initially created in COO or LIL format (where we can efficiently add elements to the sparse matrix data), and then converted to CSC or CSR before used in real calcalations.\n",
      "\n",
      "When we create a sparse matrix we have to choose which format it should be stored in. For example, "
     ]
    },
    {
     "cell_type": "code",
     "collapsed": false,
     "input": [
      "from scipy.sparse import csr_matrix, lil_matrix, csc_matrix"
     ],
     "language": "python",
     "metadata": {},
     "outputs": [],
     "prompt_number": 33
    },
    {
     "cell_type": "code",
     "collapsed": false,
     "input": [
      "# dense matrix\n",
      "M = np.array([[1,0,0,0], [0,3,0,0], [0,1,1,0], [1,0,0,1]]); M"
     ],
     "language": "python",
     "metadata": {},
     "outputs": [
      {
       "metadata": {},
       "output_type": "pyout",
       "prompt_number": 34,
       "text": [
        "array([[1, 0, 0, 0],\n",
        "       [0, 3, 0, 0],\n",
        "       [0, 1, 1, 0],\n",
        "       [1, 0, 0, 1]])"
       ]
      }
     ],
     "prompt_number": 34
    },
    {
     "cell_type": "code",
     "collapsed": false,
     "input": [
      "# convert from dense to sparse\n",
      "A = csr_matrix(M); A"
     ],
     "language": "python",
     "metadata": {},
     "outputs": [
      {
       "metadata": {},
       "output_type": "pyout",
       "prompt_number": 35,
       "text": [
        "<4x4 sparse matrix of type '<type 'numpy.int64'>'\n",
        "\twith 6 stored elements in Compressed Sparse Row format>"
       ]
      }
     ],
     "prompt_number": 35
    },
    {
     "cell_type": "code",
     "collapsed": false,
     "input": [
      "# convert from sparse to dense\n",
      "A.todense()"
     ],
     "language": "python",
     "metadata": {},
     "outputs": [
      {
       "metadata": {},
       "output_type": "pyout",
       "prompt_number": 36,
       "text": [
        "matrix([[1, 0, 0, 0],\n",
        "        [0, 3, 0, 0],\n",
        "        [0, 1, 1, 0],\n",
        "        [1, 0, 0, 1]])"
       ]
      }
     ],
     "prompt_number": 36
    },
    {
     "cell_type": "markdown",
     "metadata": {},
     "source": [
      "More efficient way to create sparse matrices: create an empty matrix and populate with using matrix indexing (avoids creating a potentially large dense matrix)"
     ]
    },
    {
     "cell_type": "code",
     "collapsed": false,
     "input": [
      "A = lil_matrix((4,4)) # empty 4x4 sparse matrix\n",
      "A[0,0] = 1\n",
      "A[1,1] = 3\n",
      "A[2,2] = A[2,1] = 1\n",
      "A[3,3] = A[3,0] = 1\n",
      "A"
     ],
     "language": "python",
     "metadata": {},
     "outputs": [
      {
       "metadata": {},
       "output_type": "pyout",
       "prompt_number": 37,
       "text": [
        "<4x4 sparse matrix of type '<type 'numpy.float64'>'\n",
        "\twith 6 stored elements in LInked List format>"
       ]
      }
     ],
     "prompt_number": 37
    },
    {
     "cell_type": "code",
     "collapsed": false,
     "input": [
      "A.todense()"
     ],
     "language": "python",
     "metadata": {},
     "outputs": [
      {
       "metadata": {},
       "output_type": "pyout",
       "prompt_number": 38,
       "text": [
        "matrix([[ 1.,  0.,  0.,  0.],\n",
        "        [ 0.,  3.,  0.,  0.],\n",
        "        [ 0.,  1.,  1.,  0.],\n",
        "        [ 1.,  0.,  0.,  1.]])"
       ]
      }
     ],
     "prompt_number": 38
    },
    {
     "cell_type": "markdown",
     "metadata": {},
     "source": [
      "Converting between different sparse matrix formats:"
     ]
    },
    {
     "cell_type": "code",
     "collapsed": false,
     "input": [
      "A"
     ],
     "language": "python",
     "metadata": {},
     "outputs": [
      {
       "metadata": {},
       "output_type": "pyout",
       "prompt_number": 39,
       "text": [
        "<4x4 sparse matrix of type '<type 'numpy.float64'>'\n",
        "\twith 6 stored elements in LInked List format>"
       ]
      }
     ],
     "prompt_number": 39
    },
    {
     "cell_type": "code",
     "collapsed": false,
     "input": [
      "A = csr_matrix(A); A"
     ],
     "language": "python",
     "metadata": {},
     "outputs": [
      {
       "metadata": {},
       "output_type": "pyout",
       "prompt_number": 40,
       "text": [
        "<4x4 sparse matrix of type '<type 'numpy.float64'>'\n",
        "\twith 6 stored elements in Compressed Sparse Row format>"
       ]
      }
     ],
     "prompt_number": 40
    },
    {
     "cell_type": "code",
     "collapsed": false,
     "input": [
      "A = csc_matrix(A); A"
     ],
     "language": "python",
     "metadata": {},
     "outputs": [
      {
       "metadata": {},
       "output_type": "pyout",
       "prompt_number": 41,
       "text": [
        "<4x4 sparse matrix of type '<type 'numpy.float64'>'\n",
        "\twith 6 stored elements in Compressed Sparse Column format>"
       ]
      }
     ],
     "prompt_number": 41
    },
    {
     "cell_type": "markdown",
     "metadata": {},
     "source": [
      "We can compute with sparse matrices like with dense matrices:"
     ]
    },
    {
     "cell_type": "code",
     "collapsed": false,
     "input": [
      "A.todense()"
     ],
     "language": "python",
     "metadata": {},
     "outputs": [
      {
       "metadata": {},
       "output_type": "pyout",
       "prompt_number": 42,
       "text": [
        "matrix([[ 1.,  0.,  0.,  0.],\n",
        "        [ 0.,  3.,  0.,  0.],\n",
        "        [ 0.,  1.,  1.,  0.],\n",
        "        [ 1.,  0.,  0.,  1.]])"
       ]
      }
     ],
     "prompt_number": 42
    },
    {
     "cell_type": "code",
     "collapsed": false,
     "input": [
      "(A * A).todense()"
     ],
     "language": "python",
     "metadata": {},
     "outputs": [
      {
       "metadata": {},
       "output_type": "pyout",
       "prompt_number": 43,
       "text": [
        "matrix([[ 1.,  0.,  0.,  0.],\n",
        "        [ 0.,  9.,  0.,  0.],\n",
        "        [ 0.,  4.,  1.,  0.],\n",
        "        [ 2.,  0.,  0.,  1.]])"
       ]
      }
     ],
     "prompt_number": 43
    },
    {
     "cell_type": "code",
     "collapsed": false,
     "input": [
      "A.dot(A).todense()"
     ],
     "language": "python",
     "metadata": {},
     "outputs": [
      {
       "metadata": {},
       "output_type": "pyout",
       "prompt_number": 44,
       "text": [
        "matrix([[ 1.,  0.,  0.,  0.],\n",
        "        [ 0.,  9.,  0.,  0.],\n",
        "        [ 0.,  4.,  1.,  0.],\n",
        "        [ 2.,  0.,  0.,  1.]])"
       ]
      }
     ],
     "prompt_number": 44
    },
    {
     "cell_type": "code",
     "collapsed": false,
     "input": [
      "v = np.array([1,2,3,4])[:,np.newaxis]\n",
      "v"
     ],
     "language": "python",
     "metadata": {},
     "outputs": [
      {
       "metadata": {},
       "output_type": "pyout",
       "prompt_number": 45,
       "text": [
        "array([[1],\n",
        "       [2],\n",
        "       [3],\n",
        "       [4]])"
       ]
      }
     ],
     "prompt_number": 45
    },
    {
     "cell_type": "code",
     "collapsed": false,
     "input": [
      "# sparse matrix - dense vector multiplication\n",
      "A * v"
     ],
     "language": "python",
     "metadata": {},
     "outputs": [
      {
       "metadata": {},
       "output_type": "pyout",
       "prompt_number": 46,
       "text": [
        "array([[ 1.],\n",
        "       [ 6.],\n",
        "       [ 5.],\n",
        "       [ 5.]])"
       ]
      }
     ],
     "prompt_number": 46
    },
    {
     "cell_type": "code",
     "collapsed": false,
     "input": [
      "# same result with dense matrix - dense vector multiplcation\n",
      "A.todense() * v"
     ],
     "language": "python",
     "metadata": {},
     "outputs": [
      {
       "metadata": {},
       "output_type": "pyout",
       "prompt_number": 47,
       "text": [
        "matrix([[ 1.],\n",
        "        [ 6.],\n",
        "        [ 5.],\n",
        "        [ 5.]])"
       ]
      }
     ],
     "prompt_number": 47
    },
    {
     "cell_type": "markdown",
     "metadata": {},
     "source": [
      "## Optimization\n",
      "\n",
      "Optimization (finding minima or maxima of a function) is a large field in mathematics, and optimization of complicated functions or in many variables can be rather involved. Here we will only look at a few very simple cases."
     ]
    },
    {
     "cell_type": "code",
     "collapsed": false,
     "input": [
      "from scipy import optimize"
     ],
     "language": "python",
     "metadata": {},
     "outputs": [],
     "prompt_number": 48
    },
    {
     "cell_type": "markdown",
     "metadata": {},
     "source": [
      "### Finding a minima\n",
      "\n",
      "Let's first look at how to find the minima of a simple function of a single variable:"
     ]
    },
    {
     "cell_type": "code",
     "collapsed": false,
     "input": [
      "def f(x):\n",
      "    return 4*x**3 + (x-2)**2 + x**4"
     ],
     "language": "python",
     "metadata": {},
     "outputs": [],
     "prompt_number": 49
    },
    {
     "cell_type": "code",
     "collapsed": false,
     "input": [
      "fig, ax = plt.subplots()\n",
      "x = np.linspace(-5, 3, 100)\n",
      "ax.plot(x, f(x));"
     ],
     "language": "python",
     "metadata": {},
     "outputs": [
      {
       "metadata": {},
       "output_type": "display_data",
       "png": "[encoded data removed]",
       "text": [
        "<matplotlib.figure.Figure at 0x113992e10>"
       ]
      }
     ],
     "prompt_number": 50
    },
    {
     "cell_type": "markdown",
     "metadata": {},
     "source": [
      "We can use the `fmin_bfgs` function to find the minima of a function:"
     ]
    },
    {
     "cell_type": "code",
     "collapsed": false,
     "input": [
      "x_min = optimize.fmin_bfgs(f, -2)\n",
      "x_min "
     ],
     "language": "python",
     "metadata": {},
     "outputs": [
      {
       "output_type": "stream",
       "stream": "stdout",
       "text": [
        "Optimization terminated successfully.\n",
        "         Current function value: -3.506641\n",
        "         Iterations: 6\n",
        "         Function evaluations: 30\n",
        "         Gradient evaluations: 10\n"
       ]
      },
      {
       "metadata": {},
       "output_type": "pyout",
       "prompt_number": 51,
       "text": [
        "array([-2.67298167])"
       ]
      }
     ],
     "prompt_number": 51
    },
    {
     "cell_type": "code",
     "collapsed": false,
     "input": [
      "optimize.fmin_bfgs(f, 0.5) "
     ],
     "language": "python",
     "metadata": {},
     "outputs": [
      {
       "output_type": "stream",
       "stream": "stdout",
       "text": [
        "Optimization terminated successfully.\n",
        "         Current function value: 2.804988\n",
        "         Iterations: 3\n",
        "         Function evaluations: 15\n",
        "         Gradient evaluations: 5\n"
       ]
      },
      {
       "metadata": {},
       "output_type": "pyout",
       "prompt_number": 52,
       "text": [
        "array([ 0.46961745])"
       ]
      }
     ],
     "prompt_number": 52
    },
    {
     "cell_type": "markdown",
     "metadata": {},
     "source": [
      "We can also use the `brent` or `fminbound` functions. They have a bit different syntax and use different algorithms. "
     ]
    },
    {
     "cell_type": "code",
     "collapsed": false,
     "input": [
      "optimize.brent(f)"
     ],
     "language": "python",
     "metadata": {},
     "outputs": [
      {
       "metadata": {},
       "output_type": "pyout",
       "prompt_number": 53,
       "text": [
        "0.46961743402759754"
       ]
      }
     ],
     "prompt_number": 53
    },
    {
     "cell_type": "code",
     "collapsed": false,
     "input": [
      "optimize.fminbound(f, -4, 2)"
     ],
     "language": "python",
     "metadata": {},
     "outputs": [
      {
       "metadata": {},
       "output_type": "pyout",
       "prompt_number": 54,
       "text": [
        "-2.6729822917513886"
       ]
      }
     ],
     "prompt_number": 54
    },
    {
     "cell_type": "markdown",
     "metadata": {},
     "source": [
      "### Finding a solution to a function\n",
      "\n",
      "To find the root for a function of the form $f(x) = 0$ we can use the `fsolve` function. It requires an initial guess: "
     ]
    },
    {
     "cell_type": "code",
     "collapsed": false,
     "input": [
      "omega_c = 3.0\n",
      "def f(omega):\n",
      "    # a transcendental equation: resonance frequencies of a low-Q SQUID terminated microwave resonator\n",
      "    return np.tan(2*np.pi*omega) - omega_c/omega"
     ],
     "language": "python",
     "metadata": {},
     "outputs": [],
     "prompt_number": 55
    },
    {
     "cell_type": "code",
     "collapsed": false,
     "input": [
      "fig, ax = plt.subplots(figsize=(10,4))\n",
      "x = np.linspace(0, 3, 1000)\n",
      "y = f(x)\n",
      "mask = np.where(abs(y) > 50)\n",
      "x[mask] = y[mask] = None # get rid of vertical line when the function flip sign\n",
      "ax.plot(x, y)\n",
      "ax.plot([0, 3], [0, 0], 'k')\n",
      "ax.set_ylim(-5,5);"
     ],
     "language": "python",
     "metadata": {},
     "outputs": [
      {
       "output_type": "stream",
       "stream": "stderr",
       "text": [
        "-c:4: RuntimeWarning: divide by zero encountered in divide\n"
       ]
      },
      {
       "metadata": {},
       "output_type": "display_data",
       "png": "[encoded data removed]",
       "text": [
        "<matplotlib.figure.Figure at 0x1139d5250>"
       ]
      }
     ],
     "prompt_number": 56
    },
    {
     "cell_type": "code",
     "collapsed": false,
     "input": [
      "optimize.fsolve(f, 0.1)"
     ],
     "language": "python",
     "metadata": {},
     "outputs": [
      {
       "metadata": {},
       "output_type": "pyout",
       "prompt_number": 57,
       "text": [
        "array([ 0.23743014])"
       ]
      }
     ],
     "prompt_number": 57
    },
    {
     "cell_type": "code",
     "collapsed": false,
     "input": [
      "optimize.fsolve(f, 0.6)"
     ],
     "language": "python",
     "metadata": {},
     "outputs": [
      {
       "metadata": {},
       "output_type": "pyout",
       "prompt_number": 58,
       "text": [
        "array([ 0.71286972])"
       ]
      }
     ],
     "prompt_number": 58
    },
    {
     "cell_type": "code",
     "collapsed": false,
     "input": [
      "optimize.fsolve(f, 1.1)"
     ],
     "language": "python",
     "metadata": {},
     "outputs": [
      {
       "metadata": {},
       "output_type": "pyout",
       "prompt_number": 59,
       "text": [
        "array([ 1.18990285])"
       ]
      }
     ],
     "prompt_number": 59
    },
    {
     "cell_type": "markdown",
     "metadata": {},
     "source": [
      "### Example: truncated distribution\n",
      "\n",
      "Suppose that we observe $Y$ truncated below at $a$ (where $a$ is known). If $X$ is the distribution of our observation, then:\n",
      "\n",
      "$$ P(X \\le x) = P(Y \\le x|Y \\gt a) = \\frac{P(a \\lt Y \\le x)}{P(Y \\gt a)}$$\n",
      "\n",
      "(so, $Y$ is the original variable and $X$ is the truncated variable) \n",
      "\n",
      "Then X has the density:\n",
      "\n",
      "$$f_X(x) = \\frac{f_Y (x)}{1\u2212F_Y (a)} \\, \\text{for} \\, x \\gt a$$ \n",
      "\n",
      "Suppose $Y \\sim N(\\mu, \\sigma^2)$ and $x_1,\\ldots,x_n$ are independent observations of $X$. We can use maximum likelihood to find $\\mu$ and $\\sigma$. "
     ]
    },
    {
     "cell_type": "markdown",
     "metadata": {},
     "source": [
      "First, we can simulate a truncated distribution using a `while` statement to eliminate samples that are outside the support of the truncated distribution."
     ]
    },
    {
     "cell_type": "code",
     "collapsed": false,
     "input": [
      "x = np.random.normal(size=10000)\n",
      "a = -1\n",
      "x_small = x < a\n",
      "while x_small.sum():\n",
      "    x[x_small] = np.random.normal(size=x_small.sum())\n",
      "    x_small = x < a\n",
      "    \n",
      "_ = plt.hist(x, bins=100)"
     ],
     "language": "python",
     "metadata": {},
     "outputs": [
      {
       "metadata": {},
       "output_type": "display_data",
       "png": "[encoded data removed]",
       "text": [
        "<matplotlib.figure.Figure at 0x113a1d150>"
       ]
      }
     ],
     "prompt_number": 60
    },
    {
     "cell_type": "markdown",
     "metadata": {},
     "source": [
      "We can construct a log likelihood for this function using the conditional form:\n",
      "\n",
      "$$f_X(x) = \\frac{f_Y (x)}{1\u2212F_Y (a)} \\, \\text{for} \\, x \\gt a$$ "
     ]
    },
    {
     "cell_type": "code",
     "collapsed": false,
     "input": [
      "from scipy.stats.distributions import norm\n",
      "\n",
      "trunc_norm = lambda theta, a, x: -(np.log(norm.pdf(x, theta[0], theta[1])) - \n",
      "                                      np.log(1 - norm.cdf(a, theta[0], theta[1]))).sum()"
     ],
     "language": "python",
     "metadata": {},
     "outputs": [],
     "prompt_number": 61
    },
    {
     "cell_type": "markdown",
     "metadata": {},
     "source": [
      "For this example, we will use another optimization algorithm, the **Nelder-Mead simplex algorithm**. It has a couple of advantages: \n",
      "\n",
      "- it does not require derivatives\n",
      "- it can optimize (minimize) a vector of parameters\n",
      "\n",
      "SciPy implements this algorithm in its `fmin` function:"
     ]
    },
    {
     "cell_type": "code",
     "collapsed": false,
     "input": [
      "from scipy.optimize import fmin\n",
      "\n",
      "fmin(trunc_norm, np.array([1,2]), args=(-1, x))"
     ],
     "language": "python",
     "metadata": {},
     "outputs": [
      {
       "output_type": "stream",
       "stream": "stdout",
       "text": [
        "Optimization terminated successfully.\n",
        "         Current function value: 11026.310142\n",
        "         Iterations: 44\n",
        "         Function evaluations: 82\n"
       ]
      },
      {
       "metadata": {},
       "output_type": "pyout",
       "prompt_number": 62,
       "text": [
        "array([-0.00407063,  1.00235891])"
       ]
      }
     ],
     "prompt_number": 62
    },
    {
     "cell_type": "markdown",
     "metadata": {},
     "source": [
      "## Interpolation\n",
      "\n",
      "Interpolation is simple and convenient in scipy: The `interp1d` function, when given arrays describing X and Y data, returns and object that behaves like a function that can be called for an arbitrary value of x (in the range covered by X), and it returns the corresponding interpolated y value:"
     ]
    },
    {
     "cell_type": "code",
     "collapsed": false,
     "input": [
      "from scipy.interpolate import interp1d"
     ],
     "language": "python",
     "metadata": {},
     "outputs": [],
     "prompt_number": 63
    },
    {
     "cell_type": "code",
     "collapsed": false,
     "input": [
      "def f(x):\n",
      "    return np.sin(x)"
     ],
     "language": "python",
     "metadata": {},
     "outputs": [],
     "prompt_number": 64
    },
    {
     "cell_type": "code",
     "collapsed": false,
     "input": [
      "n = np.arange(0, 10)  \n",
      "x = np.linspace(0, 9, 100)\n",
      "\n",
      "# simulate measurement with noise\n",
      "y_meas = f(n) + 0.1 * np.random.randn(len(n)) \n",
      "# Actual function\n",
      "y_real = f(x)\n",
      "\n",
      "linear_interpolation = interp1d(n, y_meas)\n",
      "y_interp1 = linear_interpolation(x)\n",
      "\n",
      "cubic_interpolation = interp1d(n, y_meas, kind='cubic')\n",
      "y_interp2 = cubic_interpolation(x)"
     ],
     "language": "python",
     "metadata": {},
     "outputs": [],
     "prompt_number": 65
    },
    {
     "cell_type": "code",
     "collapsed": false,
     "input": [
      "fig, ax = plt.subplots(figsize=(10,4))\n",
      "ax.plot(n, y_meas, 'bs', label='noisy data')\n",
      "ax.plot(x, y_real, 'k', lw=2, label='true function')\n",
      "ax.plot(x, y_interp1, 'r', label='linear interp')\n",
      "ax.plot(x, y_interp2, 'g', label='cubic interp')\n",
      "ax.legend(loc=3);"
     ],
     "language": "python",
     "metadata": {},
     "outputs": [
      {
       "metadata": {},
       "output_type": "display_data",
       "png": "[encoded data removed]",
       "text": [
        "<matplotlib.figure.Figure at 0x113a13dd0>"
       ]
      }
     ],
     "prompt_number": 66
    },
    {
     "cell_type": "markdown",
     "metadata": {},
     "source": [
      "## Statistics\n",
      "\n",
      "The `scipy.stats` module contains a large number of statistical distributions, statistical functions and tests."
     ]
    },
    {
     "cell_type": "code",
     "collapsed": false,
     "input": [
      "from scipy import stats"
     ],
     "language": "python",
     "metadata": {},
     "outputs": [],
     "prompt_number": 67
    },
    {
     "cell_type": "markdown",
     "metadata": {},
     "source": [
      "Discrete random variables:"
     ]
    },
    {
     "cell_type": "code",
     "collapsed": false,
     "input": [
      "X = stats.poisson(3.5)"
     ],
     "language": "python",
     "metadata": {},
     "outputs": [],
     "prompt_number": 68
    },
    {
     "cell_type": "code",
     "collapsed": false,
     "input": [
      "n = np.arange(0,15)\n",
      "\n",
      "fig, axes = plt.subplots(3,1, sharex=True)\n",
      "\n",
      "# plot the probability mass function (PMF)\n",
      "axes[0].step(n, X.pmf(n))\n",
      "\n",
      "# plot the commulative distribution function (CDF)\n",
      "axes[1].step(n, X.cdf(n))\n",
      "\n",
      "# plot histogram of 1000 random realizations of the stochastic variable X\n",
      "axes[2].hist(X.rvs(size=1000));"
     ],
     "language": "python",
     "metadata": {},
     "outputs": [
      {
       "metadata": {},
       "output_type": "display_data",
       "png": "[encoded data removed]",
       "text": [
        "<matplotlib.figure.Figure at 0x1139de910>"
       ]
      }
     ],
     "prompt_number": 69
    },
    {
     "cell_type": "markdown",
     "metadata": {},
     "source": [
      "Continuous random variables:"
     ]
    },
    {
     "cell_type": "code",
     "collapsed": false,
     "input": [
      "Y = stats.norm()"
     ],
     "language": "python",
     "metadata": {},
     "outputs": [],
     "prompt_number": 70
    },
    {
     "cell_type": "code",
     "collapsed": false,
     "input": [
      "x = np.linspace(-5,5,100)\n",
      "\n",
      "fig, axes = plt.subplots(3,1, sharex=True)\n",
      "\n",
      "# plot the probability distribution function (PDF)\n",
      "axes[0].plot(x, Y.pdf(x))\n",
      "\n",
      "# plot the commulative distributin function (CDF)\n",
      "axes[1].plot(x, Y.cdf(x));\n",
      "\n",
      "# plot histogram of 1000 random realizations of the stochastic variable Y\n",
      "axes[2].hist(Y.rvs(size=1000), bins=50);"
     ],
     "language": "python",
     "metadata": {},
     "outputs": [
      {
       "metadata": {},
       "output_type": "display_data",
       "png": "[encoded data removed]",
       "text": [
        "<matplotlib.figure.Figure at 0x113c5de90>"
       ]
      }
     ],
     "prompt_number": 71
    },
    {
     "cell_type": "markdown",
     "metadata": {},
     "source": [
      "## References\n",
      "\n",
      "[Scientific Python Lecture Notes](http://scipy-lectures.github.io)\n",
      "\n",
      "[Official SciPy Tutorial](http://docs.scipy.org/doc/scipy/reference/tutorial/index.html)"
     ]
    },
    {
     "cell_type": "markdown",
     "metadata": {},
     "source": [
      "---"
     ]
    },
    {
     "cell_type": "code",
     "collapsed": false,
     "input": [
      "from IPython.core.display import HTML\n",
      "def css_styling():\n",
      "    styles = open(\"styles/custom.css\", \"r\").read()\n",
      "    return HTML(styles)\n",
      "css_styling()"
     ],
     "language": "python",
     "metadata": {},
     "outputs": [
      {
       "html": [
        "<style>\n",
        "    @font-face {\n",
        "        font-family: \"Computer Modern\";\n",
        "        src: url('http://mirrors.ctan.org/fonts/cm-unicode/fonts/otf/cmunss.otf');\n",
        "    }\n",
        "    div.cell{\n",
        "        width: 90%;\n",
        "/*        margin-left:auto;*/\n",
        "/*        margin-right:auto;*/\n",
        "    }\n",
        "    ul {\n",
        "        line-height: 145%;\n",
        "        font-size: 90%;\n",
        "    }\n",
        "    li {\n",
        "        margin-bottom: 1em;\n",
        "    }\n",
        "    h1 {\n",
        "        font-family: Helvetica, serif;\n",
        "    }\n",
        "    h4{\n",
        "        margin-top: 12px;\n",
        "        margin-bottom: 3px;\n",
        "       }\n",
        "    div.text_cell_render{\n",
        "        font-family: Computer Modern, \"Helvetica Neue\", Arial, Helvetica, Geneva, sans-serif;\n",
        "        line-height: 145%;\n",
        "        font-size: 130%;\n",
        "        width: 90%;\n",
        "        margin-left:auto;\n",
        "        margin-right:auto;\n",
        "    }\n",
        "    .CodeMirror{\n",
        "            font-family: \"Source Code Pro\", source-code-pro,Consolas, monospace;\n",
        "    }\n",
        "/*    .prompt{\n",
        "        display: None;\n",
        "    }*/\n",
        "    .text_cell_render h5 {\n",
        "        font-weight: 300;\n",
        "        font-size: 16pt;\n",
        "        color: #4057A1;\n",
        "        font-style: italic;\n",
        "        margin-bottom: 0.5em;\n",
        "        margin-top: 0.5em;\n",
        "        display: block;\n",
        "    }\n",
        "\n",
        "    .warning{\n",
        "        color: rgb( 240, 20, 20 )\n",
        "        }\n",
        "</style>\n",
        "<script>\n",
        "    MathJax.Hub.Config({\n",
        "                        TeX: {\n",
        "                           extensions: [\"AMSmath.js\"]\n",
        "                           },\n",
        "                tex2jax: {\n",
        "                    inlineMath: [ ['$','$'], [\"\\\\(\",\"\\\\)\"] ],\n",
        "                    displayMath: [ ['$$','$$'], [\"\\\\[\",\"\\\\]\"] ]\n",
        "                },\n",
        "                displayAlign: 'center', // Change this to 'center' to center equations.\n",
        "                \"HTML-CSS\": {\n",
        "                    styles: {'.MathJax_Display': {\"margin\": 4}}\n",
        "                }\n",
        "        });\n",
        "</script>"
       ],
       "metadata": {},
       "output_type": "pyout",
       "prompt_number": 72,
       "text": [
        "<IPython.core.display.HTML at 0x113bb5110>"
       ]
      }
     ],
     "prompt_number": 72
    }
   ],
   "metadata": {}
  }
 ]
}