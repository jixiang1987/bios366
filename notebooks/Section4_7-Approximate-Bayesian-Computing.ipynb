{
 "metadata": {
  "name": ""
 },
 "nbformat": 3,
 "nbformat_minor": 0,
 "worksheets": [
  {
   "cells": [
    {
     "cell_type": "markdown",
     "metadata": {},
     "source": [
      "# Approximate Bayesian Computation\n",
      "\n",
      "The dominant issue in applying Bayesian methods to data analysis is the feasibility of calculating the posterior distribution. As we have seen, for most non-trivial problems, the posterior is analytically intractible. Computationally, it can be expensive to calculate or sample from.\n",
      "\n",
      "Approximation methods do exist, such as the Laplace approximation, but it relies on strong assumptions about the form of the posterior.\n",
      "\n",
      "Approximate Bayesian Computation (ABC) is a simulation-based approximation approach that avoids having to calculate the model likelihood, as we do for MCMC sampling. For this reason, it is sometimes called ***likelihood-free computation*** or ***likelihood-free MCMC***. Instead of evaluating the estimated posterior distribution at sampled values of the parameters, candidate parameters sample from their *prior* distribtions are used to generate simulated datasets; if the simulated data are deemed to be \"similar enough\" to the observed data, the proposed parameters are accepted. In this way, the data are thought to lend support to parameter values that might have generated them over those for which the observations would be less probable. "
     ]
    },
    {
     "cell_type": "markdown",
     "metadata": {},
     "source": [
      "## Likelihood-free computation\n",
      "\n",
      "As is often the case in statistical computing, one effective strategy for improving compuational efficiency is to introduce auxilliary variables into a model. Such variables are solely for the purpose of facilitating computation, and play no role in inference.\n",
      "\n",
      "For approximate Bayesian computation, we do just this, augmenting the posterior with auxilliary data $x$:\n",
      "\n",
      "$$P(\\theta, x \\,|\\, y) \\propto P(y \\,|\\, \\theta, x) P(x \\,|\\, \\theta) P(\\theta)$$\n",
      "\n",
      "Upon inspection, we see that $x$ is drawn from a sampling distribution that is conditional on the prior of the parameter vector $\\theta$. Note also that since $x$ is sampled from the same parametric model as $y$, it occupies the same space as $y$.\n",
      "\n",
      "Ultimately, we want to integrate the auxilliary data from the posterior:\n",
      "\n",
      "$$P(\\theta \\,|\\, y) \\propto \\left[\\int P(y \\,|\\, \\theta, x) P(x \\,|\\, \\theta) dx\\right] P(\\theta)$$\n",
      "\n",
      "Of course, we are not able to perform this integration analytically. The thrust of ABC is that we integrate numerically by keeping samples from $P(\\theta)$ that generate sample which closely correspond to observed data (*i.e.* approximating the sampling process that generated $y$), and discarding the rest.\n",
      "\n",
      "Notice that when $x=y$, the augmented posterior becomes the posterior of interest:\n",
      "\n",
      "$$\\left[\\int P(y \\,|\\, \\theta, x=y) P(x=y \\,|\\, \\theta) dx\\right] P(\\theta) = P(y \\,|\\, \\theta) P(\\theta)$$\n",
      "\n",
      "Thus, a na\u00efve form of ABC is to simulate from the prior, accepting only those parameters that result in simulated datasets that are exactly equivalent to the observed data $y$.\n",
      "\n",
      "This rejection algorithm is as follows:\n",
      "\n",
      "1. Sample parameters $\\theta^{(i)}$ from priors $P(\\theta)$.\n",
      "2. Simulate data $x^{(i)}$ from sampling distributions $x \\sim P(x \\,|\\, \\theta^{(i)})$.\n",
      "3. If $x^{(i)}==y$, keep $\\theta^{(i)}$ as sample from posterior.\n",
      "4. Repeat steps 1-3 until desired number of samples is obtained.\n",
      "\n",
      "Of course, for continuous variables, the sampled data will never be exactly equal to the observed data, and even for discrete variables sampling will be painfully inefficient. In order for ABC to be effective, we have to relax the check for equality, and accept samples that are merely \"close enough\" to the observed data. \n",
      "\n",
      "This simple change involves making two important choices: (1) deciding how to measure \"closeness\" and (2) deciding how close is \"close enough\"? In general, however, we can specify some function $\\rho(a, b)$ that returns some distance measure between $a$ and $b$, and compare this output to a chosen threshold value $\\epsilon$. With these changes, the ABC rejection algorithm becomes:\n",
      "\n",
      "1. Sample parameters $\\theta^{(i)}$ from priors $P(\\theta)$.\n",
      "2. Simulate data $x^{(i)}$ from sampling distributions $x \\sim P(x \\,|\\, \\theta^{(i)})$.\n",
      "3. If $\\rho(x, y) < \\epsilon$, keep $\\theta^{(i)}$ as sample from posterior.\n",
      "4. Repeat steps 1-3 until desired number of samples is obtained.\n",
      "\n",
      "A popular choice of distance measure is the Euclidean distance, which is provided in NumPy as `np.linalg.norm`. \n",
      "\n",
      "$$||x - y|| = \\sqrt{(x_1-y_1)^2 + \\ldots + (x_n-y_n)^2}< \\epsilon$$\n",
      "\n",
      "The quality of the approximation of the posterior depends on the choice of the tolerance $\\epsilon$. When $\\epsilon$ is too small, sampling will be inefficient; when $\\epsilon$ is too large, estimates will more strongly resemble the model priors. The convergence properties of ABC as a function of $\\epsilon$ are not clear."
     ]
    },
    {
     "cell_type": "markdown",
     "metadata": {},
     "source": [
      "### Summary statistics\n",
      "\n",
      "When data are of high (even moderate) dimension, comparing each datum in a simulated dataset with each corresponding datum in an observed dataset can result in low sampling efficiency; the probability of all simulated data simultaneously falling within the tolerance bound $\\epsilon$ of the observed data gets very small for a fixed $\\epsilon$ as the size of the dataset grows. Instead, *summary statistics* may be compared in order to keep the acceptance rate high.\n",
      "\n",
      "$$\\rho(T(x), T(y)) < \\epsilon$$\n",
      "\n",
      "For example, one might consider the mean, variance, autocorrelation, tail probabilities, *etc.* of the simulated and observed datasets. The use of summary statistics comes at a cost, however, since there is generally information loss upon summarization that results in estimation error. This compromise can be avoided if **sufficient statistics** are available, since sufficiency guarantees that all information about the posterior distribution is captured by that statistic."
     ]
    },
    {
     "cell_type": "markdown",
     "metadata": {},
     "source": [
      "## Example: Fitting a Gaussian\n",
      "\n",
      "A very simple demonstration of ABC is to estimate the parameters of a particular statistical model. For example, let's simulate some data from a $N(4, 2)$ distibution:"
     ]
    },
    {
     "cell_type": "code",
     "collapsed": false,
     "input": [
      "import numpy as np\n",
      "\n",
      "y = np.random.normal(4, 2, 50)\n",
      "hist(y)"
     ],
     "language": "python",
     "metadata": {},
     "outputs": [
      {
       "metadata": {},
       "output_type": "pyout",
       "prompt_number": 1,
       "text": [
        "(array([ 5.,  4.,  5.,  8.,  8.,  5.,  9.,  2.,  2.,  2.]),\n",
        " array([ 0.23869161,  1.07694032,  1.91518903,  2.75343773,  3.59168644,\n",
        "         4.42993515,  5.26818386,  6.10643257,  6.94468128,  7.78292999,\n",
        "         8.6211787 ]),\n",
        " <a list of 10 Patch objects>)"
       ]
      },
      {
       "metadata": {},
       "output_type": "display_data",
       "png": "[encoded data removed]",
       "text": [
        "<matplotlib.figure.Figure at 0x106d81450>"
       ]
      }
     ],
     "prompt_number": 1
    },
    {
     "cell_type": "markdown",
     "metadata": {},
     "source": [
      "To set up the ABC run, we first specify how many samples we want to draw from the posterior, as well as a tolerance for the distance measure to be used as the criterion for accepting or rejecting drawn values. Then, we need a data structure to store the accepted samples:"
     ]
    },
    {
     "cell_type": "code",
     "collapsed": false,
     "input": [
      "N = 100\n",
      "epsilon = [0.2, 0.8]\n",
      "\n",
      "trace = []"
     ],
     "language": "python",
     "metadata": {},
     "outputs": [],
     "prompt_number": 2
    },
    {
     "cell_type": "markdown",
     "metadata": {},
     "source": [
      "The algorithm then invloves repeatedly sampling from the priors on $\\mu$ and $\\sigma$, and using those draws to simulate some data. The mean and standard deviation of the simulations are compared to those for the observed data, and the corresponding parameter samples are stored if the distance is within the specified threshold."
     ]
    },
    {
     "cell_type": "code",
     "collapsed": false,
     "input": [
      "while len(trace) < N:\n",
      "    \n",
      "    # Simulate from priors\n",
      "    mu = np.random.normal(0, 10)\n",
      "    sigma = np.random.uniform(0, 20)\n",
      "    \n",
      "    x = np.random.normal(mu, sigma, 50)\n",
      "    \n",
      "    #if (np.linalg.norm(y - x) < epsilon):\n",
      "    if ((abs(x.mean() - y.mean()) < epsilon[0]) & \n",
      "        (abs(x.std() - y.std()) < epsilon[1])):\n",
      "        trace.append([mu, sigma])\n",
      "        \n",
      "trace = pd.DataFrame(trace, columns=['mu', 'sigma'])"
     ],
     "language": "python",
     "metadata": {},
     "outputs": [],
     "prompt_number": 3
    },
    {
     "cell_type": "code",
     "collapsed": false,
     "input": [
      "trace.hist()\n",
      "plt.tight_layout()"
     ],
     "language": "python",
     "metadata": {},
     "outputs": [
      {
       "metadata": {},
       "output_type": "display_data",
       "png": "[encoded data removed]",
       "text": [
        "<matplotlib.figure.Figure at 0x106d87e90>"
       ]
      }
     ],
     "prompt_number": 4
    },
    {
     "cell_type": "markdown",
     "metadata": {},
     "source": [
      "### Example: Coal mining disasters\n",
      "\n",
      "For a less trivial example, consider the following dataset, which is a time series of recorded coal mining disasters in the UK from 1851 to 1962 ([Jarrett 1979](http://www.jstor.org/stable/2335266)). Notice that the number of disasters each year appears to be lower in the later years than earlier.\n",
      "\n",
      "Annual counts of disasters in the dataset can be modeled as a Poisson process with a larger rate parameter early in the time series, and and a smaller rate in the later part. We are interested\n",
      "in locating the change point in the series, which perhaps is related to changes in mining safety regulations."
     ]
    },
    {
     "cell_type": "code",
     "collapsed": false,
     "input": [
      "disasters_array = np.array([4, 5, 4, 0, 1, 4, 3, 4, 0, 6, 3, 3, 4, 0, 2, 6,\n",
      "                         3, 3, 5, 4, 5, 3, 1, 4, 4, 1, 5, 5, 3, 4, 2, 5,\n",
      "                         2, 2, 3, 4, 2, 1, 3, 2, 2, 1, 1, 1, 1, 3, 0, 0,\n",
      "                         1, 0, 1, 1, 0, 0, 3, 1, 0, 3, 2, 2, 0, 1, 1, 1,\n",
      "                         0, 1, 0, 1, 0, 0, 0, 2, 1, 0, 0, 0, 1, 1, 0, 2,\n",
      "                         3, 3, 1, 1, 2, 1, 1, 1, 1, 2, 4, 2, 0, 0, 1, 4,\n",
      "                         0, 0, 0, 1, 0, 0, 0, 0, 0, 1, 0, 0, 1, 0, 1])"
     ],
     "language": "python",
     "metadata": {},
     "outputs": [],
     "prompt_number": 5
    },
    {
     "cell_type": "markdown",
     "metadata": {},
     "source": [
      "In this example, we will compare the norms of the simulated and observed data, sorting them, since we are comparing based on the distribtion of the values, and not their order:\n",
      "\n",
      "    np.linalg.norm(np.sort(x_early) - np.sort(disasters_array[:switch]))\n",
      "    \n",
      "The priors for the Poisson means are sampled from an exponential distribution with mean 1, and the switch point from a discrete uniform over all the years."
     ]
    },
    {
     "cell_type": "code",
     "collapsed": false,
     "input": [
      "N = 100\n",
      "epsilon = 4\n",
      "\n",
      "# Dict for holding accepted samples\n",
      "params = dict(switch=[], early_mean=[], late_mean=[])\n",
      "    \n",
      "while len(params['switch']) < N:\n",
      "        \n",
      "    # Simulate from priors\n",
      "    switch = np.random.randint(15, 90)\n",
      "    early_mean = np.random.exponential(1)\n",
      "    late_mean = np.random.exponential(1)\n",
      "    \n",
      "    # Simulate data\n",
      "    x_early = np.random.poisson(early_mean, switch)\n",
      "    x_late = np.random.poisson(late_mean, 111 - switch)\n",
      "    \n",
      "    if ((np.linalg.norm(np.sort(x_early) - np.sort(disasters_array[:switch])) < epsilon) & \n",
      "        (np.linalg.norm(np.sort(x_late) - np.sort(disasters_array[switch:])) < epsilon)):\n",
      "        \n",
      "        params['switch'].append(switch)\n",
      "        params['early_mean'].append(early_mean)\n",
      "        params['late_mean'].append(late_mean)\n",
      "\n",
      "trace = pd.DataFrame(params)"
     ],
     "language": "python",
     "metadata": {},
     "outputs": [],
     "prompt_number": 6
    },
    {
     "cell_type": "code",
     "collapsed": false,
     "input": [
      "trace.hist(bins=np.sqrt(N))"
     ],
     "language": "python",
     "metadata": {},
     "outputs": [
      {
       "metadata": {},
       "output_type": "pyout",
       "prompt_number": 7,
       "text": [
        "array([[<matplotlib.axes._subplots.AxesSubplot object at 0x107298190>,\n",
        "        <matplotlib.axes._subplots.AxesSubplot object at 0x1072c1ad0>],\n",
        "       [<matplotlib.axes._subplots.AxesSubplot object at 0x10721fa50>,\n",
        "        <matplotlib.axes._subplots.AxesSubplot object at 0x1072a7ad0>]], dtype=object)"
       ]
      },
      {
       "metadata": {},
       "output_type": "display_data",
       "png": "[encoded data removed]",
       "text": [
        "<matplotlib.figure.Figure at 0x106d89fd0>"
       ]
      }
     ],
     "prompt_number": 7
    },
    {
     "cell_type": "markdown",
     "metadata": {},
     "source": [
      "## Model comparison\n",
      "\n",
      "The approximate Bayesian computing approach can also be used for model selection, where several models are considered simultaneously. In addition to the parameters of each model, the inference considers the *model index* $M$, which is associated with its own prior distribution $P(m)$ $(m = 1,...,M)$, as well as a prior distribution on the parameters conditional on the value $m$ of the model index, $P_m(\\theta_m)$, defined on the parameter space $\\theta_m$. \n",
      "\n",
      "Discrimination among these models is then driven by the posterior distribution of $M$, a challenging computational target where ABC brings a straightforward solution. If $M$ is simply considered an additional parameter to be estimated, we can sample from its prior distribution just as with the model parameters.\n",
      "\n",
      "The algorithm is as follows:\n",
      "\n",
      "- Loop for N iterations:\n",
      "    - while $\\rho(T(x), T(y)) > \\epsilon$:\n",
      "        - sample $m$ from prior $P(m)$\n",
      "        - sample $\\theta_m$ from prior $P_m(\\theta_m)$\n",
      "        - simulate data x from model $f_m(x|\\theta_m)$\n",
      "    - set $m^{(i)} = m$ and $\\theta^{(i)} = \\theta_m$\n",
      "    \n",
      "As a contrived example, consider some data sampled from a *Gamma(10, 2)* distribution, where we are uncertain about the generating model. "
     ]
    },
    {
     "cell_type": "code",
     "collapsed": false,
     "input": [
      "simdata = np.random.gamma(10,2,50)"
     ],
     "language": "python",
     "metadata": {},
     "outputs": [],
     "prompt_number": 8
    },
    {
     "cell_type": "code",
     "collapsed": false,
     "input": [
      "plt.hist(simdata, bins=10)"
     ],
     "language": "python",
     "metadata": {},
     "outputs": [
      {
       "metadata": {},
       "output_type": "pyout",
       "prompt_number": 9,
       "text": [
        "(array([  4.,   8.,   4.,   2.,   2.,  11.,   7.,   6.,   4.,   2.]),\n",
        " array([ 10.32322444,  12.68308092,  15.04293741,  17.4027939 ,\n",
        "         19.76265039,  22.12250688,  24.48236337,  26.84221986,\n",
        "         29.20207635,  31.56193283,  33.92178932]),\n",
        " <a list of 10 Patch objects>)"
       ]
      },
      {
       "metadata": {},
       "output_type": "display_data",
       "png": "[encoded data removed]",
       "text": [
        "<matplotlib.figure.Figure at 0x1072d7a50>"
       ]
      }
     ],
     "prompt_number": 9
    },
    {
     "cell_type": "markdown",
     "metadata": {},
     "source": [
      "We might consider fitting a Gaussian distribution to this data, as an alternative to the Gamma. Thus, we can constuct an ABC model choice sampler for $M=2$ models:"
     ]
    },
    {
     "cell_type": "code",
     "collapsed": false,
     "input": [
      "N = 500\n",
      "\n",
      "epsilon = [20, 10, 5]\n",
      "\n",
      "trace = dict(normal=[], gamma=[])\n",
      "\n",
      "def accept(x, simdata, e=epsilon):\n",
      "    \n",
      "    return ((abs(np.log(x.prod()) - np.log(simdata.prod())) < e[0]) & \n",
      "            (abs(x.sum() - simdata.sum()) < e[1]) &\n",
      "            (abs(x.std() - simdata.std()) < e[2]))\n",
      "    \n",
      "\n",
      "while (len(trace['normal']) + len(trace['gamma'])) < N:\n",
      "    \n",
      "    gamma = np.random.binomial(1, 0.5)\n",
      "    \n",
      "    if gamma:\n",
      "                \n",
      "        alpha, beta = np.random.exponential(10, 2)\n",
      "        \n",
      "        x = np.random.gamma(alpha, beta, 50)\n",
      "        \n",
      "        if accept(x, simdata):\n",
      "            trace['gamma'].append([alpha, beta])\n",
      "    \n",
      "    else:\n",
      "        \n",
      "        # Simulate from priors\n",
      "        mu = np.random.normal(0, 10)\n",
      "        sigma = np.random.uniform(0, 20)\n",
      "        \n",
      "        x = np.random.normal(mu, sigma, 50)\n",
      "            \n",
      "        if accept(x, simdata):\n",
      "            trace['normal'].append([mu, sigma])\n",
      "            "
     ],
     "language": "python",
     "metadata": {},
     "outputs": [],
     "prompt_number": 10
    },
    {
     "cell_type": "code",
     "collapsed": false,
     "input": [
      "trace['gamma'][:10], trace['normal'][:10]"
     ],
     "language": "python",
     "metadata": {},
     "outputs": [
      {
       "metadata": {},
       "output_type": "pyout",
       "prompt_number": 14,
       "text": [
        "([[5.3705519848062586, 3.6899708050024698],\n",
        "  [8.3060765985383291, 2.5969814414389267],\n",
        "  [6.399913549295122, 3.726662585170347],\n",
        "  [17.714896391120099, 1.1682451673625689],\n",
        "  [3.7109484247737772, 6.304488963956584],\n",
        "  [4.7222706808572887, 4.4401190534468276],\n",
        "  [4.3715742328559157, 4.8595417541732138],\n",
        "  [6.1391911903808403, 3.4567416810405009],\n",
        "  [13.168091782497328, 1.6620550700293042],\n",
        "  [10.688197912745224, 1.9506358751638262]],\n",
        " [[20.18649391106294, 7.750527742835218],\n",
        "  [22.084609741440367, 8.24088056498118],\n",
        "  [22.079863005169187, 4.547442331530151],\n",
        "  [22.641853331609447, 10.07143521592967],\n",
        "  [21.29692419617672, 5.310674549912406],\n",
        "  [22.151847944670635, 3.449877580753624],\n",
        "  [21.39266063433691, 13.047665884650499],\n",
        "  [22.725618128980223, 6.452400081633318],\n",
        "  [20.261751782126858, 5.043818108723865],\n",
        "  [20.612421751018278, 12.268664727430135]])"
       ]
      }
     ],
     "prompt_number": 14
    },
    {
     "cell_type": "markdown",
     "metadata": {},
     "source": [
      "The ABC estimate of the posterior probability $P(m|y)$ is simply the acceptance frequency from model $m$:\n",
      "\n",
      "$$Pr(m) = \\frac{1}{N} \\sum_{i=1}^N I(m^{(i)}=m)$$"
     ]
    },
    {
     "cell_type": "code",
     "collapsed": false,
     "input": [
      "p_gamma = len(trace['gamma'])/float(N)\n",
      "p_gamma"
     ],
     "language": "python",
     "metadata": {},
     "outputs": [
      {
       "metadata": {},
       "output_type": "pyout",
       "prompt_number": 12,
       "text": [
        "0.772"
       ]
      }
     ],
     "prompt_number": 12
    },
    {
     "cell_type": "markdown",
     "metadata": {},
     "source": [
      "Once the posterior probabilities of models have been estimated, one can make full use of the techniques of Bayesian model comparison. For instance, to compare the relative plausibilities of two models $m=1$ and $m=2$, one can compute their posterior ratio, which is related to the Bayes factor $B_{1,2}$:\n",
      "\n",
      "$$\\frac{P(m=1|y)}{P(m=2|y)} = \\frac{P(y|m=1)P(m=1)}{P(y|m=2)P(m=2)} = B_{1,2}\\frac{P(m=1)}{P(m=2)}$$"
     ]
    },
    {
     "cell_type": "code",
     "collapsed": false,
     "input": [
      "B12 = (p_gamma)/(1-p_gamma)\n",
      "B12"
     ],
     "language": "python",
     "metadata": {},
     "outputs": [
      {
       "metadata": {},
       "output_type": "pyout",
       "prompt_number": 13,
       "text": [
        "3.385964912280702"
       ]
      }
     ],
     "prompt_number": 13
    },
    {
     "cell_type": "markdown",
     "metadata": {},
     "source": [
      "## Exercise: ABC for UK coal mining disasters\n",
      "\n",
      "Implement an ABC scheme for estimating the parameters of the coal mining disasters model."
     ]
    },
    {
     "cell_type": "code",
     "collapsed": false,
     "input": [
      "disasters_array = np.array([4, 5, 4, 0, 1, 4, 3, 4, 0, 6, 3, 3, 4, 0, 2, 6,\n",
      "                         3, 3, 5, 4, 5, 3, 1, 4, 4, 1, 5, 5, 3, 4, 2, 5,\n",
      "                         2, 2, 3, 4, 2, 1, 3, 2, 2, 1, 1, 1, 1, 3, 0, 0,\n",
      "                         1, 0, 1, 1, 0, 0, 3, 1, 0, 3, 2, 2, 0, 1, 1, 1,\n",
      "                         0, 1, 0, 1, 0, 0, 0, 2, 1, 0, 0, 0, 1, 1, 0, 2,\n",
      "                         3, 3, 1, 1, 2, 1, 1, 1, 1, 2, 4, 2, 0, 0, 1, 4,\n",
      "                         0, 0, 0, 1, 0, 0, 0, 0, 0, 1, 0, 0, 1, 0, 1])"
     ],
     "language": "python",
     "metadata": {},
     "outputs": [],
     "prompt_number": 17
    },
    {
     "cell_type": "code",
     "collapsed": false,
     "input": [
      "# Code your model here"
     ],
     "language": "python",
     "metadata": {},
     "outputs": []
    },
    {
     "cell_type": "markdown",
     "metadata": {},
     "source": [
      "## References\n",
      "\n",
      "Sunn\u00e5ker, M., Busetto, A. G., Numminen, E., Corander, J., Foll, M., & Dessimoz, C. (2013). Approximate Bayesian Computation. PLoS Computational Biology, 9(1), e1002803. [doi:10.1371/journal.pcbi.1002803](http://www.ploscompbiol.org/article/info:doi/10.1371/journal.pcbi.1002803)\n",
      "\n",
      "Csill\u00e9ry, K., Blum, M. G. B., Gaggiotti, O. E., & Fran\u00e7ois, O. (2010). Approximate Bayesian Computation (ABC) in practice. Trends in Ecology & Evolution, 25(7), 410\u2013418. [doi:10.1016/j.tree.2010.04.001](http://www.ncbi.nlm.nih.gov/pubmed/20488578)\n",
      "\n",
      "Marin, J.-M., Pudlo, P., Robert, C. P., & Ryder, R. J. (2011). Approximate Bayesian computational methods. Statistics and Computing, 22(6), 1167\u20131180. [doi:10.1007/s11222-011-9288-2](http://link.springer.com/content/pdf/10.1007%2Fs11222-011-9288-2.pdf)\n",
      "\n",
      "[The Rate of Convergence for Approximate Bayesian Computation](http://m.seehuhn.de/papers/ABC.pdf) by Stuart Barber, Jochen Voss and Mark Webster"
     ]
    },
    {
     "cell_type": "markdown",
     "metadata": {},
     "source": [
      "---"
     ]
    },
    {
     "cell_type": "code",
     "collapsed": false,
     "input": [
      "from IPython.core.display import HTML\n",
      "def css_styling():\n",
      "    styles = open(\"styles/custom.css\", \"r\").read()\n",
      "    return HTML(styles)\n",
      "css_styling()"
     ],
     "language": "python",
     "metadata": {},
     "outputs": [
      {
       "html": [
        "<style>\n",
        "    @font-face {\n",
        "        font-family: \"Computer Modern\";\n",
        "        src: url('http://mirrors.ctan.org/fonts/cm-unicode/fonts/otf/cmunss.otf');\n",
        "    }\n",
        "    div.cell{\n",
        "        width:800px;\n",
        "/*        margin-left:16% !important;*/\n",
        "        margin-left:auto;\n",
        "        margin-right:auto;\n",
        "    }\n",
        "    h1 {\n",
        "        font-family: Helvetica, serif;\n",
        "    }\n",
        "    h4{\n",
        "        margin-top:12px;\n",
        "        margin-bottom: 3px;\n",
        "       }\n",
        "    div.text_cell_render{\n",
        "        font-family: Computer Modern, \"Helvetica Neue\", Arial, Helvetica, Geneva, sans-serif;\n",
        "        line-height: 145%;\n",
        "        font-size: 130%;\n",
        "        width:800px;\n",
        "        margin-left:auto;\n",
        "        margin-right:auto;\n",
        "    }\n",
        "    .CodeMirror{\n",
        "            font-family: \"Source Code Pro\", source-code-pro,Consolas, monospace;\n",
        "    }\n",
        "/*    .prompt{\n",
        "        display: None;\n",
        "    }*/\n",
        "    .text_cell_render h5 {\n",
        "        font-weight: 300;\n",
        "        font-size: 16pt;\n",
        "        color: #4057A1;\n",
        "        font-style: italic;\n",
        "        margin-bottom: .5em;\n",
        "        margin-top: 0.5em;\n",
        "        display: block;\n",
        "    }\n",
        "\n",
        "    .warning{\n",
        "        color: rgb( 240, 20, 20 )\n",
        "        }\n",
        "</style>\n",
        "<script>\n",
        "    MathJax.Hub.Config({\n",
        "                        TeX: {\n",
        "                           extensions: [\"AMSmath.js\"]\n",
        "                           },\n",
        "                tex2jax: {\n",
        "                    inlineMath: [ ['$','$'], [\"\\\\(\",\"\\\\)\"] ],\n",
        "                    displayMath: [ ['$$','$$'], [\"\\\\[\",\"\\\\]\"] ]\n",
        "                },\n",
        "                displayAlign: 'center', // Change this to 'center' to center equations.\n",
        "                \"HTML-CSS\": {\n",
        "                    styles: {'.MathJax_Display': {\"margin\": 4}}\n",
        "                }\n",
        "        });\n",
        "</script>"
       ],
       "metadata": {},
       "output_type": "pyout",
       "prompt_number": 1,
       "text": [
        "<IPython.core.display.HTML at 0x10eeddb90>"
       ]
      }
     ],
     "prompt_number": 1
    }
   ],
   "metadata": {}
  }
 ]
}