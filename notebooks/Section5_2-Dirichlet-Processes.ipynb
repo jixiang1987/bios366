{
 "metadata": {
  "name": ""
 },
 "nbformat": 3,
 "nbformat_minor": 0,
 "worksheets": [
  {
   "cells": [
    {
     "cell_type": "markdown",
     "metadata": {},
     "source": [
      "# Dirichlet Processes\n",
      "\n",
      "We have seen with parametric mixture models that we can assign group labels to observations using a model, but so far we have assumed that we know how many groups there are *a priori*. What if we don't know how many groups produced the data? We often want the choice of $K$ to be **data-driven**.\n",
      "\n",
      "There are a number of approaches for allocating samples to groups where the number of groups is not pre-determined. We will look at two generative methods here.\n",
      "\n",
      "## The Bayesian Histogram\n",
      "\n",
      "One way to approximate an unknown density using sample observations is using a *histogram*. One way to parametrically describe a histogram is by specifying a series of knots that define the bins of a histogram:\n",
      "\n",
      "$$\\zeta = \\{\\zeta_i: \\zeta_1 \\lt \\zeta_2 \\lt \\ldots \\lt \\zeta_k \\}_{h=1}^k$$\n",
      "\n",
      "We can specify an associated probability model as:\n",
      "\n",
      "$$f(x) = \\sum_{h=i}^k I(\\zeta_{h-1} \\lt x \\le \\zeta_h) \\frac{\\pi_h}{\\zeta_h - \\zeta_{h-1}}$$\n",
      "\n",
      "where $I$ is the indicator function and $\\pi = \\pi_1, \\ldots, \\pi_k$ a probability simplex.\n",
      "\n",
      "We require a prior for the unknown probabilities, for which a natural choice is the *Dirichlet* distribution:\n",
      "\n",
      "$$f(\\mathbf{\\pi}) = \\frac{\\prod \\Gamma(\\alpha_h)}{\\Gamma(\\sum_{h=1}^k \\alpha_h)}\\prod_{h=1}^{k} \\pi_h^{\\alpha_h - 1}$$\n",
      "\n",
      "$$\\text{where } \\, E(\\pi|\\alpha) = \\pi_0 = \\frac{\\alpha_1}{\\sum_h \\alpha_h}, \\ldots , \\frac{\\alpha_k}{\\sum_h \\alpha_h}$$\n",
      "\n",
      "Notice that the Dirichlet is just a generalization of the beta distribution to $k \\gt 2$ classes.\n",
      "\n",
      "It is easy to show that the resulting posterior distribution for $\\pi$ is another Dirichlet:\n",
      "\n",
      "$$\\pi|x \\sim \\text{Dirichlet}(\\alpha_1 + n_i, \\ldots, \\alpha_k + n_k)$$\n",
      "\n",
      "where $n_h$ is the number of observations contained by the $h^{th}$ histogram bin."
     ]
    },
    {
     "cell_type": "code",
     "collapsed": false,
     "input": [
      "from pymc import rbeta\n",
      "\n",
      "n = 100\n",
      "y = 0.75 * rbeta(1, 5, n) + 0.25 * rbeta(20, 2, n)\n",
      "\n",
      "counts, bins, patches = plt.hist(y, bins=10)"
     ],
     "language": "python",
     "metadata": {},
     "outputs": [
      {
       "metadata": {},
       "output_type": "display_data",
       "png": "[encoded data removed]",
       "text": [
        "<matplotlib.figure.Figure at 0x10a335310>"
       ]
      }
     ],
     "prompt_number": 1
    },
    {
     "cell_type": "code",
     "collapsed": false,
     "input": [
      "counts"
     ],
     "language": "python",
     "metadata": {},
     "outputs": [
      {
       "metadata": {},
       "output_type": "pyout",
       "prompt_number": 2,
       "text": [
        "array([ 30.,  30.,  18.,   7.,   8.,   3.,   3.,   0.,   0.,   1.])"
       ]
      }
     ],
     "prompt_number": 2
    },
    {
     "cell_type": "markdown",
     "metadata": {},
     "source": [
      "We can use these bin counts to cacluate the expected value of the Dirichlet posterior:"
     ]
    },
    {
     "cell_type": "code",
     "collapsed": false,
     "input": [
      "from pymc import dirichlet_expval\n",
      "import numpy as np\n",
      "\n",
      "p = dirichlet_expval(1+counts)\n",
      "p = np.append(p, 1.-p.sum())\n",
      "y_exp = n*p"
     ],
     "language": "python",
     "metadata": {},
     "outputs": [],
     "prompt_number": 3
    },
    {
     "cell_type": "code",
     "collapsed": false,
     "input": [
      "plt.hist(y, bins=10)\n",
      "plt.step(bins, y_exp, color='red', where='post', linewidth=4)"
     ],
     "language": "python",
     "metadata": {},
     "outputs": [
      {
       "metadata": {},
       "output_type": "pyout",
       "prompt_number": 4,
       "text": [
        "[<matplotlib.lines.Line2D at 0x10a309a50>]"
       ]
      },
      {
       "metadata": {},
       "output_type": "display_data",
       "png": "[encoded data removed]",
       "text": [
        "<matplotlib.figure.Figure at 0x10cec6e50>"
       ]
      }
     ],
     "prompt_number": 4
    },
    {
     "cell_type": "markdown",
     "metadata": {},
     "source": [
      "While this does a good job of density approximation, the estimates are clearly sensitive to the choice of bins (both number and location):"
     ]
    },
    {
     "cell_type": "code",
     "collapsed": false,
     "input": [
      "counts, bins, patches = plt.hist(y, bins=20)\n",
      "\n",
      "p = dirichlet_expval(1+counts) \n",
      "y_exp = n*np.append(p, 1.-p.sum())\n",
      "\n",
      "plt.hist(y, bins=20)\n",
      "plt.step(bins, y_exp, color='red', where='post', linewidth=4)"
     ],
     "language": "python",
     "metadata": {},
     "outputs": [
      {
       "metadata": {},
       "output_type": "pyout",
       "prompt_number": 5,
       "text": [
        "[<matplotlib.lines.Line2D at 0x10cfd4550>]"
       ]
      },
      {
       "metadata": {},
       "output_type": "display_data",
       "png": "[encoded data removed]",
       "text": [
        "<matplotlib.figure.Figure at 0x10cecbed0>"
       ]
      }
     ],
     "prompt_number": 5
    },
    {
     "cell_type": "markdown",
     "metadata": {},
     "source": [
      "So, while this is a simple, straightforward approach to flexible density estimation, we would prefer not to have to specify bins *a priori*. Happily, with a little work, we can generalize the Dirichlet to make it more flexible\n",
      "\n",
      "## Dirichlet Process Prior\n",
      "\n",
      "Consider a samples space $\\Omega$ that we may partition into $k$ non-overlapping subsets $\\{B_1,\\ldots,B_k\\} \\in \\mathcal{B}$. We can assign a probability measure $P$ to this partition:\n",
      "\n",
      "$$P(B_1),\\ldots,P(B_k) = \\int_{B_1} f(x) dx, \\ldots, \\int_{B_k} f(x) dx$$\n",
      "\n",
      "A Dirichlet distribition would be a natural conjugate prior on these partition (bin) probabilities:\n",
      "\n",
      "$$P(B_1),\\ldots,P(B_k) \\sim \\text{Dirichlet}(a P_0(B_1), \\ldots, a P_0(B_k))$$\n",
      "\n",
      "where $P_0$ is a base probability measure and $a > 0$ can be interpreted as prior sample size, which essentially controls the amount of prior shrinkage.\n",
      "\n",
      "However, we want our model to be insensitive to the choice of partition and to the number of bins. The important implication of specifying this prior is that although probabilities are assigned to each bin, it does not prescribe how that probability mass is distributed across any particular bin.\n",
      "\n",
      "It is easy to show that combining (or splitting) the elements of a Dirichlet distribution results in another Dirichlet:\n",
      "\n",
      "$$\\begin{aligned}\n",
      "\\pi_1, \\ldots, \\pi_k &\\sim \\text{Dirichlet}(\\alpha_1, \\ldots, \\alpha_k) \\\\\n",
      "\\Rightarrow \\pi_1 + \\pi_2, \\pi_3, \\ldots, \\pi_k &\\sim \\text{Dirichlet}(\\alpha_1 + \\alpha_2, \\alpha_3, \\ldots, \\alpha_k)\n",
      "\\end{aligned}$$\n",
      "\n",
      "or generally, for partition $\\{B_1,\\ldots,B_k\\} \\in \\mathcal{B}$:\n",
      "\n",
      "$$\\sum_{h \\in B_1} \\pi_h, \\ldots, \\sum_{h \\in B_k} \\pi_h \\sim \\text{Dirichlet}(\\sum_{h \\in B_1} \\alpha_h, \\ldots, \\sum_{h \\in B_k} \\alpha_h)$$\n",
      "\n",
      "Similarly, for $\\beta_1 + \\beta_2 = 1$,\n",
      "\n",
      "$$\\begin{aligned}\n",
      "\\pi_1, \\ldots, \\pi_k &\\sim \\text{Dirichlet}(\\alpha_1, \\ldots, \\alpha_k) \\\\\n",
      "\\tau_1, \\tau_2 &\\sim \\text{Dirichlet}(\\alpha_1 \\beta_1, \\alpha_1 \\beta_2) \\\\\n",
      "\\Rightarrow \\pi_1\\tau_1 + \\pi_1\\tau_2, \\pi_2, \\ldots, \\pi_k &\\sim \\text{Dirichlet}(\\alpha_1\\beta_1, \\alpha_1\\beta_2, \\alpha_2, \\alpha_3, \\ldots, \\alpha_k)\n",
      "\\end{aligned}$$"
     ]
    },
    {
     "cell_type": "markdown",
     "metadata": {},
     "source": [
      "Just as the Gaussian process is a distribution over functions, a **Dirichlet process** is a distribution over distributions (or, measure over measures). \n",
      "\n",
      "$$P \\sim DP(\\alpha P_0)$$\n",
      "\n",
      "It is centered upon the baseline probability measure $P_0$, with $\\alpha$ specifying the certainty in this baseline (*i.e.* inverse variance).\n",
      "\n",
      "The expectation of a DPP is:\n",
      "\n",
      "$$E[P(B)] = P_0(B)$$\n",
      "\n",
      "in other words, centered on the baseline measure, and the variance is:\n",
      "\n",
      "$$\\text{Var}(P(B)) = \\frac{P_0(B)(1-P_0(B))}{1 + \\alpha}$$\n",
      "\n",
      "It is essentially an *infinitely decimated* Dirichlet distribution. The marginal probability assigned to any subset $B$ is beta distributed:\n",
      "\n",
      "$$P(B) \\sim \\text{Beta}(\\alpha P_0(B), \\alpha (1-P_0(B)))$$"
     ]
    },
    {
     "cell_type": "markdown",
     "metadata": {},
     "source": [
      "## Stick-breaking Process\n",
      "\n",
      "The specification of the DP above is not necessarily intuitive in terms of what a DP realization looks like. A generative approach for allocating observations to groups is the stick-breaking process, which involves breaking the support of a particular variable into $k$ disjoint segments. Here, we start with a \"stick\" of unit length. To \"break\" the stick, we generate random points along the stick via the following algorithm:\n",
      "\n",
      "1. generate a random variable $\\beta_1 \\sim Beta(1, \\alpha_0)$\n",
      "2. use this random variable (which is on the unit interval) to define a break point on the stick\n",
      "3. iterate $k-1$ times:\n",
      "    - generate $\\beta_i \\sim Beta(1, \\alpha_0)$\n",
      "    - identify next break point at $\\pi_i = \\beta_i \\prod_{j=1}^{i-1} (1-\\beta_j)$ (which is on the part of the stick that remains after the previous break)"
     ]
    },
    {
     "cell_type": "markdown",
     "metadata": {},
     "source": [
      "This results in $k$ \"pieces\" being created. Associated with each piece is a probability that is proportional to its length; these $k$ probabilities will have a Dirichlet distribution -- thus, the DP is a distribution over distributions. \n",
      "\n",
      "Notice that $k$ can be infinite, making $G$ an infinite mixture.\n",
      "\n",
      "Implementing a stick-breaking constructive process in Python is straightforward:"
     ]
    },
    {
     "cell_type": "code",
     "collapsed": false,
     "input": [
      "from numpy.random import beta\n",
      "\n",
      "def stick_breaking(alpha, k):\n",
      "    betas = beta(1, alpha, k)\n",
      "    remaining_pieces = np.append(1, np.cumprod(1 - betas[:-1]))\n",
      "    p = betas * remaining_pieces\n",
      "    return p/p.sum()"
     ],
     "language": "python",
     "metadata": {},
     "outputs": [],
     "prompt_number": 6
    },
    {
     "cell_type": "markdown",
     "metadata": {},
     "source": [
      "For example, let's construct a DP with a baseline distribution that is standard normal:\n",
      "\n",
      "$$P_0 = N(0,1)$$\n",
      "\n",
      "We take a draw of $k$ values from the baseline distribution:\n",
      "\n",
      "$$ \\theta_1, \\theta_2, \\ldots \\theta_k \\sim P_0 $$"
     ]
    },
    {
     "cell_type": "code",
     "collapsed": false,
     "input": [
      "k = 25\n",
      "alpha = 7\n",
      "theta = np.random.normal(0, 1, k)"
     ],
     "language": "python",
     "metadata": {},
     "outputs": [],
     "prompt_number": 7
    },
    {
     "cell_type": "markdown",
     "metadata": {},
     "source": [
      "then, using a stick breaking process, we can obtain a set of draws $\\beta_1, \\beta_2, \\ldots$ from a $\\text{Beta}(1,\\alpha)$. These are used to assign probabilities to the $\\theta_i$ values. As we established above, the probability of each $\\theta_i$ is calculated via:\n",
      "\n",
      "$$ \\pi_i = \\beta_i \\prod_{j=1}^{i-1} (1 - \\beta_j) $$"
     ]
    },
    {
     "cell_type": "code",
     "collapsed": false,
     "input": [
      "p = stick_breaking(alpha, k)"
     ],
     "language": "python",
     "metadata": {},
     "outputs": [],
     "prompt_number": 8
    },
    {
     "cell_type": "markdown",
     "metadata": {},
     "source": [
      "These probabilities correspond to the set of draws from the baseline distribution, where each of the latter are point masses of probability. So, the DP density function is:\n",
      "\n",
      "$$ P(x) = \\sum_{i=1}^{n} \\pi_i I(x=\\beta_i) $$\n",
      "\n",
      "where $I$ is the indicator function."
     ]
    },
    {
     "cell_type": "code",
     "collapsed": false,
     "input": [
      "x = np.random.multinomial(k, p)\n",
      "dp = theta[x]\n",
      "dp"
     ],
     "language": "python",
     "metadata": {},
     "outputs": [
      {
       "metadata": {},
       "output_type": "pyout",
       "prompt_number": 9,
       "text": [
        "array([-1.06410135,  1.04413793, -0.70356844, -0.70356844, -0.70356844,\n",
        "       -0.70356844, -0.70356844, -1.82200769,  1.99310041,  1.99310041,\n",
        "       -0.70356844, -0.70356844,  1.99310041, -0.70356844,  1.99310041,\n",
        "       -0.70356844, -0.70356844, -0.70356844, -0.70356844, -0.70356844,\n",
        "       -0.70356844, -0.70356844, -0.70356844, -0.70356844, -0.70356844])"
       ]
      }
     ],
     "prompt_number": 9
    },
    {
     "cell_type": "code",
     "collapsed": false,
     "input": [
      "x = set(dp)\n",
      "f = [(dp==i).sum() for i in x]\n",
      "plt.bar(x, f, width=0.01)"
     ],
     "language": "python",
     "metadata": {},
     "outputs": [
      {
       "metadata": {},
       "output_type": "pyout",
       "prompt_number": 10,
       "text": [
        "<Container object of 5 artists>"
       ]
      },
      {
       "metadata": {},
       "output_type": "display_data",
       "png": "[encoded data removed]",
       "text": [
        "<matplotlib.figure.Figure at 0x10cfadc10>"
       ]
      }
     ],
     "prompt_number": 10
    },
    {
     "cell_type": "markdown",
     "metadata": {},
     "source": [
      "So, you can see that the Dirichlet process is discrete, despite the fact that its values may be non-integer. This can be generalized to a mixture of continuous distributions, which is called a DP mixture."
     ]
    },
    {
     "cell_type": "markdown",
     "metadata": {},
     "source": [
      "Here are several realizations with $k=20$ and $\\alpha=0.5$. So, there are 20 bars (sorted), and the height of the bar represents that group's probability."
     ]
    },
    {
     "cell_type": "code",
     "collapsed": false,
     "input": [
      "k = 20\n",
      "fig, axes = plt.subplots(2, 5, sharex=True, sharey=True, figsize=(10,6))\n",
      "for ax in np.ravel(axes):\n",
      "    ax.bar(arange(k), np.sort(stick_breaking(alpha=0.5, k=k))[::-1])"
     ],
     "language": "python",
     "metadata": {},
     "outputs": [
      {
       "metadata": {},
       "output_type": "display_data",
       "png": "[encoded data removed]",
       "text": [
        "<matplotlib.figure.Figure at 0x10cfaead0>"
       ]
      }
     ],
     "prompt_number": 11
    },
    {
     "cell_type": "markdown",
     "metadata": {},
     "source": [
      "For $\\alpha=5$:"
     ]
    },
    {
     "cell_type": "code",
     "collapsed": false,
     "input": [
      "fig, axes = plt.subplots(2, 5, sharex=True, sharey=True, figsize=(10,6))\n",
      "for ax in np.ravel(axes):\n",
      "    ax.bar(arange(k), np.sort(stick_breaking(alpha=5, k=k))[::-1])\n",
      "    ax.set_ylim(0,1)"
     ],
     "language": "python",
     "metadata": {},
     "outputs": [
      {
       "metadata": {},
       "output_type": "display_data",
       "png": "[encoded data removed]",
       "text": [
        "<matplotlib.figure.Figure at 0x10d074c90>"
       ]
      }
     ],
     "prompt_number": 12
    },
    {
     "cell_type": "markdown",
     "metadata": {},
     "source": [
      "For $\\alpha=25$:"
     ]
    },
    {
     "cell_type": "code",
     "collapsed": false,
     "input": [
      "fig, axes = plt.subplots(2, 5, sharex=True, sharey=True, figsize=(10,6))\n",
      "for ax in np.ravel(axes):\n",
      "    ax.bar(arange(k), np.sort(stick_breaking(alpha=25, k=k))[::-1])\n",
      "    ax.set_ylim(0,1)"
     ],
     "language": "python",
     "metadata": {},
     "outputs": [
      {
       "metadata": {},
       "output_type": "display_data",
       "png": "[encoded data removed]",
       "text": [
        "<matplotlib.figure.Figure at 0x10d05ddd0>"
       ]
      }
     ],
     "prompt_number": 13
    },
    {
     "cell_type": "markdown",
     "metadata": {},
     "source": [
      "We can see that as $\\alpha_0$ increases, the weights (stick sizes) are more even across the samples.\n",
      "\n",
      "We can use the stick-breaking process to induce $P \\sim DP(\\alpha P_0)$ for some $P_0$.\n",
      "\n",
      "$$P(\\cdot) = \\sum_{h=1}^k \\pi_h \\delta_{\\theta_h}(\\cdot)$$\n",
      "\n",
      "Where the $\\pi_h$ are geenrated by stick-breaking, $\\delta_{\\theta}$ is a degenerate distribution with the entire probability mass at $\\theta$, which in turn, are generated by $P_0$; here, we will use a standard normal."
     ]
    },
    {
     "cell_type": "code",
     "collapsed": false,
     "input": [
      "from numpy.random import choice\n",
      "\n",
      "def dirichlet_process(p, n, P0=np.random.randn):\n",
      "    theta = P0(len(p))\n",
      "    return np.random.choice(theta, size=n, p=p)"
     ],
     "language": "python",
     "metadata": {},
     "outputs": [],
     "prompt_number": 14
    },
    {
     "cell_type": "markdown",
     "metadata": {},
     "source": [
      "$\\alpha=1$"
     ]
    },
    {
     "cell_type": "code",
     "collapsed": false,
     "input": [
      "p = stick_breaking(alpha=0.5, k=1000)"
     ],
     "language": "python",
     "metadata": {},
     "outputs": [],
     "prompt_number": 15
    },
    {
     "cell_type": "code",
     "collapsed": false,
     "input": [
      "_ = plt.hist(dirichlet_process(p, 100))"
     ],
     "language": "python",
     "metadata": {},
     "outputs": [
      {
       "metadata": {},
       "output_type": "display_data",
       "png": "[encoded data removed]",
       "text": [
        "<matplotlib.figure.Figure at 0x10d4caa10>"
       ]
      }
     ],
     "prompt_number": 16
    },
    {
     "cell_type": "markdown",
     "metadata": {},
     "source": [
      "$\\alpha=5$"
     ]
    },
    {
     "cell_type": "code",
     "collapsed": false,
     "input": [
      "p = stick_breaking(alpha=5, k=1000)\n",
      "_ = plt.hist(dirichlet_process(p, 100))"
     ],
     "language": "python",
     "metadata": {},
     "outputs": [
      {
       "metadata": {},
       "output_type": "display_data",
       "png": "[encoded data removed]",
       "text": [
        "<matplotlib.figure.Figure at 0x10d729810>"
       ]
      }
     ],
     "prompt_number": 17
    },
    {
     "cell_type": "markdown",
     "metadata": {},
     "source": [
      "$\\alpha=25$"
     ]
    },
    {
     "cell_type": "code",
     "collapsed": false,
     "input": [
      "p = stick_breaking(alpha=25, k=10000)\n",
      "_ = plt.hist(dirichlet_process(p, 1000))"
     ],
     "language": "python",
     "metadata": {},
     "outputs": [
      {
       "metadata": {},
       "output_type": "display_data",
       "png": "[encoded data removed]",
       "text": [
        "<matplotlib.figure.Figure at 0x10d6fd650>"
       ]
      }
     ],
     "prompt_number": 18
    },
    {
     "cell_type": "markdown",
     "metadata": {},
     "source": [
      "Notice that, while the particular values of the DP realizations are continuous, the distribution is discrete. But, as $\\alpha \\rightarrow \\infty$, the likelihood of indexing the same $\\theta_h$ more than once goes to zero, and one is essentially drawing from $P_0$."
     ]
    },
    {
     "cell_type": "code",
     "collapsed": false,
     "input": [
      "p = stick_breaking(alpha=1000, k=10000)\n",
      "_ = plt.hist(dirichlet_process(p, 1000))"
     ],
     "language": "python",
     "metadata": {},
     "outputs": [
      {
       "metadata": {},
       "output_type": "display_data",
       "png": "[encoded data removed]",
       "text": [
        "<matplotlib.figure.Figure at 0x10d7323d0>"
       ]
      }
     ],
     "prompt_number": 19
    },
    {
     "cell_type": "markdown",
     "metadata": {},
     "source": [
      "So, while the DP is of limited use as a direct prior of a data distribution, it is extremely useful as a prior for an unknown mixture.\n",
      "\n",
      "If we generalize the above approach such that the DP is used as the mixture measure for some kernel $\\mathcal{K}(y|\\theta)$, then we can define the mixture model:\n",
      "\n",
      "$$f(y) = \\sum_{h=1}^{\\infty} \\pi_h \\mathcal{K}(y|\\theta_h)$$\n",
      "\n",
      "This is no different than other mixture models we have seen, except that the number of components is infinite. In practice, almost all the components are empty when we consider using it to model a finite dataset, but the model has the capacity to increase the number of mixture components as data are added.\n",
      "\n",
      "This model can be specified hierarchically by:\n",
      "\n",
      "$$\\begin{aligned}\n",
      "P &\\sim DP(\\alpha P_0) \\\\\n",
      "\\theta_i &\\sim P \\\\\n",
      "y_i &\\sim \\mathcal{K}(y|\\theta_i)\n",
      "\\end{aligned}$$\n",
      "\n",
      "The computational hurdle is in how to characterize the mixture when we cannot generate infinite mixture components. For this, we will use another generative model metaphor, the *Chinese restaurant process*."
     ]
    },
    {
     "cell_type": "markdown",
     "metadata": {},
     "source": [
      "## Chinese Restaurant Process\n",
      "\n",
      "Consider a hypothetical Chinese restaurant with an *infinite* number of tables. \n",
      "\n",
      "![chinese restaurant](http://farm3.staticflickr.com/2153/2239018463_5f3e302c17_z.jpg)\n",
      "\n",
      "* The first customer entering the restaurant sits at the first empty table.\n",
      "\n",
      "* The next customer either joins the first customer with some probability $1/(1 + \\alpha), \\alpha>0$, or selects an empty table with probability $\\alpha/(1 + \\alpha)$.\n",
      "\n",
      "* Subsequent customers either join an occupied table with a probability proportional to the number of customers already at each table, or selects an empty table.\n",
      "\n",
      "This process is formalized as:\n",
      "\n",
      "$$p(\\theta_i | \\theta_1, \\ldots, \\theta_{i-1}) \\sim \\left(\\frac{\\alpha}{\\alpha + 1 - 1}\\right) P_0(\\theta_i) + \\sum_{j=1}^{i-1} \\left(\\frac{1}{\\alpha + i - 1}\\right)\\delta_{\\theta_j}$$\n",
      "\n",
      "This is called the *P\u00f3lya urn model*.\n",
      "\n",
      "Of course, the analogy here is that the customers are data and the tables are clusters. Hence, the process describes a prior on the partitioning of the data into clusters."
     ]
    },
    {
     "cell_type": "code",
     "collapsed": false,
     "input": [
      "def chinese_restaurant_process(n, alpha):\n",
      "    \n",
      "    if n < 1:\n",
      "        return None\n",
      "    \n",
      "    table_assignments = np.empty(n)\n",
      "    next_table = 0\n",
      "    \n",
      "    for c in range(n):\n",
      "\n",
      "        if np.random.random() < (1. * alpha / (alpha + c)):\n",
      "            \n",
      "            # Sit at new table\n",
      "            table_assignments[c] = next_table\n",
      "            next_table += 1\n",
      "            \n",
      "        else:\n",
      "            \n",
      "            # Calculate selection probabilities as function of population\n",
      "            probs = [(table_assignments[:c]==i).sum()/float(c) \n",
      "                     for i in range(next_table)]\n",
      "            # Randomly assign to existing table\n",
      "            table_assignments[c] = choice(range(next_table), p=probs)\n",
      "        \n",
      "    return table_assignments"
     ],
     "language": "python",
     "metadata": {},
     "outputs": [],
     "prompt_number": 20
    },
    {
     "cell_type": "markdown",
     "metadata": {},
     "source": [
      "Let's try a few runs. First, with 10 customers:"
     ]
    },
    {
     "cell_type": "code",
     "collapsed": false,
     "input": [
      "n = 10\n",
      "alpha = 1\n",
      "\n",
      "def plot_crp(table_nums, ax=None):\n",
      "    x = range(int(table_nums.max()) + 1)\n",
      "    f = [(table_nums==i).sum() for i in set(table_nums)]\n",
      "    if ax is None: ax = plt\n",
      "    ax.bar(x, f)\n",
      "    \n",
      "fig, axes = plt.subplots(2, 5, sharex=True, sharey=True, figsize=(10,6))\n",
      "for ax in np.ravel(axes):\n",
      "    plot_crp(chinese_restaurant_process(n, alpha), ax=ax)"
     ],
     "language": "python",
     "metadata": {},
     "outputs": [
      {
       "metadata": {},
       "output_type": "display_data",
       "png": "[encoded data removed]",
       "text": [
        "<matplotlib.figure.Figure at 0x10d71d790>"
       ]
      }
     ],
     "prompt_number": 21
    },
    {
     "cell_type": "markdown",
     "metadata": {},
     "source": [
      "Then 100:"
     ]
    },
    {
     "cell_type": "code",
     "collapsed": false,
     "input": [
      "n = 100\n",
      "\n",
      "fig, axes = plt.subplots(2, 5, sharex=True, sharey=True, figsize=(10,6))\n",
      "for ax in np.ravel(axes):\n",
      "    plot_crp(chinese_restaurant_process(n, alpha), ax=ax)"
     ],
     "language": "python",
     "metadata": {},
     "outputs": [
      {
       "metadata": {},
       "output_type": "display_data",
       "png": "[encoded data removed]",
       "text": [
        "<matplotlib.figure.Figure at 0x10d59da50>"
       ]
      }
     ],
     "prompt_number": 22
    },
    {
     "cell_type": "markdown",
     "metadata": {},
     "source": [
      "And 500:"
     ]
    },
    {
     "cell_type": "code",
     "collapsed": false,
     "input": [
      "n = 500\n",
      "\n",
      "fig, axes = plt.subplots(2, 5, sharex=True, sharey=True, figsize=(10,6))\n",
      "for ax in np.ravel(axes):\n",
      "    plot_crp(chinese_restaurant_process(n, alpha), ax=ax)"
     ],
     "language": "python",
     "metadata": {},
     "outputs": [
      {
       "metadata": {},
       "output_type": "display_data",
       "png": "[encoded data removed]",
       "text": [
        "<matplotlib.figure.Figure at 0x10cfc8350>"
       ]
      }
     ],
     "prompt_number": 23
    },
    {
     "cell_type": "markdown",
     "metadata": {},
     "source": [
      "Notice that the number of occupied tables increases with $n$ (and with $\\alpha$). Hence, in the context of a prior on the number of clusters, the process is non-parametric (grows approximately as $\\mathcal{O}(\\log(n)$))."
     ]
    },
    {
     "cell_type": "markdown",
     "metadata": {},
     "source": [
      "If we examine the sample draws from either the Chinese restaurant process or the stick-breaking process above, it is apparent that each sample represents a realization from the same underlying process (when the parameter values are the same). We can use either of these generative processes to generate weights for the DP.\n",
      "\n",
      "Alternately, we could use a CRP to generate groups (tables), where each element from the same group would be assigned the same value sampled from $P_0$."
     ]
    },
    {
     "cell_type": "markdown",
     "metadata": {},
     "source": [
      "## Non-parametric Residuals in Hierarchical Models\n",
      "\n",
      "A standard parametric assumption in linear and hierarchical modeling is that errors or random effects are Gaussian. For example,\n",
      "\n",
      "$$y_i = X_i \\beta + \\epsilon_i$$\n",
      "\n",
      "$$\\epsilon_i \\sim f$$\n",
      "\n",
      "where the error distribution is typically specified as $f = N(0,\\sigma^2)$. In robust regression, this restriction is partially relaxed by assuming a Student's $t$ model, which downweights the influence of outliers, but the shape is still restrictive.\n",
      "\n",
      "A more flexible alternative is to use an infinite mixture of normals for $f$, using a Dirichlet process:\n",
      "\n",
      "$$\\begin{aligned}\n",
      "P &\\sim DP(\\alpha P_0) \\\\\n",
      "\\tau_i &\\sim P \\\\\n",
      "\\epsilon_i &\\sim N(0, \\tau_i^{-1})\n",
      "\\end{aligned}$$\n",
      "\n",
      "If we specify $P_0$ as $\\text{Gamma}(\\nu/2, \\nu/2)$, the corresponding DP is centered on a $t$ distribution, which still models the error distribution as unimodal and zero mean. This too can be relaxed by modeling $f$ as a mixture of Gaussians:\n",
      "\n",
      "$$\\begin{aligned}\n",
      "\\tau &\\sim \\text{Gamma}(a, b) \\\\\n",
      "P_0 &= N(0, \\tau^{-1}) \\\\\n",
      "P &\\sim DP(\\alpha P_0) \\\\\n",
      "\\mu_i &\\sim P \\\\\n",
      "\\epsilon_i &\\sim N(\\mu_i, \\tau^{-1})\n",
      "\\end{aligned}$$\n",
      "\n",
      "In the context of hierarchical models, we may want to model individual variation in some parameter, such as a subject-varying mean:\n",
      "\n",
      "$$\\begin{aligned}y_{ij} &= \\mu_i + \\epsilon_{ij} \\\\\n",
      "\\mu_i &\\sim f \\\\\n",
      "\\epsilon_{ij} &\\sim g\n",
      "\\end{aligned}$$\n",
      "\n",
      "where $y_{i}$ is a vector of $j = 1,\\ldots,n_i$ repreated measurements for individual $i$. In the majority of applications, both $f$ and $g$ are specified with normal distributions.\n",
      "\n",
      "If we want a less-restrictive form for this random effect, we can place a DP prior on the $\\mu_{i}$.\n",
      "\n",
      "$$\\mu_i \\sim P$$\n",
      "\n",
      "$$P \\sim DP(\\alpha P_0)$$\n",
      "\n",
      "This approach induces a latent class model on the $\\mu_i$, where there are an unknown number of clusters:\n",
      "\n",
      "$$\\mu_i = \\mu_{S_i}$$\n",
      "\n",
      "$$Pr(S_i = h) = \\pi_h$$\n",
      "\n",
      "where $\\pi_h$ is the probability of allocation to class $h = 1, \\ldots, \\infty$. This will result in a posterior distribution of cluster allocations (and hence, for the $\\mu_i$), since the clustering is probabilistic.\n",
      "\n",
      "Since we do not observed the $\\mu_i$ directly, it relies on information in the repeated measurements for each individual, so this model will not be useful for $n_i$ = 1."
     ]
    },
    {
     "cell_type": "markdown",
     "metadata": {},
     "source": [
      "## Example: Estimating household radon levels\n",
      "\n",
      "As an example of implementing Dirichlet processes for random effects, I'm going to use the radon measurement and remediation example from [Gelman and Hill (2006)](http://amzn.to/gFfJbs). This problem uses measurements of [radon](http://en.wikipedia.org/wiki/Radon) (a carcinogenic, radioactive gas) from households in 85 counties in Minnesota to estimate the distribution of the substance across the state. This dataset has a natural hierarchical structure, with individual measurements nested within households, and households in turn nested within counties. Here, we are certainly interested in modeling the variation in counties, but do not have covariates measured at that level. Since we are more interested in the variation among counties, rather than the particular levels for each, a random effects model is appropriate. \n",
      "\n",
      "In the original example from Gelman and Hill, measurements are modeled as being normally distributed, with a mean that is a hierarchical function of both a county-level random effect and a fixed effect that accounted for whether houses had a basement (this is thought to increase radon levels).\n",
      "\n",
      "$$ y_i \\sim N(\\alpha_{j[i]} + \\beta x_i, \\sigma_y^2) $$\n",
      "\t\n",
      "So, in essence, each county has its own slope, but shares a slope among all counties. This can easily be generalized to both random slopes and intercepts, but I'm going to keep things simple, in order to focus in implementing a single random effect.\n",
      "\n",
      "The constraint that is applied to the intercepts in Gelman and Hill's original model is that they have a common distribution (Gaussian) that describes how they vary from the state-wide mean.\n",
      "\n",
      "$$ \\alpha_j \\sim N(\\mu_{\\alpha}, \\sigma_{\\alpha}^2) $$\n",
      "\t\n",
      "This comprises a so-called \"partial pooling\" model, whereby counties are neither constrained to have identical means (full pooling) nor are assumed to have completely independent means (no pooling); in most applications, the truth is somewhere between these two extremes. Though this is a very flexible approach to accounting for county-level variance, one might be worried about imposing such a restrictive (thin-tailed) distribution like the normal on this variance. If there are counties that have extremely low or high levels (for whatever reason), this model will fit poorly. To allay such worries, we can hedge our bets by selecting a more forgiving functional form, such as [Student's t](http://en.wikipedia.org/wiki/Student's_t-distribution) or [Cauchy](http://en.wikipedia.org/wiki/Cauchy_distribution), but these still impose parametric restrictions (*e.g.* symmetry about the mean) that we may be uncomfortable making. So, in the interest of even greater flexibility, we will replace the normal county random effect with a non-parametric alternative, using a Dirichlet process.\n",
      "\n",
      "First, let's import the data:"
     ]
    },
    {
     "cell_type": "code",
     "collapsed": false,
     "input": [
      "import pandas as pd\n",
      "\n",
      "# Import radon data\n",
      "srrs2 = pd.read_csv('../data/srrs2.dat')\n",
      "srrs2.columns = srrs2.columns.map(str.strip)\n",
      "srrs_mn = srrs2[srrs2.state=='MN']\n",
      "\n",
      "counties = srrs_mn.county.values\n",
      "y = srrs_mn.activity.values\n",
      "x = srrs_mn.floor.values\n",
      "\n",
      "## gelman adjustment for log\n",
      "y[y==0]=.1\n",
      "y = np.log(y)\n",
      "\n",
      "## groupings\n",
      "def createCountyIndex(counties):\n",
      "    counties_uniq = sorted(set(counties))\n",
      "    counties_dict = dict()\n",
      "    for i, v in enumerate(counties_uniq):\n",
      "        counties_dict[v] = i\n",
      "    ans = np.empty(len(counties),dtype='int')\n",
      "    for i in range(0,len(counties)):\n",
      "        ans[i] = counties_dict[counties[i]]\n",
      "    return ans\n",
      "\n",
      "index_c = createCountyIndex(counties)"
     ],
     "language": "python",
     "metadata": {},
     "outputs": [],
     "prompt_number": 24
    },
    {
     "cell_type": "markdown",
     "metadata": {},
     "source": [
      "One of the difficulties in implementing DP computationally is how to handle an infinite mixture. The easiest way to tackle this is by using a truncated Dirichlet process to approximate the full process. This can be done by choosing a size $k$ that is sufficiently large that it will exceed the number of point masses required. By doing this, we are assuming\n",
      "\n",
      "$$ \\sum_{i=1}^{\\infty} p_i I(x=\\theta_i) \\approx \\sum_{i=1}^{N} p_i I(x=\\theta_i) $$\n",
      "\n",
      "[Ohlssen et al. 2007](http://onlinelibrary.wiley.com/doi/10.1002/sim.2666/abstract) provide a rule of thumb for choosing $N$ such that the sum of the first $k-1$ point masses is greater than 0.99:\n",
      "\n",
      "$$ k \\approx 5\\alpha + 2 $$\n",
      "\n",
      "To be conservative, we will choose an even larger value (100), which we will call `N_dp`."
     ]
    },
    {
     "cell_type": "code",
     "collapsed": false,
     "input": [
      "N_dp = 100"
     ],
     "language": "python",
     "metadata": {},
     "outputs": [],
     "prompt_number": 25
    },
    {
     "cell_type": "markdown",
     "metadata": {},
     "source": [
      "We first must specify the baseline distribution and the concentration parameter. As we have no prior information to inform a choice for $\\alpha$, we will specify a uniform prior for it, with reasonable bounds:"
     ]
    },
    {
     "cell_type": "code",
     "collapsed": false,
     "input": [
      "import pymc as pm\n",
      "\n",
      "alpha = pm.Uniform('alpha', lower=0.5, upper=10)"
     ],
     "language": "python",
     "metadata": {},
     "outputs": [],
     "prompt_number": 26
    },
    {
     "cell_type": "markdown",
     "metadata": {},
     "source": [
      "Though the upper bound may seem small for a prior that purports to be uninformative, recall that for large values of $\\alpha$, the DP will converge to the baseline distribution, suggesting that a continuous distribution would be more appropriate.\n",
      "\n",
      "Since we are extending a normal random effects model, I will choose a Student's $t$ baseline distribution, with vague hyperpriors:"
     ]
    },
    {
     "cell_type": "code",
     "collapsed": false,
     "input": [
      "nu = len(set(counties)) - 1\n",
      "tau_0 = pm.Gamma('tau_0', nu/2., nu/2., size=N_dp)\n",
      "mu_0 = pm.Normal('mu_0', mu=0, tau=0.01, value=0)\n",
      "\n",
      "theta = pm.Normal('theta', mu=mu_0, tau=tau_0)"
     ],
     "language": "python",
     "metadata": {},
     "outputs": [],
     "prompt_number": 27
    },
    {
     "cell_type": "markdown",
     "metadata": {},
     "source": [
      "Notice that I have specified a uniform prior on the standard deviation, rather than the more common [gamma](http://en.wikipedia.org/wiki/Gamma_distribution)-distributed precision; for hierarchical models this is [good practice](http://ba.stat.cmu.edu/journal/2006/vol01/issue03/gelman.pdf). So, now we that we have `N_dp` point masses, all that remains is to generate corresponding probabilities. Following the recipe above:"
     ]
    },
    {
     "cell_type": "code",
     "collapsed": false,
     "input": [
      "v = pm.Beta('v', alpha=1, beta=alpha, size=N_dp)\n",
      "\n",
      "@pm.deterministic\n",
      "def p(v=v):\n",
      "    \"\"\" Calculate Dirichlet probabilities \"\"\"\n",
      "\n",
      "    # Probabilities from betas\n",
      "    value = [u*np.prod(1-v[:i]) for i,u in enumerate(v)]\n",
      "    # Enforce sum to unity constraint\n",
      "    value /= np.sum(value)\n",
      "\n",
      "    return value\n",
      "\n",
      "# Expected value of random effect\n",
      "E_dp = pm.Lambda('E_dp', lambda p=p, theta=theta: np.dot(p, theta))"
     ],
     "language": "python",
     "metadata": {},
     "outputs": [],
     "prompt_number": 28
    },
    {
     "cell_type": "markdown",
     "metadata": {},
     "source": [
      "This is where you really appreciate Python's [list comprehension](http://docs.python.org/tutorial/datastructures.html#list-comprehensions) idiom. In fact, were it not for the fact that we wanted to ensure that the array of probabilities sums to one, `p` could have been specified in a single line.\n",
      "\n",
      "The final step involves using the Dirichlet probabilities to generate indices to the appropriate point masses. This is realized using a categorical mass function:"
     ]
    },
    {
     "cell_type": "code",
     "collapsed": false,
     "input": [
      "z = pm.Categorical('z', p, size=len(set(counties)))"
     ],
     "language": "python",
     "metadata": {},
     "outputs": [],
     "prompt_number": 29
    },
    {
     "cell_type": "markdown",
     "metadata": {},
     "source": [
      "These indices, in turn, are used to index the random effects, which are used as random intercepts for the model."
     ]
    },
    {
     "cell_type": "code",
     "collapsed": false,
     "input": [
      "# Index random effect\n",
      "a = pm.Lambda('a', lambda z=z, theta=theta: theta[z])\n",
      "\n",
      "b = pm.Normal('b', mu=0., tau=0.0001)\n",
      "\n",
      "y_hat = pm.Lambda('y_hat', lambda a=a, b=b: a[index_c] + b*x)"
     ],
     "language": "python",
     "metadata": {},
     "outputs": [],
     "prompt_number": 30
    },
    {
     "cell_type": "code",
     "collapsed": false,
     "input": [
      "sigma_y = pm.Uniform('sigma_y', lower=0, upper=100)\n",
      "tau_y = sigma_y**-2\n",
      "\n",
      "y_like = pm.Normal('y_like', mu=y_hat, tau=tau_y, value=y, observed=True)"
     ],
     "language": "python",
     "metadata": {},
     "outputs": [],
     "prompt_number": 31
    },
    {
     "cell_type": "code",
     "collapsed": false,
     "input": [
      "M = pm.MCMC([a, b, sigma_y, y_like, z, v, mu_0, tau_0, theta, alpha, E_dp])"
     ],
     "language": "python",
     "metadata": {},
     "outputs": [],
     "prompt_number": 32
    },
    {
     "cell_type": "code",
     "collapsed": false,
     "input": [
      "M.sample(20000, 10000)"
     ],
     "language": "python",
     "metadata": {},
     "outputs": [
      {
       "output_type": "stream",
       "stream": "stdout",
       "text": [
        "\r",
        " [-                 2%                  ] 598 of 20000 complete in 0.5 sec"
       ]
      },
      {
       "output_type": "stream",
       "stream": "stdout",
       "text": [
        "\r",
        " [--                5%                  ] 1091 of 20000 complete in 1.0 sec"
       ]
      },
      {
       "output_type": "stream",
       "stream": "stdout",
       "text": [
        "\r",
        " [--                7%                  ] 1529 of 20000 complete in 1.5 sec"
       ]
      },
      {
       "output_type": "stream",
       "stream": "stdout",
       "text": [
        "\r",
        " [---              10%                  ] 2090 of 20000 complete in 2.0 sec"
       ]
      },
      {
       "output_type": "stream",
       "stream": "stdout",
       "text": [
        "\r",
        " [----             12%                  ] 2554 of 20000 complete in 2.5 sec"
       ]
      },
      {
       "output_type": "stream",
       "stream": "stdout",
       "text": [
        "\r",
        " [-----            15%                  ] 3014 of 20000 complete in 3.0 sec"
       ]
      },
      {
       "output_type": "stream",
       "stream": "stdout",
       "text": [
        "\r",
        " [------           16%                  ] 3340 of 20000 complete in 3.5 sec"
       ]
      },
      {
       "output_type": "stream",
       "stream": "stdout",
       "text": [
        "\r",
        " [-------          18%                  ] 3759 of 20000 complete in 4.0 sec"
       ]
      },
      {
       "output_type": "stream",
       "stream": "stdout",
       "text": [
        "\r",
        " [-------          20%                  ] 4069 of 20000 complete in 4.5 sec"
       ]
      },
      {
       "output_type": "stream",
       "stream": "stdout",
       "text": [
        "\r",
        " [--------         22%                  ] 4439 of 20000 complete in 5.0 sec"
       ]
      },
      {
       "output_type": "stream",
       "stream": "stdout",
       "text": [
        "\r",
        " [---------        23%                  ] 4792 of 20000 complete in 5.5 sec"
       ]
      },
      {
       "output_type": "stream",
       "stream": "stdout",
       "text": [
        "\r",
        " [---------        26%                  ] 5218 of 20000 complete in 6.0 sec"
       ]
      },
      {
       "output_type": "stream",
       "stream": "stdout",
       "text": [
        "\r",
        " [----------       28%                  ] 5634 of 20000 complete in 6.5 sec"
       ]
      },
      {
       "output_type": "stream",
       "stream": "stdout",
       "text": [
        "\r",
        " [-----------      30%                  ] 6035 of 20000 complete in 7.0 sec"
       ]
      },
      {
       "output_type": "stream",
       "stream": "stdout",
       "text": [
        "\r",
        " [------------     31%                  ] 6338 of 20000 complete in 7.5 sec"
       ]
      },
      {
       "output_type": "stream",
       "stream": "stdout",
       "text": [
        "\r",
        " [------------     33%                  ] 6649 of 20000 complete in 8.0 sec"
       ]
      },
      {
       "output_type": "stream",
       "stream": "stdout",
       "text": [
        "\r",
        " [-------------    34%                  ] 6978 of 20000 complete in 8.5 sec"
       ]
      },
      {
       "output_type": "stream",
       "stream": "stdout",
       "text": [
        "\r",
        " [--------------   36%                  ] 7398 of 20000 complete in 9.0 sec"
       ]
      },
      {
       "output_type": "stream",
       "stream": "stdout",
       "text": [
        "\r",
        " [--------------   39%                  ] 7810 of 20000 complete in 9.5 sec"
       ]
      },
      {
       "output_type": "stream",
       "stream": "stdout",
       "text": [
        "\r",
        " [---------------  40%                  ] 8156 of 20000 complete in 10.0 sec"
       ]
      },
      {
       "output_type": "stream",
       "stream": "stdout",
       "text": [
        "\r",
        " [---------------- 42%                  ] 8553 of 20000 complete in 10.5 sec"
       ]
      },
      {
       "output_type": "stream",
       "stream": "stdout",
       "text": [
        "\r",
        " [-----------------45%                  ] 9005 of 20000 complete in 11.0 sec"
       ]
      },
      {
       "output_type": "stream",
       "stream": "stdout",
       "text": [
        "\r",
        " [-----------------47%                  ] 9430 of 20000 complete in 11.5 sec"
       ]
      },
      {
       "output_type": "stream",
       "stream": "stdout",
       "text": [
        "\r",
        " [-----------------48%                  ] 9761 of 20000 complete in 12.0 sec"
       ]
      },
      {
       "output_type": "stream",
       "stream": "stdout",
       "text": [
        "\r",
        " [-----------------50%                  ] 10101 of 20000 complete in 12.5 sec"
       ]
      },
      {
       "output_type": "stream",
       "stream": "stdout",
       "text": [
        "\r",
        " [-----------------51%                  ] 10347 of 20000 complete in 13.0 sec"
       ]
      },
      {
       "output_type": "stream",
       "stream": "stdout",
       "text": [
        "\r",
        " [-----------------53%                  ] 10649 of 20000 complete in 13.5 sec"
       ]
      },
      {
       "output_type": "stream",
       "stream": "stdout",
       "text": [
        "\r",
        " [-----------------54%                  ] 10924 of 20000 complete in 14.0 sec"
       ]
      },
      {
       "output_type": "stream",
       "stream": "stdout",
       "text": [
        "\r",
        " [-----------------55%-                 ] 11179 of 20000 complete in 14.5 sec"
       ]
      },
      {
       "output_type": "stream",
       "stream": "stdout",
       "text": [
        "\r",
        " [-----------------57%-                 ] 11460 of 20000 complete in 15.0 sec"
       ]
      },
      {
       "output_type": "stream",
       "stream": "stdout",
       "text": [
        "\r",
        " [-----------------58%--                ] 11743 of 20000 complete in 15.5 sec"
       ]
      },
      {
       "output_type": "stream",
       "stream": "stdout",
       "text": [
        "\r",
        " [-----------------60%--                ] 12058 of 20000 complete in 16.0 sec"
       ]
      },
      {
       "output_type": "stream",
       "stream": "stdout",
       "text": [
        "\r",
        " [-----------------62%---               ] 12411 of 20000 complete in 16.5 sec"
       ]
      },
      {
       "output_type": "stream",
       "stream": "stdout",
       "text": [
        "\r",
        " [-----------------64%----              ] 12801 of 20000 complete in 17.0 sec"
       ]
      },
      {
       "output_type": "stream",
       "stream": "stdout",
       "text": [
        "\r",
        " [-----------------65%-----             ] 13161 of 20000 complete in 17.5 sec"
       ]
      },
      {
       "output_type": "stream",
       "stream": "stdout",
       "text": [
        "\r",
        " [-----------------67%-----             ] 13433 of 20000 complete in 18.0 sec"
       ]
      },
      {
       "output_type": "stream",
       "stream": "stdout",
       "text": [
        "\r",
        " [-----------------68%------            ] 13695 of 20000 complete in 18.5 sec"
       ]
      },
      {
       "output_type": "stream",
       "stream": "stdout",
       "text": [
        "\r",
        " [-----------------69%------            ] 13964 of 20000 complete in 19.0 sec"
       ]
      },
      {
       "output_type": "stream",
       "stream": "stdout",
       "text": [
        "\r",
        " [-----------------71%-------           ] 14276 of 20000 complete in 19.5 sec"
       ]
      },
      {
       "output_type": "stream",
       "stream": "stdout",
       "text": [
        "\r",
        " [-----------------73%-------           ] 14611 of 20000 complete in 20.0 sec"
       ]
      },
      {
       "output_type": "stream",
       "stream": "stdout",
       "text": [
        "\r",
        " [-----------------74%--------          ] 14919 of 20000 complete in 20.5 sec"
       ]
      },
      {
       "output_type": "stream",
       "stream": "stdout",
       "text": [
        "\r",
        " [-----------------76%--------          ] 15242 of 20000 complete in 21.0 sec"
       ]
      },
      {
       "output_type": "stream",
       "stream": "stdout",
       "text": [
        "\r",
        " [-----------------77%---------         ] 15527 of 20000 complete in 21.5 sec"
       ]
      },
      {
       "output_type": "stream",
       "stream": "stdout",
       "text": [
        "\r",
        " [-----------------79%----------        ] 15822 of 20000 complete in 22.0 sec"
       ]
      },
      {
       "output_type": "stream",
       "stream": "stdout",
       "text": [
        "\r",
        " [-----------------80%----------        ] 16124 of 20000 complete in 22.5 sec"
       ]
      },
      {
       "output_type": "stream",
       "stream": "stdout",
       "text": [
        "\r",
        " [-----------------82%-----------       ] 16424 of 20000 complete in 23.0 sec"
       ]
      },
      {
       "output_type": "stream",
       "stream": "stdout",
       "text": [
        "\r",
        " [-----------------83%-----------       ] 16793 of 20000 complete in 23.5 sec"
       ]
      },
      {
       "output_type": "stream",
       "stream": "stdout",
       "text": [
        "\r",
        " [-----------------85%------------      ] 17089 of 20000 complete in 24.0 sec"
       ]
      },
      {
       "output_type": "stream",
       "stream": "stdout",
       "text": [
        "\r",
        " [-----------------87%-------------     ] 17411 of 20000 complete in 24.5 sec"
       ]
      },
      {
       "output_type": "stream",
       "stream": "stdout",
       "text": [
        "\r",
        " [-----------------88%-------------     ] 17684 of 20000 complete in 25.0 sec"
       ]
      },
      {
       "output_type": "stream",
       "stream": "stdout",
       "text": [
        "\r",
        " [-----------------90%--------------    ] 18001 of 20000 complete in 25.5 sec"
       ]
      },
      {
       "output_type": "stream",
       "stream": "stdout",
       "text": [
        "\r",
        " [-----------------91%--------------    ] 18291 of 20000 complete in 26.0 sec"
       ]
      },
      {
       "output_type": "stream",
       "stream": "stdout",
       "text": [
        "\r",
        " [-----------------92%---------------   ] 18562 of 20000 complete in 26.5 sec"
       ]
      },
      {
       "output_type": "stream",
       "stream": "stdout",
       "text": [
        "\r",
        " [-----------------94%---------------   ] 18807 of 20000 complete in 27.0 sec"
       ]
      },
      {
       "output_type": "stream",
       "stream": "stdout",
       "text": [
        "\r",
        " [-----------------95%----------------  ] 19025 of 20000 complete in 27.6 sec"
       ]
      },
      {
       "output_type": "stream",
       "stream": "stdout",
       "text": [
        "\r",
        " [-----------------96%----------------  ] 19334 of 20000 complete in 28.1 sec"
       ]
      },
      {
       "output_type": "stream",
       "stream": "stdout",
       "text": [
        "\r",
        " [-----------------98%----------------- ] 19671 of 20000 complete in 28.6 sec"
       ]
      },
      {
       "output_type": "stream",
       "stream": "stdout",
       "text": [
        "\r",
        " [-----------------99%----------------- ] 19932 of 20000 complete in 29.1 sec"
       ]
      },
      {
       "output_type": "stream",
       "stream": "stdout",
       "text": [
        "\r",
        " [-----------------100%-----------------] 20000 of 20000 complete in 29.2 sec"
       ]
      }
     ],
     "prompt_number": 33
    },
    {
     "cell_type": "markdown",
     "metadata": {},
     "source": [
      "Substitution of the above code into Gelman and Hill's original model produces reasonable results. The expected value of $\\\\alpha$ is approximately 1.35, as shown by the posterior output below:"
     ]
    },
    {
     "cell_type": "code",
     "collapsed": false,
     "input": [
      "pm.Matplot.plot(E_dp)"
     ],
     "language": "python",
     "metadata": {},
     "outputs": [
      {
       "output_type": "stream",
       "stream": "stdout",
       "text": [
        "Plotting E_dp\n"
       ]
      },
      {
       "metadata": {},
       "output_type": "display_data",
       "png": "[encoded data removed]",
       "text": [
        "<matplotlib.figure.Figure at 0x10d1ad1d0>"
       ]
      }
     ],
     "prompt_number": 34
    },
    {
     "cell_type": "markdown",
     "metadata": {},
     "source": [
      "Here is a random sample taken from the DP:\n"
     ]
    },
    {
     "cell_type": "code",
     "collapsed": false,
     "input": [
      "plt.hist(a.trace()[105])"
     ],
     "language": "python",
     "metadata": {},
     "outputs": [
      {
       "metadata": {},
       "output_type": "pyout",
       "prompt_number": 35,
       "text": [
        "(array([  1.,   1.,   2.,   2.,  16.,  19.,  25.,   8.,   0.,  11.]),\n",
        " array([ 0.1056205 ,  0.32071154,  0.53580258,  0.75089362,  0.96598466,\n",
        "         1.1810757 ,  1.39616674,  1.61125778,  1.82634883,  2.04143987,\n",
        "         2.25653091]),\n",
        " <a list of 10 Patch objects>)"
       ]
      },
      {
       "metadata": {},
       "output_type": "display_data",
       "png": "[encoded data removed]",
       "text": [
        "<matplotlib.figure.Figure at 0x10d221950>"
       ]
      }
     ],
     "prompt_number": 35
    },
    {
     "cell_type": "markdown",
     "metadata": {},
     "source": [
      "But is the model better? We can compare this model to a convnetional normal random effect."
     ]
    },
    {
     "cell_type": "code",
     "collapsed": false,
     "input": [
      "def radon_normal():\n",
      "    \n",
      "    # Hyperpriors\n",
      "    mu_0 = pm.Normal('mu_0', mu=0, tau=0.01, value=0)\n",
      "    sig_0 = pm.Uniform('sig_0', lower=0, upper=100, value=1)\n",
      "    tau_0 = sig_0 ** -2\n",
      "    \n",
      "    # Original random effect on intercept\n",
      "    a = pm.Normal('a', mu=mu_0, tau=tau_0, value=np.zeros(len(set(counties))))\n",
      "    \n",
      "    b = pm.Normal('b', mu=0., tau=0.0001)\n",
      "    \n",
      "    sigma_y = pm.Uniform('sigma_y', lower=0, upper=100)\n",
      "    tau_y = pm.Lambda('tau_y', lambda s=sigma_y: s**-2)\n",
      "    \n",
      "    # Model\n",
      "    @pm.deterministic\n",
      "    def y_hat(a=a,b=b):\n",
      "           return a[index_c] + b*x\n",
      "    \n",
      "    # Likelihood\n",
      "    y_like = pm.Normal('y_like', mu=y_hat, tau=tau_y, value=y, observed=True)\n",
      "\n",
      "    return locals()"
     ],
     "language": "python",
     "metadata": {},
     "outputs": [],
     "prompt_number": 36
    },
    {
     "cell_type": "code",
     "collapsed": false,
     "input": [
      "M0 = pm.MCMC(radon_normal())"
     ],
     "language": "python",
     "metadata": {},
     "outputs": [],
     "prompt_number": 37
    },
    {
     "cell_type": "code",
     "collapsed": false,
     "input": [
      "M0.sample(10000, 5000)"
     ],
     "language": "python",
     "metadata": {},
     "outputs": [
      {
       "output_type": "stream",
       "stream": "stdout",
       "text": [
        "\r",
        " [---               8%                  ] 817 of 10000 complete in 0.5 sec"
       ]
      },
      {
       "output_type": "stream",
       "stream": "stdout",
       "text": [
        "\r",
        " [-------          19%                  ] 1946 of 10000 complete in 1.0 sec"
       ]
      },
      {
       "output_type": "stream",
       "stream": "stdout",
       "text": [
        "\r",
        " [-----------      30%                  ] 3030 of 10000 complete in 1.5 sec"
       ]
      },
      {
       "output_type": "stream",
       "stream": "stdout",
       "text": [
        "\r",
        " [---------------  41%                  ] 4128 of 10000 complete in 2.0 sec"
       ]
      },
      {
       "output_type": "stream",
       "stream": "stdout",
       "text": [
        "\r",
        " [-----------------50%                  ] 5076 of 10000 complete in 2.5 sec"
       ]
      },
      {
       "output_type": "stream",
       "stream": "stdout",
       "text": [
        "\r",
        " [-----------------58%--                ] 5856 of 10000 complete in 3.0 sec"
       ]
      },
      {
       "output_type": "stream",
       "stream": "stdout",
       "text": [
        "\r",
        " [-----------------66%-----             ] 6652 of 10000 complete in 3.5 sec"
       ]
      },
      {
       "output_type": "stream",
       "stream": "stdout",
       "text": [
        "\r",
        " [-----------------74%--------          ] 7461 of 10000 complete in 4.0 sec"
       ]
      },
      {
       "output_type": "stream",
       "stream": "stdout",
       "text": [
        "\r",
        " [-----------------83%-----------       ] 8330 of 10000 complete in 4.5 sec"
       ]
      },
      {
       "output_type": "stream",
       "stream": "stdout",
       "text": [
        "\r",
        " [-----------------91%--------------    ] 9114 of 10000 complete in 5.0 sec"
       ]
      },
      {
       "output_type": "stream",
       "stream": "stdout",
       "text": [
        "\r",
        " [-----------------99%----------------- ] 9986 of 10000 complete in 5.5 sec"
       ]
      },
      {
       "output_type": "stream",
       "stream": "stdout",
       "text": [
        "\r",
        " [-----------------100%-----------------] 10000 of 10000 complete in 5.5 sec"
       ]
      }
     ],
     "prompt_number": 38
    },
    {
     "cell_type": "markdown",
     "metadata": {},
     "source": [
      "One metric for model comparison is the [deviance information criterion](http://en.wikipedia.org/wiki/Deviance_information_criterion) (DIC), which appears to strongly favor the DP random effect (smaller values are better):"
     ]
    },
    {
     "cell_type": "code",
     "collapsed": false,
     "input": [
      "M0.dic"
     ],
     "language": "python",
     "metadata": {},
     "outputs": [
      {
       "metadata": {},
       "output_type": "pyout",
       "prompt_number": 39,
       "text": [
        "2133.4505016393855"
       ]
      }
     ],
     "prompt_number": 39
    },
    {
     "cell_type": "code",
     "collapsed": false,
     "input": [
      "M.dic"
     ],
     "language": "python",
     "metadata": {},
     "outputs": [
      {
       "metadata": {},
       "output_type": "pyout",
       "prompt_number": 40,
       "text": [
        "1979.3326935245454"
       ]
      }
     ],
     "prompt_number": 40
    },
    {
     "cell_type": "markdown",
     "metadata": {},
     "source": [
      "## Exercise: Random effects meta-analysis\n",
      "\n",
      "Recall the beta-blockers meta-analysis from Homework 2, where Carlin (1992) considers a Bayesian approach to meta-analysis, and includes examples of 22 trials of beta-blockers to prevent mortality after myocardial infarction. \n",
      "\n",
      "In one possible random effects model we assume the true effect (on a log-odds scale) $d_i$ in a trial $i$ is drawn from some population distribution. Let $r^C_i$ denote number of events in the control group in trial $i$, and $r^T_i$ denote events under active treatment in trial $i$. Our model is:\n",
      "\n",
      "$$\\begin{aligned}\n",
      "r^C_i &\\sim \\text{Binomial}\\left(p^C_i, n^C_i\\right) \\\\\n",
      "r^T_i &\\sim \\text{Binomial}\\left(p^T_i, n^T_i\\right) \\\\\n",
      "\\text{logit}\\left(p^C_i\\right) &= \\mu \\\\\n",
      "\\text{logit}\\left(p^T_i\\right) &= \\mu + \\delta_i \\\\\n",
      "\\delta_i &\\sim f\n",
      "\\end{aligned}$$\n",
      "\n",
      "Instead of assuming a Gaussian random effect $f$, experiment with Dirichlet process priors, and check whether it improves the resulting model."
     ]
    },
    {
     "cell_type": "code",
     "collapsed": false,
     "input": [
      "r_t_obs = [3, 7, 5, 102, 28, 4, 98, 60, 25, 138, 64, 45, 9, 57, 25, 33, 28, 8, 6, 32, 27, 22]\n",
      "n_t_obs = [38, 114, 69, 1533, 355, 59, 945, 632, 278,1916, 873, 263, 291, 858, 154, 207, 251, 151, 174, 209, 391, 680]\n",
      "r_c_obs = [3, 14, 11, 127, 27, 6, 152, 48, 37, 188, 52, 47, 16, 45, 31, 38, 12, 6, 3, 40, 43, 39]\n",
      "n_c_obs = [39, 116, 93, 1520, 365, 52, 939, 471, 282, 1921, 583, 266, 293, 883, 147, 213, 122, 154, 134, 218, 364, 674]\n",
      "N = len(n_c_obs)"
     ],
     "language": "python",
     "metadata": {},
     "outputs": [],
     "prompt_number": 41
    },
    {
     "cell_type": "code",
     "collapsed": false,
     "input": [
      "# Write your answer here"
     ],
     "language": "python",
     "metadata": {},
     "outputs": [],
     "prompt_number": 42
    },
    {
     "cell_type": "markdown",
     "metadata": {},
     "source": [
      "## References\n",
      "\n",
      "Teh, Y. W., & Jordan, M. I. (2010). [Hierarchical Bayesian nonparametric models with applications](http://www.cs.berkeley.edu/~jordan/papers/teh-jordan-bnp.pdf). Bayesian nonparametrics, 158\u2013207.\n",
      "\n",
      "---"
     ]
    },
    {
     "cell_type": "code",
     "collapsed": false,
     "input": [
      "from IPython.core.display import HTML\n",
      "def css_styling():\n",
      "    styles = open(\"styles/custom.css\", \"r\").read()\n",
      "    return HTML(styles)\n",
      "css_styling()"
     ],
     "language": "python",
     "metadata": {},
     "outputs": [
      {
       "html": [
        "<style>\n",
        "    @font-face {\n",
        "        font-family: \"Computer Modern\";\n",
        "        src: url('http://mirrors.ctan.org/fonts/cm-unicode/fonts/otf/cmunss.otf');\n",
        "    }\n",
        "    div.cell{\n",
        "        width: 90%;\n",
        "/*        margin-left:auto;*/\n",
        "/*        margin-right:auto;*/\n",
        "    }\n",
        "    ul {\n",
        "        line-height: 145%;\n",
        "        font-size: 90%;\n",
        "    }\n",
        "    li {\n",
        "        margin-bottom: 1em;\n",
        "    }\n",
        "    h1 {\n",
        "        font-family: Helvetica, serif;\n",
        "    }\n",
        "    h4{\n",
        "        margin-top: 12px;\n",
        "        margin-bottom: 3px;\n",
        "       }\n",
        "    div.text_cell_render{\n",
        "        font-family: Computer Modern, \"Helvetica Neue\", Arial, Helvetica, Geneva, sans-serif;\n",
        "        line-height: 145%;\n",
        "        font-size: 130%;\n",
        "        width: 90%;\n",
        "        margin-left:auto;\n",
        "        margin-right:auto;\n",
        "    }\n",
        "    .CodeMirror{\n",
        "            font-family: \"Source Code Pro\", source-code-pro,Consolas, monospace;\n",
        "    }\n",
        "/*    .prompt{\n",
        "        display: None;\n",
        "    }*/\n",
        "    .text_cell_render h5 {\n",
        "        font-weight: 300;\n",
        "        font-size: 16pt;\n",
        "        color: #4057A1;\n",
        "        font-style: italic;\n",
        "        margin-bottom: 0.5em;\n",
        "        margin-top: 0.5em;\n",
        "        display: block;\n",
        "    }\n",
        "\n",
        "    .warning{\n",
        "        color: rgb( 240, 20, 20 )\n",
        "        }\n",
        "</style>\n",
        "<script>\n",
        "    MathJax.Hub.Config({\n",
        "                        TeX: {\n",
        "                           extensions: [\"AMSmath.js\"]\n",
        "                           },\n",
        "                tex2jax: {\n",
        "                    inlineMath: [ ['$','$'], [\"\\\\(\",\"\\\\)\"] ],\n",
        "                    displayMath: [ ['$$','$$'], [\"\\\\[\",\"\\\\]\"] ]\n",
        "                },\n",
        "                displayAlign: 'center', // Change this to 'center' to center equations.\n",
        "                \"HTML-CSS\": {\n",
        "                    styles: {'.MathJax_Display': {\"margin\": 4}}\n",
        "                }\n",
        "        });\n",
        "</script>"
       ],
       "metadata": {},
       "output_type": "pyout",
       "prompt_number": 43,
       "text": [
        "<IPython.core.display.HTML at 0x10d6a8a90>"
       ]
      }
     ],
     "prompt_number": 43
    }
   ],
   "metadata": {}
  }
 ]
}